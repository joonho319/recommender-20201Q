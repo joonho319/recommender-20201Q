{
 "cells": [
  {
   "cell_type": "markdown",
   "metadata": {
    "nbpresent": {
     "id": "8066e616-7baa-4122-ae6d-9e25823dd27a"
    }
   },
   "source": [
    "╔══<i><b>Public-AI</b></i>════════════════════════════════╗\n",
    "### ✎&nbsp;&nbsp;week 1. 고객 데이터와 개인화 추천시스템\n",
    "\n",
    "# Section 2. 아이템 간 연관 관계를 활용한 추천\n",
    "\n",
    "앞서 Section 1에서는 데이터의 기본적인 통계치에 따라 정렬하여 추천 할 상품을 정하는 비개인화 추천 방식을 배웠습니다. 이번에는 아이템 간의 연관관계를 수치화 해보고, 이를 활용한 추천시스템을 만들어보겠습니다. \n",
    "\n",
    "\n",
    "### _Objective_ \n",
    "\n",
    "* [아이템 간 관계를 나타내는 여러가지 지표 ] 아이템의 연관 관계를 파악하는 세가지 지표 (Support, Confidence, Lift)를 살펴봅니다.\n",
    "* [빈발집합 찾기 : Apriori 알고리즘과 FPGrowth 알고리즘] 아이템의 연관 관계를 빠르게 파악하는 알고리즘인 Apriori 알고리즘에 대해 배워보고, MLEXTEND를 활용해 실습해보도록 하겠습니다.<br>\n",
    "\n",
    "╚════════════════════════════════════════╝"
   ]
  },
  {
   "cell_type": "code",
   "execution_count": null,
   "metadata": {
    "nbpresent": {
     "id": "629b91bb-723e-4a16-b6ee-641fbda28eea"
    }
   },
   "outputs": [],
   "source": [
    "%matplotlib inline\n",
    "import pymysql\n",
    "import os\n",
    "import numpy as np\n",
    "import pandas as pd\n",
    "import matplotlib.pyplot as plt\n",
    "from tensorflow.keras.utils import get_file\n",
    "import scipy\n",
    "\n",
    "# 영화 포스터를 가져와 주피터에서 볼 수 있도록 만들어주는 메소드\n",
    "def display_poster(if_item, then_item):\n",
    "    import requests\n",
    "    from io import BytesIO\n",
    "    from PIL import Image\n",
    "    \n",
    "    def get_poster(movie_id):\n",
    "        url = \"https://pai-datasets.s3.ap-northeast-2.amazonaws.com/recommender_systems/movielens/img/POSTER_20M_FULL/{}.jpg\".format(movie_id)\n",
    "        try:\n",
    "            response = requests.get(url)\n",
    "            b = BytesIO(response.content)\n",
    "            img = np.asarray(Image.open(b))\n",
    "        except:\n",
    "            img = np.zeros((200,100,3))\n",
    "        return img\n",
    "    \n",
    "    def get_movie_title(movie_id):\n",
    "        global movie_df\n",
    "        return movie_df.loc[movie_df.id==movie_id,'title'].iloc[0]\n",
    "    \n",
    "    if_image = get_poster(list(if_item)[0])\n",
    "    if_title = get_movie_title(list(if_item)[0])\n",
    "    then_image = get_poster(list(then_item)[0])\n",
    "    then_title = get_movie_title(list(then_item)[0])\n",
    "\n",
    "    fig = plt.figure(figsize=(8,8))\n",
    "    fig.set_size_inches((20,5))    \n",
    "    \n",
    "    ax = fig.add_subplot(1,2,1)\n",
    "    ax.set_title(f'[antecedent]{if_title}')\n",
    "    ax.imshow(if_image)\n",
    "\n",
    "    ax = fig.add_subplot(1,2,2)\n",
    "    ax.set_title(f'[consequent]{then_title}')\n",
    "    ax.imshow(then_image)    \n",
    "    plt.tight_layout()\n",
    "    plt.show()    "
   ]
  },
  {
   "cell_type": "markdown",
   "metadata": {
    "nbpresent": {
     "id": "529fe5a0-52b6-4800-9ff0-c2bc992df4a2"
    }
   },
   "source": [
    "# \\[ 아이템 간 관계를 나타내는 여러가지 지표 \\]\n",
    "----\n",
    "\n",
    "## 1. 연관분석이란? \n",
    "연관분석(Association Analysis)은 대용량의 거래(transaction) 데이터로부터 \"X를 구매했으면, Y를 구매할 것이다\" 형식의 아이템 간 연관 관계를 분석하는 방법입니다. <br>\n",
    "보통 **장바구니 분석(Market Basket Analysis)**로 불리기도 합니다. 즉, 고객의 장바구니에 어떤 아이템이 동시 담겼는지 패턴을 파악하여 상품을 추천하는 방법입니다. <br>\n",
    "\n",
    "<img src = 'https://i.imgur.com/ROqlQxD.png'>\n",
    "\n",
    "장바구니 분석 이야기를 하면 오래 전부터 구전동화처럼 항상 등장하는 사례가 있습니다. 바로 기저귀와 맥주 이야기입니다. \n",
    "\n",
    "````\n",
    "1990년대 중반 한 대형 마트에서 있었던 일이다. 매주 수요일 저녁, 기저귀와 맥주 매출이 동반 상승하는 현상이 반복됐다. \n",
    "이 같은 사실은 마트 판매관리부장이 어느 날 우연히 발견했다. \n",
    "그는 기저귀와 맥주 간 기묘한 상관관계를 추적하기 위해 기저귀 진열대 위치를 일부러 맥주 진열대 가까운 곳으로 바꿨다. \n",
    "그랬더니 놀랍게도 다음 달 기저귀와 맥주 모두 매출이 전달의 5배로 뛰었다.\n",
    "````\n",
    "\n",
    "그럼 영화를 추천할 때 연관분석을 적용하려면 어떻게 해야 할까요? 영화A와 영화B의 관계는 어떻게 찾을 수 있을까요? <br>\n",
    "장보기 데이터에서 '장바구니'가 연관있는 상품을 찾는 분석 단위가 되었다면, 영화 데이터에서는 분석 단위가 무엇일까요? <br>\n",
    "<br>\n",
    "영화는 유통 데이터와 다르게 분석 단위가 '장바구니'가 아니라 '유저'일 것입니다. <br>\n",
    "맥주와 기저귀라는 두 아이템이 한 장바구니에 담기는 경우가 많다는 것을 통해 두 아이템의 상관관계를 찾아냈다면, <br>\n",
    "영화A와 영화B를 모두 만족스럽게 본 유저가 얼마나 되는지를 통해 영화 간의 상관관계를 찾아낼 수 있을 것입니다. <br>\n",
    "Movie-Lense 데이터를 이용해 유저를 매개로 영화간의 관계를 파악해보고, 특정 영화를 본 유저에게 추천할 영화를 선정해봅시다.<br>"
   ]
  },
  {
   "cell_type": "markdown",
   "metadata": {
    "nbpresent": {
     "id": "7dab7577-9c69-4614-9ef8-c2294b266e2b"
    }
   },
   "source": [
    "## 2. 연관 분석의 주요 지표\n",
    "\n",
    "연관분석에서는 크게 지지도, 신뢰도, 리프트라는 세 가지 지표를 통해 아이템 간의 관계를 표현합니다. 각각의 의미를 알아봅시다. <br>\n",
    "\n",
    "스타워즈2를 재미있게 본 유저가 있다고 합시다. 이 유저에게 어떤 영화를 추천하는 것이 좋을까요?  <br>\n",
    " <br>\n",
    "가장 단순한 방법은 각각의 영화를 전체 유저 중에 얼마나 되는 사람이 좋아하는지 알아보고, 많은 인기(혹은 지지)를 받은 영화를 찾아서 추천하는 것입니다. <br>\n",
    "예를 들면 대부분 사람들이 타이타닉을 선호하는 만큼 해당 유저도 타이타닉을 선호할 거으로 보는 것이죠. <br>\n",
    " <br>\n",
    "이 확률값을 '지지도(Support)'라고 부릅니다. 전체 유저 중에 스타워즈 3, 스타트렉, 러브액츄얼리, 타이타닉을 선호하는 유저의 수를 각각 구하면 알 수 있습니다.<br>\n",
    "<br>"
   ]
  },
  {
   "cell_type": "markdown",
   "metadata": {
    "nbpresent": {
     "id": "275c1d5b-c806-4e41-845e-153b1875f147"
    }
   },
   "source": [
    "![Imgur](https://i.imgur.com/zfy6GcP.jpg)"
   ]
  },
  {
   "cell_type": "markdown",
   "metadata": {
    "nbpresent": {
     "id": "62f7ccf4-f658-4238-ad06-6f4017af6b40"
    }
   },
   "source": [
    "\"유저가 스타워즈2를 재미있게 보았다\"는 정보를 이용해서 영화 스타워즈3를 좋아할 확률을 보다 정확하게 알 수는 없을까요?<br>\n",
    "<br>\n",
    "스타워즈2를 좋아하는 유저 중에는 대상 영화를 좋아하는 유저가 얼마나 되는지 알아볼 수 있을 것입니다. <br>\n",
    "스타워즈2를 좋아하는 유저들 중에 대상 영화를 좋아했던 유저가 많다면, 이 유저 역시 대상 영화를 좋아할 확률이 높다고 보는 것이죠. <br>\n",
    "<br>\n",
    "이 확률값을 '신뢰도(Confidence)'라고 하며, 영화X를 좋아하는 유저 중에 영화Y를 좋아하는 유저(즉, 영화X와 영화Y를 모두 좋아한 유저)의 비율로 계산합니다. <br>\n",
    "<br>"
   ]
  },
  {
   "cell_type": "markdown",
   "metadata": {
    "nbpresent": {
     "id": "6ebc43eb-997b-40ec-9a76-ab0285f5f1f4"
    }
   },
   "source": [
    "![Imgur](https://i.imgur.com/3upYBEg.jpg)"
   ]
  },
  {
   "cell_type": "markdown",
   "metadata": {
    "nbpresent": {
     "id": "f6d56959-0579-48a8-a65d-2b06082fb325"
    }
   },
   "source": [
    "그렇다면 스타워즈2를 선호했다는 사실이 대상 영화 대한 선호를 파악하는데 얼마나 중요했을까요?<br>\n",
    "<br>\n",
    "유저 전반적으로 대상 영화 Y를 좋아할 확률(지지도)보다 스타워즈2라는 영화를 좋아하는 사람 중에 대상 영화 Y를 좋아할 확률(신뢰도)이 더 크다면,<br>\n",
    "스타워즈2를 선호한다는 사실이 대상 영화Y를 선호할 것으로 예상하는 데에 대한 확신을 높여줄 것입니다. <br>\n",
    "위 이미지를 보면, 신뢰도 값에 따라 스타워즈2를 좋아해했던 사람이 러브 액추얼리보다는 스타워즈3를 좋아할 것이라고 확신할 수 있는 것이죠. <br>\n",
    "<br>\n",
    "$$confidence(StarWars2 \\rightarrow StarWars3) > support(StarWars3) $$\n",
    "<br>\n",
    "<br>\n",
    "반면에, 전반적으로 타이타닉을 좋아할 확률이 스타워즈2를 좋아하는 사람 중에 타이타닉을 좋아할 확률(신뢰도)이 더 높다면,\n",
    "타이타닉과 스타워즈2의 연관관계는 높지 않을 것입니다.<br>\n",
    "<br>\n",
    "$$confidence(StarWars2 \\rightarrow Titanic) < support(Titanic) $$\n",
    "<br>\n",
    "<br>\n",
    "이처럼 지지도와 신뢰도를 이용해 아이템의 관계를 파악하는 지표가 바로 리프트(Lift)입니다. 리프트는 어떻게 구할까요?<br>\n",
    "$$lift(StarWars2 \\rightarrow Y) = \\frac{confidence(StarWars2 \\rightarrow Y)}{support(Y)}$$\n",
    "<br>\n",
    "리프트가 1보다 크면 전자의 상황을, 1보다 작으면 후자의 상황을 뜻하는 것이죠.<br>\n",
    "스타워즈2를 재미있게 보았다는 정보를 얻고 나니 대상 영화Y를 재미있게 볼 확률이 기본 확률값(지지도)에 비해 높아졌는지, 낮아졌는지 확인하는 것이죠. <br>\n",
    "'리프트'라는 지표의 이름은 \"어떤 증거가 신뢰도를 높여주는가?\"라는 의미에서 나온 것입니다.<br>"
   ]
  },
  {
   "cell_type": "markdown",
   "metadata": {
    "nbpresent": {
     "id": "1f0f25f4-96ad-402d-8c7d-d8198a4ecf79"
    }
   },
   "source": [
    "![Imgur](https://i.imgur.com/HYTdKsc.jpg)"
   ]
  },
  {
   "cell_type": "markdown",
   "metadata": {
    "nbpresent": {
     "id": "37c1b346-c7bd-49fa-a877-bc50c5bfb232"
    }
   },
   "source": [
    "이제 본격적으로 실제 데이터를 이용해 세 가지 지표를 구하고, 이러한 영화 간의 연관관계를 기반으로 추천을 해봅시다."
   ]
  },
  {
   "cell_type": "markdown",
   "metadata": {
    "nbpresent": {
     "id": "6e1a8ddd-9969-4730-85e2-6c0ad1bba821"
    }
   },
   "source": [
    "## 1. 데이터 가져오기\n",
    "\n",
    "이전 시간에 배운 `pymysql`과 `pandas`를 통해 데이터를 가져올 수 있을 것입니다. 하지만 수업에서 사용하기에는 SQL 구문은 느릴 수 있어, 미리 CSV 파일로 작성된 코드들을 다운받도록 하겠습니다."
   ]
  },
  {
   "cell_type": "code",
   "execution_count": null,
   "metadata": {
    "nbpresent": {
     "id": "5ef0cf3c-49bc-4465-ad36-6b6affa769a0"
    }
   },
   "outputs": [],
   "source": [
    "# 데이터를 다운받은 후, 로컬 컴퓨터에 저장합니다.\n",
    "# 한번 다운받은 후에는 다운받은 데이터로 바로 불러오게 됩니다.\n",
    "movie_path = get_file(\"movies.csv\",\n",
    "                      \"https://pai-datasets.s3.ap-northeast-2.amazonaws.com/recommender_systems/movielens/datasets/movies.csv\")\n",
    "movie_df = pd.read_csv(movie_path)\n",
    "\n",
    "genre_path = get_file(\"movies.csv\",\n",
    "                      \"https://pai-datasets.s3.ap-northeast-2.amazonaws.com/recommender_systems/movielens/datasets/movies.csv\")\n",
    "genre_df = pd.read_csv(genre_path)\n",
    "\n",
    "rating_path = get_file(\"ratings.csv\",\n",
    "                       \"https://pai-datasets.s3.ap-northeast-2.amazonaws.com/recommender_systems/movielens/datasets/ratings.csv\")\n",
    "rating_df = pd.read_csv(rating_path)"
   ]
  },
  {
   "cell_type": "markdown",
   "metadata": {
    "nbpresent": {
     "id": "f474f6fe-0eb4-457c-b392-d333cd2879c1"
    }
   },
   "source": [
    "\n",
    "\n",
    "## 2. 데이터 전처리하기\n",
    "---\n"
   ]
  },
  {
   "cell_type": "markdown",
   "metadata": {
    "nbpresent": {
     "id": "4274ca7b-c106-46b0-b19a-795aeb4374e4"
    }
   },
   "source": [
    "### (1) 평점 정보 중에서 선호 영화 추리기\n",
    "`rating_df`에는 각 유저가 영화마다 평점을 매긴 정보가 있습니다. 이 데이터를 그대로 사용하면 될까요? <br>\n",
    "아닙니다. 비슷한 영화를 찾으려면, 어떤 유저가 '영화를 보았다'가 아니라 '영화를 보고 만족했다'를 가지고 관계도를 그려야 할 것입니다. <br>\n",
    "유저가 평점을 줬다고 해서 만족한 것은 아닐 것이기 때문이죠. <br>"
   ]
  },
  {
   "cell_type": "code",
   "execution_count": null,
   "metadata": {
    "nbpresent": {
     "id": "d31814a4-56d4-411b-a3c2-6cc8ad9ed466"
    }
   },
   "outputs": [],
   "source": [
    "display(rating_df.head())\n",
    "\n",
    "unique_ratings = (\n",
    "    rating_df # 평점 데이터에서\n",
    "    .rating # 평점 중\n",
    "    .unique() # 고유한 값들을 가져오자\n",
    ")\n",
    "np.sort(unique_ratings)"
   ]
  },
  {
   "cell_type": "markdown",
   "metadata": {
    "nbpresent": {
     "id": "b718f231-c301-4b73-891a-f5517bc1c493"
    }
   },
   "source": [
    "평점 정보는 0.5~5.0점까지 0.5점 단위로 구성되어 있습니다. <br>\n",
    "5점일수록 영화를 긍정적으로 평가한 경우고, 0점에 가까울수록 낮게 평가한 경우입니다. <br>\n",
    "이번에는 4점 이상 영화를 평가한 경우를 긍정적으로 평가한 것으로 파악하고, 4점 이상 영화를 평가한 경우만을 뽑아내도록 하겠습니다. <br>"
   ]
  },
  {
   "cell_type": "code",
   "execution_count": null,
   "metadata": {
    "nbpresent": {
     "id": "ad6d95ee-82a4-451f-8b5b-141ef5285354"
    }
   },
   "outputs": [],
   "source": [
    "# 평점 데이터(rating_df) 중에서 4점 이상 평가를 높게 준 것들만 추려내기\n",
    "\n"
   ]
  },
  {
   "cell_type": "markdown",
   "metadata": {
    "nbpresent": {
     "id": "135047dd-e27f-486b-b4c8-84716cc55f40"
    }
   },
   "source": [
    "### (3) 영화 정보를 <장바구니> 단위로 나누기\n",
    "\n",
    "앞서 언급하였듯이, 영화는 마트에서 물건를 사는 것과 다르게 동시에 두 영화를 틀어놓고 볼 수는 없습니다. <br>\n",
    "때문에 각 유저가 긍정적으로 평가한 영화들을 하나의 장바구니로 해석합니다. <br>\n",
    "유저별로 긍정적으로 평가한 영화를 뽑아봅시다.<br>"
   ]
  },
  {
   "cell_type": "code",
   "execution_count": null,
   "metadata": {
    "nbpresent": {
     "id": "da1ffa67-ad9a-4872-b390-0f0e057d10eb"
    }
   },
   "outputs": [],
   "source": [
    "# 유저 별 장바구니 구성하기\n",
    "# key - user id\n",
    "# value - set of movie id\n",
    "baskets_series\n",
    "\n"
   ]
  },
  {
   "cell_type": "markdown",
   "metadata": {
    "nbpresent": {
     "id": "9da05044-a9cc-4abe-ad13-ef69a1d6ed9c"
    }
   },
   "source": [
    "총 유저의 수(=장바구니의 갯수)는 아래와 같습니다. 각 장바구니는 한 유저가 동시에 긍정적으로 평가한 영화들을 묶어둔 것입니다."
   ]
  },
  {
   "cell_type": "code",
   "execution_count": null,
   "metadata": {
    "nbpresent": {
     "id": "d84adcdd-7860-4a9b-903e-b11fd94773da"
    }
   },
   "outputs": [],
   "source": [
    "# 총 유저의 수 확인하기\n"
   ]
  },
  {
   "cell_type": "markdown",
   "metadata": {
    "nbpresent": {
     "id": "2e046f26-4414-44e4-84e5-6cd9a7dcbc37"
    }
   },
   "source": [
    "위와 같이 유저 별 **장바구니**를 구성하게 되면 우리는 각 유저 별로 특정 영화를 봤는지 보지 않았는지를 빠르게 파악할 수 있습니다.<br>\n",
    "set은 부등호 연산을 지원하는데, 부등호 기호를 통해 포함관계를 파악할 수 있습니다.<br>\n",
    "\n",
    "````python\n",
    "a = set([2,3,4,6,8])\n",
    "b = set([2,4,8])\n",
    "c = set([3,5])\n",
    "\n",
    "print(\"a는 b에 포함되어 있다  -> \", a<b)\n",
    "print(\"a는 c에 포함되어 있다  -> \", a<c)\n",
    "````\n",
    "\n",
    "이를 통해 특정 영화를 본 유저(장바구니)를 가져오려면 아래와 같이 코드를 작성하면 됩니다."
   ]
  },
  {
   "cell_type": "code",
   "execution_count": null,
   "metadata": {
    "nbpresent": {
     "id": "2e7aa24f-38bd-44f6-8755-278ea9bed25d"
    }
   },
   "outputs": [],
   "source": [
    "# 1번 영화를 본 장바구니(유저) 가져오기\n"
   ]
  },
  {
   "cell_type": "code",
   "execution_count": null,
   "metadata": {
    "nbpresent": {
     "id": "a001117a-1ba9-43c9-853b-581a7dcbe7d4"
    }
   },
   "outputs": [],
   "source": [
    "# 1,5번 영화를 본 장바구니(유저) 가져오기\n"
   ]
  },
  {
   "cell_type": "markdown",
   "metadata": {
    "nbpresent": {
     "id": "95c34de3-2574-4b2f-b37f-14f462604658"
    }
   },
   "source": [
    "### (3) 장바구니에 영화가 있는지 확인하기\n",
    "\n",
    "장바구니 분석을 하기 위해서는 장바구니에 물건의 조합(pair)이 담겨있는지를 확인해야 합니다. 영화 추천에서는 어떤 영화 조합(pair)를 모두 본 유저가 있는지 확인해야 할 것입니다. <br>\n",
    "예를 들어 아래 5개 영화를 모두 본 유저를 찾고 싶다면 어떻게 해야 할까요? "
   ]
  },
  {
   "cell_type": "code",
   "execution_count": null,
   "metadata": {
    "nbpresent": {
     "id": "19dcf714-33a8-4d6e-b123-41a4d69b4bce"
    }
   },
   "outputs": [],
   "source": [
    "items = [5378, 33493, 6942, 1721, 68358]\n",
    "display(movie_df[movie_df.id.isin(items)])\n",
    "\n",
    "# 위의 아이템들을 모두 본 장바구니(유저) 가져오기\n",
    "\n"
   ]
  },
  {
   "cell_type": "markdown",
   "metadata": {
    "nbpresent": {
     "id": "1829a7a9-1813-4a21-b17c-c898fc3f821a"
    }
   },
   "source": [
    "## 2. 연관분석 평가척도 계산하기\n",
    "---\n"
   ]
  },
  {
   "cell_type": "markdown",
   "metadata": {
    "nbpresent": {
     "id": "88ba2a30-82f5-40dc-beb9-4f4983504241"
    }
   },
   "source": [
    "### (1) 지지도 (Support)\n",
    "$$\n",
    "S(X) = \\frac{Freq(X)}{N}  \\\\\n",
    "S(X, Y) = \\frac{Freq(X,Y)}{N} \n",
    "$$\n",
    "\n",
    "일반적으로 장바구니 분석에서 지지도(Support)는 전체 거래 횟수에서 아이템을 포함하는 거래 횟수를 나누어준 값입니다.<br>\n",
    "지지도를 단일 아이템에 대해 계산하면 이 아이템의 거래가 얼마나 자주 이루어졌는지 평가해줍니다.<br>\n",
    "한편 두 아이템의 조합(pair)에 대한 지지도를 계산하면, 두 아이템이 동시에 팔린 거래가 얼마나 되는지 알 수 있습니다. <br>\n",
    "<br>\n",
    "영화 추천에 적용한다면 어떨까요? 전체 유저 중 영화 A를 좋게 평가한 유저의 비중이 전체 유저 중 얼마나 되는지,<br>\n",
    "혹은 A와 B를 모두 좋게 평가한 유저의 비중이 전체 유저 중에 얼마나 되는지 알려주는 지표가 될 것입니다."
   ]
  },
  {
   "cell_type": "code",
   "execution_count": null,
   "metadata": {
    "nbpresent": {
     "id": "6e1a1766-7f4b-4cc7-8d49-08fa7b75abee"
    }
   },
   "outputs": [],
   "source": [
    "def calculate_support(baskets_series, X):\n",
    "    # TODO : baskets_series에서 X를 포함하는 비율(support) 계산하기\n",
    "    return"
   ]
  },
  {
   "cell_type": "markdown",
   "metadata": {
    "nbpresent": {
     "id": "043f5320-cfef-42c4-8735-541ac10349a7"
    }
   },
   "source": [
    "먼저 단일 영화에 대한 지지도를 살펴봅시다. "
   ]
  },
  {
   "cell_type": "code",
   "execution_count": null,
   "metadata": {
    "nbpresent": {
     "id": "63d1b62a-9602-4fbd-8901-73584b7fbedd"
    }
   },
   "outputs": [],
   "source": [
    "support = calculate_support(baskets_series, [5378])\n",
    "print(f\"스타워즈 2가 포함된 바스켓의 비율 : {support:.3%}\")\n",
    "support = calculate_support(baskets_series, [33493])\n",
    "print(f\"스타워즈 3가 포함된 바스켓의 비율 : {support:.3%}\")\n",
    "support = calculate_support(baskets_series, [68358])\n",
    "print(f\"스타트렉이 포함된 바스켓의 비율 : {support:.3%}\")\n",
    "support = calculate_support(baskets_series, [6942])\n",
    "print(f\"러브 액츄얼리가 포함된 바스켓의 비율 : {support:.3%}\")\n",
    "support = calculate_support(baskets_series, [1721])\n",
    "print(f\"타이타닉이 포함된 바스켓의 비율 : {support:.3%}\")"
   ]
  },
  {
   "cell_type": "markdown",
   "metadata": {
    "nbpresent": {
     "id": "c35b1a49-c2fa-4a29-95d7-a853c28f6497"
    }
   },
   "source": [
    "전체 유저중에 타이타닉을 좋게 평가한 유저의 비율이 10% 정도로 가장 많은 것을 알 수 있습니다. <br>\n",
    "이번에는 스타워즈2와 함께 좋게 평가된 영화는 어떤 것이 있는지 살펴봅시다. "
   ]
  },
  {
   "cell_type": "code",
   "execution_count": null,
   "metadata": {
    "nbpresent": {
     "id": "b187d927-f090-4248-94b9-ce6f998c7892"
    }
   },
   "outputs": [],
   "source": [
    "support = calculate_support(baskets_series, [5378, 33493])\n",
    "print(f\"스타워즈 2와 스타워즈 3가 동시에 포함된 바스켓의 비율 : {support:.3%}\")\n",
    "support = calculate_support(baskets_series, [5378, 68358])\n",
    "print(f\"스타워즈 2와 스타트렉이 동시에 포함된 바스켓의 비율 : {support:.3%}\")\n",
    "support = calculate_support(baskets_series, [5378, 6942])\n",
    "print(f\"스타워즈 2와 러브 액츄얼리가 동시에 포함된 바스켓의 비율 : {support:.3%}\")\n",
    "support = calculate_support(baskets_series, [5378, 1721])\n",
    "print(f\"스타워즈 2와 타이타닉이 동시에 포함된 바스켓의 비율 : {support:.3%}\")"
   ]
  },
  {
   "cell_type": "markdown",
   "metadata": {
    "nbpresent": {
     "id": "df14406b-32c8-4e56-93e0-06cdab0e3bb0"
    }
   },
   "source": [
    "결과를 볼까요? 스타워즈2와 스타워즈3를 모두 좋게 평가한 유저는 전체 유저의 1.884%인 반면, 스타워즈2와 러브 액츄얼리를 모두 좋게 평가한 유저는 전체 유저의 0.492%입니다. "
   ]
  },
  {
   "cell_type": "markdown",
   "metadata": {
    "nbpresent": {
     "id": "5d8871bf-6680-4817-b5f4-e8de814ff036"
    }
   },
   "source": [
    "### (2) 신뢰도 (Confidence)\n",
    "$$C(X \\rightarrow Y) = \\frac{Freq(X,Y)}{Freq(X)}$$\n",
    "\n",
    "장바구니 분석에서 신뢰도는 아이템 X를 구매한 장바구니 수로 아이템 Y와 X를 함께 구매한 장바구니 수를 나누어준 값입니다.<br> \n",
    "이는 X를 구매했을 때, Y를 얼마나 많이 구매하는지를 평가하는 지표입니다.<br>\n",
    "<br>\n",
    "영화 추천에 적용한다면 어떨까요? 영화A를 좋게 평가한 유저 중 영화 A와 B를 모두 좋게 평가한 유저의 비율을 나타내줄 것입니다. <br>\n",
    "위 수식은 사실 2개의 지지도 정보로 구할 수 있습니다.\n",
    "\n",
    "$$C(X \\rightarrow Y) = \\frac{Freq(X,Y)}{Freq(X)} = \\frac{Freq(X,Y)/N}{Freq(X)/N} = \\frac{S(X,Y)}{S(X)}\n",
    "$$\n",
    "지지도를 이용해 신뢰도를 계산해 보도록 하겠습니다."
   ]
  },
  {
   "cell_type": "code",
   "execution_count": null,
   "metadata": {
    "nbpresent": {
     "id": "0360c933-7818-4b8f-b30d-bc0b9ef48c43"
    }
   },
   "outputs": [],
   "source": [
    "def calculate_confidence(baskets_series, X, Y):\n",
    "    # baskets_series 중 X를 포함하는 바스켓 중에서 Y를 포함하는 바스켓의 비율(Confidence) 계산하기\n",
    "    return "
   ]
  },
  {
   "cell_type": "code",
   "execution_count": null,
   "metadata": {
    "nbpresent": {
     "id": "8a9a44fa-3284-4bd8-a847-62308de9fbea"
    }
   },
   "outputs": [],
   "source": [
    "confidence = calculate_confidence(baskets_series, [5378], [33493])\n",
    "print(f\"스타워즈 2를 긍정적으로 평가한 사람이 스타워즈 3를 긍정적으로 평가할 확률 : {confidence:.3%}\")\n",
    "confidence = calculate_confidence(baskets_series, [5378], [68358])\n",
    "print(f\"스타워즈 2를 긍정적으로 평가한 사람이 스타트렉를 긍정적으로 평가할 확률 : {confidence:.3%}\")\n",
    "confidence = calculate_confidence(baskets_series, [5378], [6942])\n",
    "print(f\"스타워즈 2를 긍정적으로 평가한 사람이 러브 액츄얼리를 긍정적으로 평가할 확률 : {confidence:.3%}\")\n",
    "confidence = calculate_confidence(baskets_series, [5378],[1721])\n",
    "print(f\"스타워즈 2를 긍정적으로 평가한 사람이 타이타닉을 긍정적으로 평가할 확률 : {confidence:.3%}\")"
   ]
  },
  {
   "cell_type": "markdown",
   "metadata": {
    "nbpresent": {
     "id": "56cc3fa0-7056-471f-8c9b-f27a76d42fe9"
    }
   },
   "source": [
    "결과를 살펴보겠습니다. 지지도에서는 조합간에 수치 차이가 크지 않았다면, 신뢰도의 경우에는 스타워즈3와의 지표가 다른 조합과 큰 차이로 높게 나타남을 알 수 있습니다. "
   ]
  },
  {
   "cell_type": "markdown",
   "metadata": {
    "nbpresent": {
     "id": "810feb8a-20b5-41ab-a625-7c7a009bc8fb"
    }
   },
   "source": [
    "### (3) 리프트 (Lift)\n",
    "\n",
    "$$\n",
    "L(X\\rightarrow Y) = \\frac{C(X \\rightarrow Y)}{S(Y)}\n",
    "$$\n",
    "\n",
    "장바구니 분석에서 리프트는 Y를 구매한 사람의 비율($S(Y)$)보다 X를 구매한 사람 중 Y도 구매한 사람의 비율($C(X \\rightarrow Y)$)이 높다면, <br>\n",
    "즉 리프트가 1보다 크다면($L(X\\rightarrow Y)>1$) X와 Y의 관계 강도가 강하다고 봅니다.<br>\n",
    "<br>\n",
    "영화에서는 어떨까요? 직접 계산해봅시다."
   ]
  },
  {
   "cell_type": "code",
   "execution_count": null,
   "metadata": {
    "nbpresent": {
     "id": "5f8b0acc-0008-4a14-b38a-1b21c1f64391"
    }
   },
   "outputs": [],
   "source": [
    "def calculate_lift(baskets_series, X, Y):\n",
    "    # baskets_series 중에서 X에 대한 Y의 리프트 계산하기\n",
    "    return "
   ]
  },
  {
   "cell_type": "code",
   "execution_count": null,
   "metadata": {
    "nbpresent": {
     "id": "7da83cbf-cd3a-4f64-af94-213b624eb9fa"
    }
   },
   "outputs": [],
   "source": [
    "lift = calculate_lift(baskets_series, [5378], [33493])\n",
    "print(f\"스타워즈 2를 긍정적으로 평가한 사람이 스타워즈 3를 긍정적으로 평가하는 것에 대한 리프트 : {lift:.3f}\")\n",
    "lift = calculate_lift(baskets_series, [5378], [68358])\n",
    "print(f\"스타워즈 2를 긍정적으로 평가한 사람이 스타트렉를 긍정적으로 평가하는 것에 대한 리프트 : {lift:.3f}\")\n",
    "lift = calculate_lift(baskets_series, [5378], [6942])\n",
    "print(f\"스타워즈 2를 긍정적으로 평가한 사람이 러브 액츄얼리를 긍정적으로 평가하는 것에 대한 리프트 : {lift:.3f}\")\n",
    "lift = calculate_lift(baskets_series, [5378], [1721])\n",
    "print(f\"스타워즈 2를 긍정적으로 평가한 사람이 타이타닉을 긍정적으로 평가하는 것에 대한 리프트 : {lift:.3f}\")"
   ]
  },
  {
   "cell_type": "markdown",
   "metadata": {
    "nbpresent": {
     "id": "b682cb62-cc66-4429-8247-c6fe8a89c469"
    }
   },
   "source": [
    "이를 통해 우리는 스타워즈 2는 같은 시리즈 물인 스타워즈과 강한 연관관계가 있음을 보여주고, 비슷한 SF 장르인 스타트렉과도 연관관계가 있음을 알 수 있습니다.<br> \n",
    "그와 달리 로맨스물인 러브 액츄얼리와 타이타닉와는 낮은 연관관계에 있는 것으로 나왔습니다. <br>\n",
    "<br>"
   ]
  },
  {
   "cell_type": "markdown",
   "metadata": {
    "nbpresent": {
     "id": "e107d145-3a02-49dc-a44b-fe8766da5ef0"
    }
   },
   "source": [
    "### (4) 세 지표의 활용법\n",
    "\n",
    "연관분석에서 실제 지지도(Support)와 신뢰도(Confidence), 리프트(Lift) 세 가지 지표는 어떤 식으로 활용될까요? <br>\n",
    "연관 분석을 통한 연관 추천 알고리즘 순서는 아래와 같습니다.\n",
    "<br>\n",
    "![](https://i.imgur.com/vRyh5ya.jpg)\n",
    "<br>\n",
    "먼저, 지지도와 신뢰도의 최소 기준을 정하여 최소 기준에 미달하는 연관 관계를 제거해 나갑니다. <br>\n",
    "지지도가 너무 작으면 리프트 값이 실제 의미보다 과하게 나올 수 있게 때문에, 걸러주는 것이 좋습니다. <br>\n",
    "그 다음에는 리프트을 기준으로 각 아이템과 연관 관계가 강한 아이템을 순서대로 보여주는 것이죠. <br>\n",
    "이제 이 세가지 지표를 적용해 각 아이템 쌍에 대한 연관 강도를 구하고, 추천할 아이템을 추려내는 연관분석 추천 시스템을 만들어봅시다."
   ]
  },
  {
   "cell_type": "markdown",
   "metadata": {
    "nbpresent": {
     "id": "aed83d26-188b-4f58-bae7-beb086011282"
    }
   },
   "source": [
    "# \\[ 빈발집합 찾기 : Apriori 알고리즘과 FPGrowth 알고리즘 \\]\n",
    "---\n",
    "\n",
    "빈번하게 등장한 아이템의 쌍을 **빈발집합**이라고 부릅니다. 앞서 연관분석의 세 가지 주요 지표의 수식을 떠올려보면, 모두 빈도(`Freq()`)를 이용해 만들어졌음을 알 수 있습니다. <br>\n",
    "연관분석을 실제 구매 데이터에 적용한다면, 각각의 아이템의 쌍이 얼마나 등장했는지를 세어야 할 것입니다.<br>\n",
    "하지만 아이템의 가짓수가 늘어나고, 확인해야 할 바스켓의 수가 커지면, 이에 대한 계산은 기하급수적으로 늘어나게 됩니다. <br>\n",
    "<br>\n",
    "이 문제를 해결하기 위해 고안된 것이 자주 등장하는 아이템의 쌍만을 빠르게 추려 계산하는 **빈발집합 탐색 알고리즘**입니다. <br>\n",
    "대표적인 빈발집합 탐색 알고리즘으로는 Apriori 알고리즘과 FP-Growth 알고리즘이 있습니다. <br>\n",
    "둘 다 데이터 셋 내에서 빈발집합을 찾아내고, 몇 번이나 등장했는지를 세어주는 알고리즘으로, 두 알고리즘의 결과는 동일합니다.<br>\n",
    "코드의 최적화 수준에 따라 조금씩 달라지지만, 일반적으로 FP-Growth 알고리즘이 Apriori 알고리즘보다 빠릅니다. <br>\n",
    "<br>\n",
    "이번에는 Apriori 알고리즘을 사용하겠습니다. <br>\n",
    "Apriori 알고리즘은 모든 가능한 조합의 개수를 줄이는 전략을 사용합니다.<br>\n",
    "아래 이미지를 보면, 5가지 아이템이 있다고 할 때, 이 5가지를 이용해 나올 수 있는 가능한 조합은 총 $2^5 -1 = 31$개 입니다. <br>\n",
    "아이템 수가 늘어날수록 아이템 조합 역시 급격하게 늘어날 것입니다. <br>\n",
    "<br>\n",
    "Apriori는 각 조합의 지지도를 구하면서 조합의 아이템 수를 늘리며 내려가면서 <br>\n",
    "어떤 조합의 지지도가 일정 기준 이하로 떨어지면, 그 아래로 내려가도(즉, 조합의 아이템 수를 늘리더라도) 빈발집합이라고 볼 수 없다 판단하여 <br>\n",
    "더 이상 가지를 따라 내려가지 않고 쳐내는 식으로 빈발집합을 탐색합니다."
   ]
  },
  {
   "cell_type": "markdown",
   "metadata": {
    "nbpresent": {
     "id": "8b7ec1e1-7f51-4fd9-91ba-b59855d0cba0"
    }
   },
   "source": [
    "<img src = 'https://i.imgur.com/pZ75IjW.png'>"
   ]
  },
  {
   "cell_type": "code",
   "execution_count": null,
   "metadata": {
    "nbpresent": {
     "id": "86d70378-412d-436e-8144-6dfdf3d2925c"
    }
   },
   "outputs": [],
   "source": [
    "# 빈발집합 알고리즘에 대한 simple code \n",
    "from tqdm import tqdm\n",
    "from itertools import combinations\n",
    "\n",
    "max_len = 3\n",
    "min_support = 0.1\n",
    "\n",
    "# 전체 아이템 셋\n",
    "candidates = list(over4_df.movie_id.unique().reshape(-1,1))\n",
    "\n",
    "results = {}\n",
    "for i in range(1, max_len+1):\n",
    "    # 후보군 가져오기\n",
    "    candidates = list(filter(lambda x: len(x) == i, candidates))\n",
    "    \n",
    "    # candidate 별 support 구하기\n",
    "    support_dict = {}    \n",
    "    for candidate in tqdm(candidates):\n",
    "        if not isinstance(candidate, frozenset):\n",
    "            # frozenset은 dictionary의 key값으로 될 수 있고,\n",
    "            # set은 dictionary의 key값이 되지 못함\n",
    "            candidate = frozenset(candidate)\n",
    "        \n",
    "        # 지지도 계산하기\n",
    "        support = calculate_support(baskets_series, candidate)\n",
    "        \n",
    "        if support >= min_support:\n",
    "            # min_support 기준보다 높은 것들만 추림\n",
    "            support_dict[candidate] = support\n",
    "    \n",
    "    # min support 보다 높은 빈발집합을 결과에 담기\n",
    "    results.update(support_dict)\n",
    "    \n",
    "    # min_support보다 높은 빈발집합 케이스 가져오기\n",
    "    pruned_candidates = support_dict.keys()\n",
    "    \n",
    "    # min_support 기준보다 높은 것들끼리 self_join을 통해 다음 후보군을 구성\n",
    "    candidates = { a|b for a, b in combinations(pruned_candidates, 2)}"
   ]
  },
  {
   "cell_type": "markdown",
   "metadata": {
    "nbpresent": {
     "id": "07f19bf1-6605-4052-a303-4dfe82b819a0"
    }
   },
   "source": [
    "## 1. 장바구니 정보를 One-hot Encoding하기\n",
    "\n",
    "우선 Apriori 알고리즘으로 빈발 집합을 찾기 위해서는 TransactionEncoder를 통해, 각각의 장바구니를 One-Hot Encoding 형태로 바꾸어줄 필요가 있습니다."
   ]
  },
  {
   "cell_type": "code",
   "execution_count": null,
   "metadata": {
    "nbpresent": {
     "id": "27ac57ad-9c07-4459-8ac7-e7e607c1ff2b"
    }
   },
   "outputs": [],
   "source": [
    "# !pip install mlxtend \n",
    "from mlxtend.preprocessing import TransactionEncoder"
   ]
  },
  {
   "cell_type": "markdown",
   "metadata": {
    "nbpresent": {
     "id": "c9e56669-713c-4f29-8341-91b3d9e440ee"
    }
   },
   "source": [
    "`TransactionEncoder`의 `.fit_transform()`을 이용하여 장바구니를 벡터로 만들어줍시다. "
   ]
  },
  {
   "cell_type": "code",
   "execution_count": null,
   "metadata": {
    "nbpresent": {
     "id": "34a413ee-266c-4d6e-bde5-a9d6c6c7a81e"
    }
   },
   "outputs": [],
   "source": [
    "# 바스켓을 하나의 벡터로 표현하기\n",
    "transaction_encoder = TransactionEncoder()\n",
    "baskets_array = transaction_encoder.fit_transform(baskets_series)"
   ]
  },
  {
   "cell_type": "markdown",
   "metadata": {
    "nbpresent": {
     "id": "a3221052-cdcb-4fab-9890-b2932f1846c7"
    }
   },
   "source": [
    "`set`을 이용해 만든 각 유저의 영화 선호 정보(장바구니)가 어떻게 벡터화 되었나 확인해볼까요? user_id 2번의 장바구니에 담긴 movie_id를 오름차순으로 정렬하여 가장 앞쪽에 있는 10개의 영화를 추려봅시다."
   ]
  },
  {
   "cell_type": "code",
   "execution_count": null,
   "metadata": {
    "nbpresent": {
     "id": "7eb4b901-8d6a-4202-99e0-a064b539fb90"
    }
   },
   "outputs": [],
   "source": [
    "# user_id 2번의 장바구니에 담긴 movie_id 가져오기\n",
    "sorted(baskets_series.iloc[1])[:10]"
   ]
  },
  {
   "cell_type": "markdown",
   "metadata": {
    "nbpresent": {
     "id": "c764b347-fead-4eb9-8a16-d0ff971cba7e"
    }
   },
   "source": [
    "3번 영화를 보고 평점을 남겼으므로 벡터에서는 3번째 칸(index 값은 2)의 값이 True여야 합니다. `baskets_array`에서 유저 아이디 2번의 벡터를 확인합시다."
   ]
  },
  {
   "cell_type": "code",
   "execution_count": null,
   "metadata": {
    "nbpresent": {
     "id": "13d5ab7e-5063-4de2-8481-dd527feff45d"
    }
   },
   "outputs": [],
   "source": [
    "baskets_array[1]"
   ]
  },
  {
   "cell_type": "markdown",
   "metadata": {
    "nbpresent": {
     "id": "07b9470c-183e-48ad-9bdc-4fc87685b11a"
    }
   },
   "source": [
    "세 번째 값에 True가 표기된 것을 확인할 수 있습니다."
   ]
  },
  {
   "cell_type": "markdown",
   "metadata": {
    "nbpresent": {
     "id": "d807b6b0-587f-477c-882c-6eab559f1baa"
    }
   },
   "source": [
    "`np.array`로 만들어진 `baskets_array`를 이용해 `pd.DataFrame()`을 만들어줍니다. 이 데이터의 칼럼은 영화를 나타내므로, `movie_id`를 받아와 살럼명으로 지정해줍니다. "
   ]
  },
  {
   "cell_type": "code",
   "execution_count": null,
   "metadata": {
    "nbpresent": {
     "id": "13ccacde-1bb1-417c-97a3-4f057403f816"
    }
   },
   "outputs": [],
   "source": [
    "# 컬럼 이름을 movie_id로 바꾸기\n",
    "movie_id_columns = transaction_encoder.columns_\n",
    "baskets_df = pd.DataFrame(baskets_array, columns=movie_id_columns)\n",
    "\n",
    "baskets_df.head(5)"
   ]
  },
  {
   "cell_type": "markdown",
   "metadata": {
    "nbpresent": {
     "id": "e355ba90-f603-4777-b2ac-1c6a85439232"
    }
   },
   "source": [
    "전체 데이터를 통해 빈발집합 찾기 알고리즘을 수행하면, 시간이 너무 많이 걸리기 때문에, 상위 5000개의 영화에 한해서 빈발 집합을 찾도록 하겠습니다. 평점 수 상위 5000개의 영화를 추려봅시다."
   ]
  },
  {
   "cell_type": "code",
   "execution_count": null,
   "metadata": {
    "nbpresent": {
     "id": "a85b7093-9d11-4bed-83fc-991b28160c72"
    }
   },
   "outputs": [],
   "source": [
    "# rating 갯수 기준 상위 5000개의 영화의 아이디 가져오기\n",
    "top_5000_movie_ids"
   ]
  },
  {
   "cell_type": "markdown",
   "metadata": {
    "nbpresent": {
     "id": "8647296c-1f41-4f98-a2ad-9f5dc3e9f00d"
    }
   },
   "source": [
    "`baskets_df`의 각 칼럼이 movie_id이므로, top5000영화에 대한 평가 데이터만 가져오기 위해 칼럼으로 걸러줍니다. "
   ]
  },
  {
   "cell_type": "code",
   "execution_count": null,
   "metadata": {
    "nbpresent": {
     "id": "ec66b4a9-1ebe-46bb-9a26-9e1bd2a34fed"
    }
   },
   "outputs": [],
   "source": [
    "selected_basket_df = baskets_df[\n",
    "    top_5000_movie_ids\n",
    "]"
   ]
  },
  {
   "cell_type": "markdown",
   "metadata": {
    "nbpresent": {
     "id": "e77f151a-9ff3-47c6-862d-209959346ffd"
    }
   },
   "source": [
    "top 5000 영화를 한 편도 보지 않은 장바구니(유저) 정보는 필요하지 않습니다. 각 행(각 유저의 장바구니)의 평가 여부를 확인하여 top5000영화에 대한 평가가 없는 장바구니는 제거합니다. "
   ]
  },
  {
   "cell_type": "code",
   "execution_count": null,
   "metadata": {
    "nbpresent": {
     "id": "27faa514-48c6-458b-b9ce-73b1ab5eacd2"
    }
   },
   "outputs": [],
   "source": [
    "# top 5000 영화를 한 편도 보지 않은 장바구니(유저) 정보는 제거하기\n"
   ]
  },
  {
   "cell_type": "markdown",
   "metadata": {
    "nbpresent": {
     "id": "044893ff-0ebb-4a1e-b3c0-b66844a8e04e"
    }
   },
   "source": [
    "## 2. Apriori를 통해 원하는 연관규칙 쌍을 추출하기\n",
    "\n",
    "MLxtend에서는 apriori 알고리즘으로 아래와 같이 지원합니다. min support 값은 데이터마다 다르게 지정해줍니다. "
   ]
  },
  {
   "cell_type": "code",
   "execution_count": null,
   "metadata": {
    "nbpresent": {
     "id": "6f4a8c59-51c3-430c-88eb-79c34e3d13ee"
    }
   },
   "outputs": [],
   "source": [
    "# apriori 알고리즘\n",
    "from mlxtend.frequent_patterns import apriori\n",
    "\n",
    "freq_sets_df = apriori(selected_basket_df.sample(frac=0.05),\n",
    "                       min_support=0.01, # 1% 이상 포함된 경우만\n",
    "                       max_len=2, # 빈발집합의 최대 크기\n",
    "                       use_colnames=True,\n",
    "                       verbose=1)"
   ]
  },
  {
   "cell_type": "markdown",
   "metadata": {
    "nbpresent": {
     "id": "d55efe2d-48cd-408e-b4a6-86b112586fc1"
    }
   },
   "source": [
    "위를 실행시키려면 최소 30기가 이상의 램 메모리를 필요로 합니다. 서버 컴퓨터를 이용해 사전에 처리한 결과를 아래를 통해 받을 수 있습니다."
   ]
  },
  {
   "cell_type": "code",
   "execution_count": null,
   "metadata": {
    "nbpresent": {
     "id": "53447d6d-24da-4561-b6b6-a04d167c6704"
    }
   },
   "outputs": [],
   "source": [
    "# 처리한 결과 파일 가져오기\n",
    "fqs_path = get_file(\"frequent_sets.pkl\",\n",
    "'https://pai-datasets.s3.ap-northeast-2.amazonaws.com/recommender_systems/movielens/results/frequent_sets.pkl')\n",
    "freq_sets_df = pd.read_pickle(fqs_path)\n",
    "freq_sets_df"
   ]
  },
  {
   "cell_type": "markdown",
   "metadata": {
    "nbpresent": {
     "id": "3be7f949-d599-4414-96a0-ec4e9e9c2ff1"
    }
   },
   "source": [
    "각 빈발 집합 별 지지도가 계산되어 있습니다. 왜 지지도 값만 결과로 나왔을까요? 이전에 배운 것을 떠올려봅시다. 우리가 궁금한 세가지 지표(지지도, 신뢰도, 리프트)는 사실상 지지도로 모두 구할 수 있습니다.\n",
    "\n",
    "$$\n",
    "S(X) = \\frac{Freq(X)}{N}  \\\\\n",
    "S(X, Y) = \\frac{Freq(X,Y)}{N}  \\\\\n",
    "C(X \\rightarrow Y) = \\frac{S(X,Y)}{S(X)} \\\\\n",
    "L(X \\rightarrow Y) = \\frac{C(X \\rightarrow Y)}{S(Y)}\n",
    "$$\n"
   ]
  },
  {
   "cell_type": "markdown",
   "metadata": {
    "nbpresent": {
     "id": "776577d6-dc99-46bc-91a0-2837fdec4ca4"
    }
   },
   "source": [
    "## 3.  연관분석 진행하기\n",
    "\n",
    "MLxtend에서는 연관 관계를 파악하는 데 필요한 세 가지 지표 (Support, Confidence, Lift)를 바로 계산해주는 `association_rules`를 제공합니다. Apriori로 도출된 빈발집합 정보를 `association_rules`에 넣어주면 우리가 원하는 아이템 간 연관관계를 파악할 수 있습니다.\n",
    "\n",
    "앞서 배운대로 먼저 지지도와 신뢰도를 이용하여 유의미한 연관관계만 추려냅니다. 지지도는 0.01 이상, 신뢰도는 0.1 이상인 관계만 남깁시다."
   ]
  },
  {
   "cell_type": "code",
   "execution_count": null,
   "metadata": {
    "nbpresent": {
     "id": "557af1b4-dbd5-4f9a-bb7f-55ab6a562dee"
    }
   },
   "outputs": [],
   "source": [
    "from mlxtend.frequent_patterns import association_rules # 연관분석\n",
    "\n",
    "# Support과 Confidence로 유의미한 연관관계 추리기\n",
    "item_rules = association_rules(freq_sets_df, \n",
    "                               metric='support',\n",
    "                               min_threshold=0.01)  # Support가 최소 0.01이상인 관계만 가져오자\n",
    "item_rules = item_rules[item_rules.confidence > 0.1] # Confidence가 최소 0.1이상인 관계만 가져오자\n",
    "item_rules"
   ]
  },
  {
   "cell_type": "markdown",
   "metadata": {
    "nbpresent": {
     "id": "01f85b25-a7bd-4e47-b97d-cabe53dcf5f5"
    }
   },
   "source": [
    "데이터가 추려졌으니, 리프트를 기준으로 데이터를 정렬해봅시다."
   ]
  },
  {
   "cell_type": "code",
   "execution_count": null,
   "metadata": {
    "nbpresent": {
     "id": "3cbc59d6-4577-4806-92fc-abaeda5bafa9"
    }
   },
   "outputs": [],
   "source": [
    "# 리프트 값으로 정렬하기\n",
    "item_rules = item_rules.sort_values('lift', ascending=False)\n",
    "item_rules.head(20)"
   ]
  },
  {
   "cell_type": "markdown",
   "metadata": {
    "nbpresent": {
     "id": "6ceb5f71-b055-4357-af3f-deab609a1e04"
    }
   },
   "source": [
    "리프트 값을 기준으로 정렬된 `item_rules`에서 상위 조합을 뽑아서 살펴봅시다."
   ]
  },
  {
   "cell_type": "code",
   "execution_count": null,
   "metadata": {
    "nbpresent": {
     "id": "809f6236-5cd4-47d5-be4e-1fd836c2f634"
    }
   },
   "outputs": [],
   "source": [
    "for _, row in item_rules.head(20).iterrows():\n",
    "    display_poster(row.antecedents, row.consequents)"
   ]
  },
  {
   "cell_type": "markdown",
   "metadata": {
    "nbpresent": {
     "id": "81412d21-7da5-4740-94f4-da722fa30bcc"
    }
   },
   "source": [
    "시리즈물이 매우 강한 연관관계가 되어 있고, 지브리와 같이 특색이 강한 스튜디오의 작품이 강한 연관 관계를 가지는 것을 볼수 있습니다. <br>\n",
    "좀 더 살펴볼까요? 표로 데이터를 알아보기 좋도록 영화 아이디로 되어 있는 것을 영화 제목으로 변경하도록 하겠습니다."
   ]
  },
  {
   "cell_type": "code",
   "execution_count": null,
   "metadata": {
    "nbpresent": {
     "id": "6cda1cb8-556c-44f5-8875-45d6f517a549"
    }
   },
   "outputs": [],
   "source": [
    "id2title = dict(zip(movie_df.id, movie_df.title)) # 영화 아이디가 키값이고, 영화 제목이 밸류값인 딕셔너리형\n",
    "\n",
    "item_rules.antecedents = (\n",
    "    item_rules.antecedents\n",
    "    .apply(lambda x : list(x)[0]) # set에 있는 영화 아이디 값 하나를 가져옴 \n",
    "    .apply(lambda x : id2title[x])) # 영화 아이디 값을 영화 제목으로 바꾸어줌\n",
    "\n",
    "item_rules.consequents = (\n",
    "    item_rules.consequents\n",
    "    .apply(lambda x : list(x)[0]) # set에 있는 영화 아이디 값 하나를 가져옴 \n",
    "    .apply(lambda x : id2title[x])) # 영화 아이디 값을 영화 제목으로 바꾸어줌\n",
    "\n",
    "item_rules.head(10)"
   ]
  },
  {
   "cell_type": "markdown",
   "metadata": {
    "nbpresent": {
     "id": "ca8a1a40-c6c4-4898-8990-261a5cb5157d"
    }
   },
   "source": [
    "\"해리포터\" 영화와 강한 연관관계를 가지는 영화 리스트 상위 5개는 아래와 같습니다. 대부분이 해리포터 시리즈로 나타나게 됩니다."
   ]
  },
  {
   "cell_type": "code",
   "execution_count": null,
   "metadata": {
    "nbpresent": {
     "id": "f4fdf1b5-9b44-4c8d-b385-3a32e2edacec"
    }
   },
   "outputs": [],
   "source": [
    "item_rules[item_rules.antecedents == 'Harry Potter and the Deathly Hallows: Part 1'].iloc[:5]"
   ]
  },
  {
   "cell_type": "markdown",
   "metadata": {
    "nbpresent": {
     "id": "fc13e95b-7774-4e53-90f5-e9d706e77573"
    }
   },
   "source": [
    "\"메멘토\"이라는 영화와 연관관계를 가지는 영화 리스트들은 아래와 같습니다."
   ]
  },
  {
   "cell_type": "code",
   "execution_count": null,
   "metadata": {
    "nbpresent": {
     "id": "eda875d2-52df-432c-9fcb-c0d432361c0c"
    }
   },
   "outputs": [],
   "source": [
    "item_rules[item_rules.antecedents == 'Memento'].iloc[:5]"
   ]
  },
  {
   "cell_type": "markdown",
   "metadata": {
    "nbpresent": {
     "id": "49c15cfb-de7b-4a56-b8bd-74c7cc4ff2dc"
    }
   },
   "source": [
    "\"인크레더블\"이라는 영화와 연관관계를 가지는 영화 리스트들은 아래와 같습니다. "
   ]
  },
  {
   "cell_type": "code",
   "execution_count": null,
   "metadata": {
    "nbpresent": {
     "id": "cb73c5dd-eabd-4e70-bc4a-d0c7a12b2340"
    }
   },
   "outputs": [],
   "source": [
    "item_rules[item_rules.antecedents == 'Incredibles, The'].iloc[:5]"
   ]
  },
  {
   "cell_type": "markdown",
   "metadata": {
    "nbpresent": {
     "id": "fe9b7c7f-6c37-4cf1-a1c2-f4156601f431"
    }
   },
   "source": [
    "연관관계를 나타내는 지표 리프트를 활용하였더니 상당히 관련성이 높아보이는 아이템이 추천되었습니다. <br>\n",
    "아이템 간 연관관계를 이용해 추천하는 방식은 앞서 평점순으로 나열하거나 최신 순으로 나열하여 영화를 추천하는 것보다 훨씬 정교한 추천 방법이죠. <br>\n",
    "<br>\n",
    "연관 분석을 이용한 추천시스템은 간단해보이지만, 커머스 서비스나 컨텐츠 서비스에서 가장 일반적으로 사용되고 있는 추천 방식입니다. <br>\n",
    "가장 대표적인 추천 시스템인 Youtube도 2010년에 제시한 [Youtube 추천 시스템](https://www.inf.unibz.it/~ricci/ISR/papers/p293-davidson.pdf) 구성에 따르면, <br>\n",
    "추천 후보군을 선정할 때 연관분석을 통해, 높은 상관관계를 가진 컨텐츠를 추려내는 방식으로 추천 후보군 구성했다고 합니다. <br>\n",
    "그리고 추려진 추천 후보군 중에서 고객의 정보를 통해 추천에 대한 우선순위를 매겨 배치하는 방식을 택했습니다.<br>\n",
    "<br>\n",
    "단순해보이지만, 이 방식을 이용해 유튜브는 자사 서비스의 클릭률(CTR)을 거의 두배 가량 높습니다(아래 그래프 참고). 당시 대략 60%의 비디오 클릭이 홈 화면에 노출되는 추천 영상에 의해 이루어졌다고 합니다.\n",
    "\n",
    "<img src=\"https://i.imgur.com/CfgM7U8.png\" width=\"500\" height=\"100\">"
   ]
  },
  {
   "cell_type": "markdown",
   "metadata": {
    "deletable": false,
    "nbpresent": {
     "id": "9dfd8222-f589-472a-9dcc-e139f7bafc2a"
    }
   },
   "source": [
    "#  \n",
    "\n",
    "---\n",
    "\n",
    "    Copyright(c) 2019 by Public AI. All rights reserved.\n",
    "    Writen by PAI, SangJae Kang ( rocketgrowthsj@publicai.co.kr )  last updated on 2020/01/13\n",
    "\n",
    "\n",
    "---"
   ]
  }
 ],
 "metadata": {
  "kernelspec": {
   "display_name": "Python 3",
   "language": "python",
   "name": "python3"
  },
  "language_info": {
   "codemirror_mode": {
    "name": "ipython",
    "version": 3
   },
   "file_extension": ".py",
   "mimetype": "text/x-python",
   "name": "python",
   "nbconvert_exporter": "python",
   "pygments_lexer": "ipython3",
   "version": "3.6.6"
  },
  "nbpresent": {
   "slides": {
    "015e99a5-ec5e-42c9-8519-e467566471d0": {
     "id": "015e99a5-ec5e-42c9-8519-e467566471d0",
     "prev": "31606b0e-b119-4568-b00c-88a6c9311752",
     "regions": {
      "eb9507d7-409a-4ee1-925a-87ba6ee3ac31": {
       "attrs": {
        "height": 0.8,
        "width": 0.8,
        "x": 0.1,
        "y": 0.1
       },
       "content": {
        "cell": "13ccacde-1bb1-417c-97a3-4f057403f816",
        "part": "whole"
       },
       "id": "eb9507d7-409a-4ee1-925a-87ba6ee3ac31"
      }
     }
    },
    "071d881a-4621-41f1-a489-751e512d7d2d": {
     "id": "071d881a-4621-41f1-a489-751e512d7d2d",
     "prev": "2b0cdce0-1ede-4354-a94c-c04802343609",
     "regions": {
      "ad891cb1-a6a8-441c-8e31-5b8b90415e18": {
       "attrs": {
        "height": 0.8,
        "width": 0.8,
        "x": 0.1,
        "y": 0.1
       },
       "content": {
        "cell": "f6d56959-0579-48a8-a65d-2b06082fb325",
        "part": "whole"
       },
       "id": "ad891cb1-a6a8-441c-8e31-5b8b90415e18"
      }
     }
    },
    "0adde777-75bb-49e1-96be-5b5cec79e59e": {
     "id": "0adde777-75bb-49e1-96be-5b5cec79e59e",
     "prev": "489d3018-e501-4c3e-95e5-7c1cfc7f47b3",
     "regions": {
      "d9ff4c29-3bcd-4b0e-a341-ac2786023cb2": {
       "attrs": {
        "height": 0.8,
        "width": 0.8,
        "x": 0.1,
        "y": 0.1
       },
       "content": {
        "cell": "1829a7a9-1813-4a21-b17c-c898fc3f821a",
        "part": "whole"
       },
       "id": "d9ff4c29-3bcd-4b0e-a341-ac2786023cb2"
      }
     }
    },
    "0ca44bbf-87c8-4bef-b864-99dab0aa172c": {
     "id": "0ca44bbf-87c8-4bef-b864-99dab0aa172c",
     "prev": "015e99a5-ec5e-42c9-8519-e467566471d0",
     "regions": {
      "93434ebd-c666-4caf-94b6-473e409b0908": {
       "attrs": {
        "height": 0.8,
        "width": 0.8,
        "x": 0.1,
        "y": 0.1
       },
       "content": {
        "cell": "e355ba90-f603-4777-b2ac-1c6a85439232",
        "part": "whole"
       },
       "id": "93434ebd-c666-4caf-94b6-473e409b0908"
      }
     }
    },
    "109da437-1ba7-4f28-a0d5-d2253dec4bac": {
     "id": "109da437-1ba7-4f28-a0d5-d2253dec4bac",
     "prev": "3725f8be-00b0-4680-bf3b-440e5d53866b",
     "regions": {
      "4e9c8f11-e131-4668-b924-bafcf3765afc": {
       "attrs": {
        "height": 0.8,
        "width": 0.8,
        "x": 0.1,
        "y": 0.1
       },
       "content": {
        "cell": "5f8b0acc-0008-4a14-b38a-1b21c1f64391",
        "part": "whole"
       },
       "id": "4e9c8f11-e131-4668-b924-bafcf3765afc"
      }
     }
    },
    "1313f787-5f23-487b-bf5c-297dbca5794f": {
     "id": "1313f787-5f23-487b-bf5c-297dbca5794f",
     "prev": "4e43ac6e-9c31-48c1-a246-6ea307d2df39",
     "regions": {
      "82d65df0-309c-47b8-abf2-290f32ef4cdd": {
       "attrs": {
        "height": 0.8,
        "width": 0.8,
        "x": 0.1,
        "y": 0.1
       },
       "content": {
        "cell": "4274ca7b-c106-46b0-b19a-795aeb4374e4",
        "part": "whole"
       },
       "id": "82d65df0-309c-47b8-abf2-290f32ef4cdd"
      }
     }
    },
    "1559cd0c-c3ab-4c22-b711-bb78c98b1126": {
     "id": "1559cd0c-c3ab-4c22-b711-bb78c98b1126",
     "prev": "ad05d6cc-3b90-4201-87a7-cf17325ecf5a",
     "regions": {
      "d1f55f39-6c65-42de-9fd9-d403578ad1b3": {
       "attrs": {
        "height": 0.8,
        "width": 0.8,
        "x": 0.1,
        "y": 0.1
       },
       "content": {
        "cell": "044893ff-0ebb-4a1e-b3c0-b66844a8e04e",
        "part": "whole"
       },
       "id": "d1f55f39-6c65-42de-9fd9-d403578ad1b3"
      }
     }
    },
    "1a0c1a76-d251-4f1b-b69a-2986d51c9502": {
     "id": "1a0c1a76-d251-4f1b-b69a-2986d51c9502",
     "prev": "580cf50f-df8e-47bf-b5e4-8d55ffc50c43",
     "regions": {
      "805c029c-1db4-4ee9-9b43-f273f9aff159": {
       "attrs": {
        "height": 0.8,
        "width": 0.8,
        "x": 0.1,
        "y": 0.1
       },
       "content": {
        "cell": "e77f151a-9ff3-47c6-862d-209959346ffd",
        "part": "whole"
       },
       "id": "805c029c-1db4-4ee9-9b43-f273f9aff159"
      }
     }
    },
    "1d50dc3e-11dc-4eca-89ec-9f7a0513529c": {
     "id": "1d50dc3e-11dc-4eca-89ec-9f7a0513529c",
     "prev": "476234df-36cf-4a26-893d-20fb81e92531",
     "regions": {
      "526c519d-a467-4468-909c-c15ed3b09ac8": {
       "attrs": {
        "height": 0.8,
        "width": 0.8,
        "x": 0.1,
        "y": 0.1
       },
       "content": {
        "cell": "776577d6-dc99-46bc-91a0-2837fdec4ca4",
        "part": "whole"
       },
       "id": "526c519d-a467-4468-909c-c15ed3b09ac8"
      }
     }
    },
    "254a0b32-6db9-4bc7-9133-f3ceafea0906": {
     "id": "254a0b32-6db9-4bc7-9133-f3ceafea0906",
     "prev": "fc0aa304-9a47-4862-a67c-593f24f6ccb0",
     "regions": {
      "ad8668a7-f7ad-499d-9092-c0cb99549241": {
       "attrs": {
        "height": 0.8,
        "width": 0.8,
        "x": 0.1,
        "y": 0.1
       },
       "content": {
        "cell": "5d8871bf-6680-4817-b5f4-e8de814ff036",
        "part": "whole"
       },
       "id": "ad8668a7-f7ad-499d-9092-c0cb99549241"
      }
     }
    },
    "26d7b163-baaa-4bbc-ac20-4feb0609058c": {
     "id": "26d7b163-baaa-4bbc-ac20-4feb0609058c",
     "prev": "0ca44bbf-87c8-4bef-b864-99dab0aa172c",
     "regions": {
      "a3466cb2-43d5-477f-9031-f9dc77eb9afd": {
       "attrs": {
        "height": 0.8,
        "width": 0.8,
        "x": 0.1,
        "y": 0.1
       },
       "content": {
        "cell": "a85b7093-9d11-4bed-83fc-991b28160c72",
        "part": "whole"
       },
       "id": "a3466cb2-43d5-477f-9031-f9dc77eb9afd"
      }
     }
    },
    "28a8de00-7ac0-42c9-b326-60d783346de8": {
     "id": "28a8de00-7ac0-42c9-b326-60d783346de8",
     "prev": "7d0c5b06-f64a-4403-b5e8-4dfa509ec7a4",
     "regions": {
      "c1ce52cb-c553-4ef8-9ef4-96ebbfe3363c": {
       "attrs": {
        "height": 0.8,
        "width": 0.8,
        "x": 0.1,
        "y": 0.1
       },
       "content": {
        "cell": "8b7ec1e1-7f51-4fd9-91ba-b59855d0cba0",
        "part": "whole"
       },
       "id": "c1ce52cb-c553-4ef8-9ef4-96ebbfe3363c"
      }
     }
    },
    "2b0cdce0-1ede-4354-a94c-c04802343609": {
     "id": "2b0cdce0-1ede-4354-a94c-c04802343609",
     "prev": "f51dd5de-199e-49e2-a413-bd2ef3e94acc",
     "regions": {
      "87db2062-8b12-4da0-af96-1f1c83a7c57a": {
       "attrs": {
        "height": 0.8,
        "width": 0.8,
        "x": 0.1,
        "y": 0.1
       },
       "content": {
        "cell": "6ebc43eb-997b-40ec-9a76-ab0285f5f1f4",
        "part": "whole"
       },
       "id": "87db2062-8b12-4da0-af96-1f1c83a7c57a"
      }
     }
    },
    "2bcb6b96-3462-402a-bb45-0fd11876cc8c": {
     "id": "2bcb6b96-3462-402a-bb45-0fd11876cc8c",
     "prev": "47b37306-dff7-49b6-a19c-a422ac5e64f6",
     "regions": {
      "376b439d-b42d-4e59-babe-4f5ffc652a26": {
       "attrs": {
        "height": 0.8,
        "width": 0.8,
        "x": 0.1,
        "y": 0.1
       },
       "content": {
        "cell": "01f85b25-a7bd-4e47-b97d-cabe53dcf5f5",
        "part": "whole"
       },
       "id": "376b439d-b42d-4e59-babe-4f5ffc652a26"
      }
     }
    },
    "2bdb702f-5c4c-4cd1-ab9d-d7d3ade8ca2b": {
     "id": "2bdb702f-5c4c-4cd1-ab9d-d7d3ade8ca2b",
     "prev": "1313f787-5f23-487b-bf5c-297dbca5794f",
     "regions": {
      "a0608174-92be-4ca8-92ba-db1c1c19ee7f": {
       "attrs": {
        "height": 0.8,
        "width": 0.8,
        "x": 0.1,
        "y": 0.1
       },
       "content": {
        "cell": "d31814a4-56d4-411b-a3c2-6cc8ad9ed466",
        "part": "whole"
       },
       "id": "a0608174-92be-4ca8-92ba-db1c1c19ee7f"
      }
     }
    },
    "30152460-2740-4360-b938-c3f212d29ade": {
     "id": "30152460-2740-4360-b938-c3f212d29ade",
     "prev": "aad22da4-4913-46c6-bad3-ef8f1ef78029",
     "regions": {
      "1b3405bb-c5a3-4b33-8535-98322dfeb20d": {
       "attrs": {
        "height": 0.8,
        "width": 0.8,
        "x": 0.1,
        "y": 0.1
       },
       "content": {
        "cell": "c9e56669-713c-4f29-8341-91b3d9e440ee",
        "part": "whole"
       },
       "id": "1b3405bb-c5a3-4b33-8535-98322dfeb20d"
      }
     }
    },
    "31606b0e-b119-4568-b00c-88a6c9311752": {
     "id": "31606b0e-b119-4568-b00c-88a6c9311752",
     "prev": "f4216a2a-311e-4302-a4af-00bf3bf7fac2",
     "regions": {
      "72edf66b-c915-49be-b3ee-fdab98d9bdd2": {
       "attrs": {
        "height": 0.8,
        "width": 0.8,
        "x": 0.1,
        "y": 0.1
       },
       "content": {
        "cell": "d807b6b0-587f-477c-882c-6eab559f1baa",
        "part": "whole"
       },
       "id": "72edf66b-c915-49be-b3ee-fdab98d9bdd2"
      }
     }
    },
    "3725f8be-00b0-4680-bf3b-440e5d53866b": {
     "id": "3725f8be-00b0-4680-bf3b-440e5d53866b",
     "prev": "8d194527-9961-4762-bf2d-6dc9e1875b4b",
     "regions": {
      "6fa009c2-7a6b-4c2d-a0c6-685f34c78edd": {
       "attrs": {
        "height": 0.8,
        "width": 0.8,
        "x": 0.1,
        "y": 0.1
       },
       "content": {
        "cell": "810feb8a-20b5-41ab-a625-7c7a009bc8fb",
        "part": "whole"
       },
       "id": "6fa009c2-7a6b-4c2d-a0c6-685f34c78edd"
      }
     }
    },
    "406eb33a-0b72-4390-8f3b-81de9f78b8b4": {
     "id": "406eb33a-0b72-4390-8f3b-81de9f78b8b4",
     "prev": "aa93b59a-e32e-42aa-8741-710ffb878609",
     "regions": {
      "0b3d2c56-346b-4441-9dde-0679c9fcd945": {
       "attrs": {
        "height": 0.8,
        "width": 0.8,
        "x": 0.1,
        "y": 0.1
       },
       "content": {
        "cell": "ad6d95ee-82a4-451f-8b5b-141ef5285354",
        "part": "whole"
       },
       "id": "0b3d2c56-346b-4441-9dde-0679c9fcd945"
      }
     }
    },
    "476234df-36cf-4a26-893d-20fb81e92531": {
     "id": "476234df-36cf-4a26-893d-20fb81e92531",
     "prev": "fa97c5c9-a486-43ca-831a-a3dce4c77e78",
     "regions": {
      "c8820c6f-6a83-4897-b8b6-3ff3bbd30b50": {
       "attrs": {
        "height": 0.8,
        "width": 0.8,
        "x": 0.1,
        "y": 0.1
       },
       "content": {
        "cell": "3be7f949-d599-4414-96a0-ec4e9e9c2ff1",
        "part": "whole"
       },
       "id": "c8820c6f-6a83-4897-b8b6-3ff3bbd30b50"
      }
     }
    },
    "47b37306-dff7-49b6-a19c-a422ac5e64f6": {
     "id": "47b37306-dff7-49b6-a19c-a422ac5e64f6",
     "prev": "1d50dc3e-11dc-4eca-89ec-9f7a0513529c",
     "regions": {
      "fa509a12-5c65-4d53-9ce7-40681f7b166c": {
       "attrs": {
        "height": 0.8,
        "width": 0.8,
        "x": 0.1,
        "y": 0.1
       },
       "content": {
        "cell": "557af1b4-dbd5-4f9a-bb7f-55ab6a562dee",
        "part": "whole"
       },
       "id": "fa509a12-5c65-4d53-9ce7-40681f7b166c"
      }
     }
    },
    "48823a96-0412-4de4-afd6-59bcc1608b0a": {
     "id": "48823a96-0412-4de4-afd6-59bcc1608b0a",
     "prev": "1559cd0c-c3ab-4c22-b711-bb78c98b1126",
     "regions": {
      "4c009aea-087d-470f-84e4-3d5db9522cb0": {
       "attrs": {
        "height": 0.8,
        "width": 0.8,
        "x": 0.1,
        "y": 0.1
       },
       "content": {
        "cell": "6f4a8c59-51c3-430c-88eb-79c34e3d13ee",
        "part": "whole"
       },
       "id": "4c009aea-087d-470f-84e4-3d5db9522cb0"
      }
     }
    },
    "489d3018-e501-4c3e-95e5-7c1cfc7f47b3": {
     "id": "489d3018-e501-4c3e-95e5-7c1cfc7f47b3",
     "prev": "811da873-bbe1-4330-8105-f1c1e1da872a",
     "regions": {
      "328f21eb-1ffe-46a5-ba84-547e6f2549ca": {
       "attrs": {
        "height": 0.8,
        "width": 0.8,
        "x": 0.1,
        "y": 0.1
       },
       "content": {
        "cell": "19dcf714-33a8-4d6e-b123-41a4d69b4bce",
        "part": "whole"
       },
       "id": "328f21eb-1ffe-46a5-ba84-547e6f2549ca"
      }
     }
    },
    "4b1702b4-d416-4c0d-a24d-3556e7f69999": {
     "id": "4b1702b4-d416-4c0d-a24d-3556e7f69999",
     "prev": "071d881a-4621-41f1-a489-751e512d7d2d",
     "regions": {
      "d029605d-8719-4152-8d4d-9cb18d29ed50": {
       "attrs": {
        "height": 0.8,
        "width": 0.8,
        "x": 0.1,
        "y": 0.1
       },
       "content": {
        "cell": "1f0f25f4-96ad-402d-8c7d-d8198a4ecf79",
        "part": "whole"
       },
       "id": "d029605d-8719-4152-8d4d-9cb18d29ed50"
      }
     }
    },
    "4b583cbf-69d4-406a-9be2-0df48b91290b": {
     "id": "4b583cbf-69d4-406a-9be2-0df48b91290b",
     "prev": "66340e37-a06a-41a2-b8ea-693cf9999cbd",
     "regions": {
      "85696751-1b0a-4f2c-8420-56709f2cfd0a": {
       "attrs": {
        "height": 0.8,
        "width": 0.8,
        "x": 0.1,
        "y": 0.1
       },
       "content": {
        "cell": "81412d21-7da5-4740-94f4-da722fa30bcc",
        "part": "whole"
       },
       "id": "85696751-1b0a-4f2c-8420-56709f2cfd0a"
      }
     }
    },
    "4c1b414d-f24d-42ee-9f34-ce8f825db952": {
     "id": "4c1b414d-f24d-42ee-9f34-ce8f825db952",
     "prev": "4f485d22-08bd-4b2c-829b-3786fe973824",
     "regions": {
      "dd39806a-bf92-4d2f-b3c4-954ef4d34850": {
       "attrs": {
        "height": 0.8,
        "width": 0.8,
        "x": 0.1,
        "y": 0.1
       },
       "content": {
        "cell": "f4fdf1b5-9b44-4c8d-b385-3a32e2edacec",
        "part": "whole"
       },
       "id": "dd39806a-bf92-4d2f-b3c4-954ef4d34850"
      }
     }
    },
    "4d101683-8439-43a4-9a6a-a214192c3336": {
     "id": "4d101683-8439-43a4-9a6a-a214192c3336",
     "prev": "254a0b32-6db9-4bc7-9133-f3ceafea0906",
     "regions": {
      "c5cfa6a9-942b-426e-9f31-998bb03ac79c": {
       "attrs": {
        "height": 0.8,
        "width": 0.8,
        "x": 0.1,
        "y": 0.1
       },
       "content": {
        "cell": "0360c933-7818-4b8f-b30d-bc0b9ef48c43",
        "part": "whole"
       },
       "id": "c5cfa6a9-942b-426e-9f31-998bb03ac79c"
      }
     }
    },
    "4dcf8fdc-f6ac-4841-ad64-8a25765deca4": {
     "id": "4dcf8fdc-f6ac-4841-ad64-8a25765deca4",
     "prev": "a6fb3f10-cc19-45f1-9c0b-488cf4c12fe8",
     "regions": {
      "d8d935e4-6523-4139-a4d3-999265f92dba": {
       "attrs": {
        "height": 0.8,
        "width": 0.8,
        "x": 0.1,
        "y": 0.1
       },
       "content": {
        "cell": "2e046f26-4414-44e4-84e5-6cd9a7dcbc37",
        "part": "whole"
       },
       "id": "d8d935e4-6523-4139-a4d3-999265f92dba"
      }
     }
    },
    "4e43ac6e-9c31-48c1-a246-6ea307d2df39": {
     "id": "4e43ac6e-9c31-48c1-a246-6ea307d2df39",
     "prev": "f33e3c5b-cb3f-4934-af99-08afbfdb7f94",
     "regions": {
      "3aba0e30-1197-466c-b40e-02d232b36267": {
       "attrs": {
        "height": 0.8,
        "width": 0.8,
        "x": 0.1,
        "y": 0.1
       },
       "content": {
        "cell": "f474f6fe-0eb4-457c-b392-d333cd2879c1",
        "part": "whole"
       },
       "id": "3aba0e30-1197-466c-b40e-02d232b36267"
      }
     }
    },
    "4f485d22-08bd-4b2c-829b-3786fe973824": {
     "id": "4f485d22-08bd-4b2c-829b-3786fe973824",
     "prev": "888632d1-e9f1-4ad4-aa93-175d369f22a7",
     "regions": {
      "2fbe4419-4d84-4f48-87ad-73889a8e0402": {
       "attrs": {
        "height": 0.8,
        "width": 0.8,
        "x": 0.1,
        "y": 0.1
       },
       "content": {
        "cell": "ca8a1a40-c6c4-4898-8990-261a5cb5157d",
        "part": "whole"
       },
       "id": "2fbe4419-4d84-4f48-87ad-73889a8e0402"
      }
     }
    },
    "52558314-69e8-41e1-920f-0eb211c50ce3": {
     "id": "52558314-69e8-41e1-920f-0eb211c50ce3",
     "prev": "48823a96-0412-4de4-afd6-59bcc1608b0a",
     "regions": {
      "5fea4bba-7dfd-4820-ba75-9d2d06fbbb57": {
       "attrs": {
        "height": 0.8,
        "width": 0.8,
        "x": 0.1,
        "y": 0.1
       },
       "content": {
        "cell": "d55efe2d-48cd-408e-b4a6-86b112586fc1",
        "part": "whole"
       },
       "id": "5fea4bba-7dfd-4820-ba75-9d2d06fbbb57"
      }
     }
    },
    "580cf50f-df8e-47bf-b5e4-8d55ffc50c43": {
     "id": "580cf50f-df8e-47bf-b5e4-8d55ffc50c43",
     "prev": "6e0e9192-4b68-4dce-936b-997684384696",
     "regions": {
      "9d256c5b-d4f3-4b87-8e27-4fa8a7a022a8": {
       "attrs": {
        "height": 0.8,
        "width": 0.8,
        "x": 0.1,
        "y": 0.1
       },
       "content": {
        "cell": "ec66b4a9-1ebe-46bb-9a26-9e1bd2a34fed",
        "part": "whole"
       },
       "id": "9d256c5b-d4f3-4b87-8e27-4fa8a7a022a8"
      }
     }
    },
    "59d31b83-567f-400d-a199-db18324286c8": {
     "id": "59d31b83-567f-400d-a199-db18324286c8",
     "prev": "d7388805-7996-433d-99b1-84d32db0f3f8",
     "regions": {
      "c9351b79-58fd-4091-ace7-ed66b6956761": {
       "attrs": {
        "height": 0.8,
        "width": 0.8,
        "x": 0.1,
        "y": 0.1
       },
       "content": {
        "cell": "63d1b62a-9602-4fbd-8901-73584b7fbedd",
        "part": "whole"
       },
       "id": "c9351b79-58fd-4091-ace7-ed66b6956761"
      }
     }
    },
    "5b905c42-df46-43ba-861e-197e8716284d": {
     "id": "5b905c42-df46-43ba-861e-197e8716284d",
     "prev": "7ceb5db3-4167-49ed-b633-640f282cec96",
     "regions": {
      "6f6e2395-2001-436a-a5b4-7d51d583725a": {
       "attrs": {
        "height": 0.8,
        "width": 0.8,
        "x": 0.1,
        "y": 0.1
       },
       "content": {
        "cell": "eda875d2-52df-432c-9fcb-c0d432361c0c",
        "part": "whole"
       },
       "id": "6f6e2395-2001-436a-a5b4-7d51d583725a"
      }
     }
    },
    "61bc848f-0375-47d1-81c0-4358bb86fd2b": {
     "id": "61bc848f-0375-47d1-81c0-4358bb86fd2b",
     "prev": "d468719a-e7ae-412b-bb7c-2122e985bc64",
     "regions": {
      "eebe532a-4c40-4c86-bf89-0c72777b4442": {
       "attrs": {
        "height": 0.8,
        "width": 0.8,
        "x": 0.1,
        "y": 0.1
       },
       "content": {
        "cell": "a3221052-cdcb-4fab-9890-b2932f1846c7",
        "part": "whole"
       },
       "id": "eebe532a-4c40-4c86-bf89-0c72777b4442"
      }
     }
    },
    "66340e37-a06a-41a2-b8ea-693cf9999cbd": {
     "id": "66340e37-a06a-41a2-b8ea-693cf9999cbd",
     "prev": "f37098b9-8496-4af8-a291-284f27698a63",
     "regions": {
      "91365fe4-48ec-4b30-9389-29034ce95638": {
       "attrs": {
        "height": 0.8,
        "width": 0.8,
        "x": 0.1,
        "y": 0.1
       },
       "content": {
        "cell": "809f6236-5cd4-47d5-be4e-1fd836c2f634",
        "part": "whole"
       },
       "id": "91365fe4-48ec-4b30-9389-29034ce95638"
      }
     }
    },
    "6e0e9192-4b68-4dce-936b-997684384696": {
     "id": "6e0e9192-4b68-4dce-936b-997684384696",
     "prev": "26d7b163-baaa-4bbc-ac20-4feb0609058c",
     "regions": {
      "1bc57230-ebd8-4730-a678-708aa4602eb9": {
       "attrs": {
        "height": 0.8,
        "width": 0.8,
        "x": 0.1,
        "y": 0.1
       },
       "content": {
        "cell": "8647296c-1f41-4f98-a2ad-9f5dc3e9f00d",
        "part": "whole"
       },
       "id": "1bc57230-ebd8-4730-a678-708aa4602eb9"
      }
     }
    },
    "72739fb1-1fbb-47ba-8319-7337cdd0907d": {
     "id": "72739fb1-1fbb-47ba-8319-7337cdd0907d",
     "prev": "914b9d2d-a234-4b5a-a344-85b6ef1c9f2c",
     "regions": {
      "c0f18e5a-f244-4f68-a8b1-e78fef9eee6b": {
       "attrs": {
        "height": 0.8,
        "width": 0.8,
        "x": 0.1,
        "y": 0.1
       },
       "content": {
        "cell": "529fe5a0-52b6-4800-9ff0-c2bc992df4a2",
        "part": "whole"
       },
       "id": "c0f18e5a-f244-4f68-a8b1-e78fef9eee6b"
      }
     }
    },
    "730e276d-b081-4621-818f-b5f76dcc0b2f": {
     "id": "730e276d-b081-4621-818f-b5f76dcc0b2f",
     "prev": "f02c4aaf-cfda-4571-9ef5-e9442eb6020b",
     "regions": {
      "fe38f0cb-9278-44cd-81f5-d437170ad613": {
       "attrs": {
        "height": 0.8,
        "width": 0.8,
        "x": 0.1,
        "y": 0.1
       },
       "content": {
        "cell": "e107d145-3a02-49dc-a44b-fe8766da5ef0",
        "part": "whole"
       },
       "id": "fe38f0cb-9278-44cd-81f5-d437170ad613"
      }
     }
    },
    "7ceb5db3-4167-49ed-b633-640f282cec96": {
     "id": "7ceb5db3-4167-49ed-b633-640f282cec96",
     "prev": "4c1b414d-f24d-42ee-9f34-ce8f825db952",
     "regions": {
      "e37b14b2-c629-463d-803b-9d02c60def37": {
       "attrs": {
        "height": 0.8,
        "width": 0.8,
        "x": 0.1,
        "y": 0.1
       },
       "content": {
        "cell": "fc13e95b-7774-4e53-90f5-e9d706e77573",
        "part": "whole"
       },
       "id": "e37b14b2-c629-463d-803b-9d02c60def37"
      }
     }
    },
    "7d0c5b06-f64a-4403-b5e8-4dfa509ec7a4": {
     "id": "7d0c5b06-f64a-4403-b5e8-4dfa509ec7a4",
     "prev": "730e276d-b081-4621-818f-b5f76dcc0b2f",
     "regions": {
      "746e2c80-5835-4975-a71d-31d1e1fc0ad4": {
       "attrs": {
        "height": 0.8,
        "width": 0.8,
        "x": 0.1,
        "y": 0.1
       },
       "content": {
        "cell": "aed83d26-188b-4f58-bae7-beb086011282",
        "part": "whole"
       },
       "id": "746e2c80-5835-4975-a71d-31d1e1fc0ad4"
      }
     }
    },
    "811da873-bbe1-4330-8105-f1c1e1da872a": {
     "id": "811da873-bbe1-4330-8105-f1c1e1da872a",
     "prev": "fe22a047-39b9-4f5d-8f8a-3d7f8f7311b7",
     "regions": {
      "aac2f89b-456b-44d1-98d5-0ed890f6e684": {
       "attrs": {
        "height": 0.8,
        "width": 0.8,
        "x": 0.1,
        "y": 0.1
       },
       "content": {
        "cell": "95c34de3-2574-4b2f-b37f-14f462604658",
        "part": "whole"
       },
       "id": "aac2f89b-456b-44d1-98d5-0ed890f6e684"
      }
     }
    },
    "81afe039-cd58-4928-8904-bd6ee0430981": {
     "id": "81afe039-cd58-4928-8904-bd6ee0430981",
     "prev": "e07c3b19-033a-48dc-99b9-962810d99bf9",
     "regions": {
      "fe40055d-670a-45ac-a909-06c3117a04ed": {
       "attrs": {
        "height": 0.8,
        "width": 0.8,
        "x": 0.1,
        "y": 0.1
       },
       "content": {
        "cell": "9dfd8222-f589-472a-9dcc-e139f7bafc2a",
        "part": "whole"
       },
       "id": "fe40055d-670a-45ac-a909-06c3117a04ed"
      }
     }
    },
    "888632d1-e9f1-4ad4-aa93-175d369f22a7": {
     "id": "888632d1-e9f1-4ad4-aa93-175d369f22a7",
     "prev": "4b583cbf-69d4-406a-9be2-0df48b91290b",
     "regions": {
      "c1ea72e8-c9fe-434c-9b71-0744d7eee329": {
       "attrs": {
        "height": 0.8,
        "width": 0.8,
        "x": 0.1,
        "y": 0.1
       },
       "content": {
        "cell": "6cda1cb8-556c-44f5-8875-45d6f517a549",
        "part": "whole"
       },
       "id": "c1ea72e8-c9fe-434c-9b71-0744d7eee329"
      }
     }
    },
    "8a0d7239-3a5b-4554-a4b8-5af55748030b": {
     "id": "8a0d7239-3a5b-4554-a4b8-5af55748030b",
     "prev": "fff49322-8baf-497a-a482-bf4c0dfe0ae1",
     "regions": {
      "79a7e2df-9b9a-41b3-ba5b-cc5e99cbb0e6": {
       "attrs": {
        "height": 0.8,
        "width": 0.8,
        "x": 0.1,
        "y": 0.1
       },
       "content": {
        "cell": "cb73c5dd-eabd-4e70-bc4a-d0c7a12b2340",
        "part": "whole"
       },
       "id": "79a7e2df-9b9a-41b3-ba5b-cc5e99cbb0e6"
      }
     }
    },
    "8be949cc-e03b-43d9-a2df-33d943d1b3c2": {
     "id": "8be949cc-e03b-43d9-a2df-33d943d1b3c2",
     "prev": "59d31b83-567f-400d-a199-db18324286c8",
     "regions": {
      "a5e73199-9c96-447c-8e8a-2a049499954c": {
       "attrs": {
        "height": 0.8,
        "width": 0.8,
        "x": 0.1,
        "y": 0.1
       },
       "content": {
        "cell": "c35b1a49-c2fa-4a29-95d7-a853c28f6497",
        "part": "whole"
       },
       "id": "a5e73199-9c96-447c-8e8a-2a049499954c"
      }
     }
    },
    "8d194527-9961-4762-bf2d-6dc9e1875b4b": {
     "id": "8d194527-9961-4762-bf2d-6dc9e1875b4b",
     "prev": "efbe7c68-9fb7-4af6-a7a6-b6a1e2a2b09c",
     "regions": {
      "a56f2cfd-cab1-4c81-9d94-0451d9202024": {
       "attrs": {
        "height": 0.8,
        "width": 0.8,
        "x": 0.1,
        "y": 0.1
       },
       "content": {
        "cell": "56cc3fa0-7056-471f-8c9b-f27a76d42fe9",
        "part": "whole"
       },
       "id": "a56f2cfd-cab1-4c81-9d94-0451d9202024"
      }
     }
    },
    "8f55e089-6b3e-4449-a908-44eb1998e576": {
     "id": "8f55e089-6b3e-4449-a908-44eb1998e576",
     "prev": "f1dbd946-2867-4d41-8f83-38a213db9ac8",
     "regions": {
      "7981eb3e-373b-4ff9-816e-16449f2b9e11": {
       "attrs": {
        "height": 0.8,
        "width": 0.8,
        "x": 0.1,
        "y": 0.1
       },
       "content": {
        "cell": "da1ffa67-ad9a-4872-b390-0f0e057d10eb",
        "part": "whole"
       },
       "id": "7981eb3e-373b-4ff9-816e-16449f2b9e11"
      }
     }
    },
    "914b9d2d-a234-4b5a-a344-85b6ef1c9f2c": {
     "id": "914b9d2d-a234-4b5a-a344-85b6ef1c9f2c",
     "prev": "a1b4b533-9bfc-4cec-a570-679d83ad56b5",
     "regions": {
      "fa907053-9e55-42c6-881b-6a7f7be3508d": {
       "attrs": {
        "height": 0.8,
        "width": 0.8,
        "x": 0.1,
        "y": 0.1
       },
       "content": {
        "cell": "629b91bb-723e-4a16-b6ee-641fbda28eea",
        "part": "whole"
       },
       "id": "fa907053-9e55-42c6-881b-6a7f7be3508d"
      }
     }
    },
    "93d2d28f-a68f-4143-bbf8-49c964bc0872": {
     "id": "93d2d28f-a68f-4143-bbf8-49c964bc0872",
     "prev": "61bc848f-0375-47d1-81c0-4358bb86fd2b",
     "regions": {
      "a28d24f9-3430-405f-8413-dbac976fa81f": {
       "attrs": {
        "height": 0.8,
        "width": 0.8,
        "x": 0.1,
        "y": 0.1
       },
       "content": {
        "cell": "7eb4b901-8d6a-4202-99e0-a064b539fb90",
        "part": "whole"
       },
       "id": "a28d24f9-3430-405f-8413-dbac976fa81f"
      }
     }
    },
    "9768fff0-9d71-428b-ac79-a788e44476dc": {
     "id": "9768fff0-9d71-428b-ac79-a788e44476dc",
     "prev": "4dcf8fdc-f6ac-4841-ad64-8a25765deca4",
     "regions": {
      "269783ce-68f8-45e6-8122-b4f9001d024f": {
       "attrs": {
        "height": 0.8,
        "width": 0.8,
        "x": 0.1,
        "y": 0.1
       },
       "content": {
        "cell": "2e7aa24f-38bd-44f6-8755-278ea9bed25d",
        "part": "whole"
       },
       "id": "269783ce-68f8-45e6-8122-b4f9001d024f"
      }
     }
    },
    "9c36e689-aaa5-4814-9051-80485af76679": {
     "id": "9c36e689-aaa5-4814-9051-80485af76679",
     "prev": "2bcb6b96-3462-402a-bb45-0fd11876cc8c",
     "regions": {
      "77b11633-31d1-4e03-8cd1-2585bed00166": {
       "attrs": {
        "height": 0.8,
        "width": 0.8,
        "x": 0.1,
        "y": 0.1
       },
       "content": {
        "cell": "3cbc59d6-4577-4806-92fc-abaeda5bafa9",
        "part": "whole"
       },
       "id": "77b11633-31d1-4e03-8cd1-2585bed00166"
      }
     }
    },
    "a1b4b533-9bfc-4cec-a570-679d83ad56b5": {
     "id": "a1b4b533-9bfc-4cec-a570-679d83ad56b5",
     "prev": null,
     "regions": {
      "6c15fcdc-f19a-4422-ada0-48e4351307ff": {
       "attrs": {
        "height": 0.8,
        "width": 0.8,
        "x": 0.1,
        "y": 0.1
       },
       "content": {
        "cell": "8066e616-7baa-4122-ae6d-9e25823dd27a",
        "part": "whole"
       },
       "id": "6c15fcdc-f19a-4422-ada0-48e4351307ff"
      }
     }
    },
    "a6fb3f10-cc19-45f1-9c0b-488cf4c12fe8": {
     "id": "a6fb3f10-cc19-45f1-9c0b-488cf4c12fe8",
     "prev": "e2cbbac6-cdc0-40e4-8069-a6ff458ef947",
     "regions": {
      "1eee8ebb-e0d4-403c-a371-4cdf27bcb25d": {
       "attrs": {
        "height": 0.8,
        "width": 0.8,
        "x": 0.1,
        "y": 0.1
       },
       "content": {
        "cell": "d84adcdd-7860-4a9b-903e-b11fd94773da",
        "part": "whole"
       },
       "id": "1eee8ebb-e0d4-403c-a371-4cdf27bcb25d"
      }
     }
    },
    "aa93b59a-e32e-42aa-8741-710ffb878609": {
     "id": "aa93b59a-e32e-42aa-8741-710ffb878609",
     "prev": "2bdb702f-5c4c-4cd1-ab9d-d7d3ade8ca2b",
     "regions": {
      "8df9288c-eeeb-48b1-8916-d97b5d585e39": {
       "attrs": {
        "height": 0.8,
        "width": 0.8,
        "x": 0.1,
        "y": 0.1
       },
       "content": {
        "cell": "b718f231-c301-4b73-891a-f5517bc1c493",
        "part": "whole"
       },
       "id": "8df9288c-eeeb-48b1-8916-d97b5d585e39"
      }
     }
    },
    "aad22da4-4913-46c6-bad3-ef8f1ef78029": {
     "id": "aad22da4-4913-46c6-bad3-ef8f1ef78029",
     "prev": "bfe10002-b5ec-49ef-afec-c3620f3bfeaf",
     "regions": {
      "9515b9c6-4ebf-4c7a-955c-a00bea6e2098": {
       "attrs": {
        "height": 0.8,
        "width": 0.8,
        "x": 0.1,
        "y": 0.1
       },
       "content": {
        "cell": "27ac57ad-9c07-4459-8ac7-e7e607c1ff2b",
        "part": "whole"
       },
       "id": "9515b9c6-4ebf-4c7a-955c-a00bea6e2098"
      }
     }
    },
    "ad05d6cc-3b90-4201-87a7-cf17325ecf5a": {
     "id": "ad05d6cc-3b90-4201-87a7-cf17325ecf5a",
     "prev": "1a0c1a76-d251-4f1b-b69a-2986d51c9502",
     "regions": {
      "86d517d9-e644-4c37-98ce-994e79d069b2": {
       "attrs": {
        "height": 0.8,
        "width": 0.8,
        "x": 0.1,
        "y": 0.1
       },
       "content": {
        "cell": "27faa514-48c6-458b-b9ce-73b1ab5eacd2",
        "part": "whole"
       },
       "id": "86d517d9-e644-4c37-98ce-994e79d069b2"
      }
     }
    },
    "b238d2f2-a483-4805-8e55-7513d141cee4": {
     "id": "b238d2f2-a483-4805-8e55-7513d141cee4",
     "prev": "c596dbae-9fbe-45df-9a0a-a1ed607c6538",
     "regions": {
      "ff9e6f41-84b7-436a-9cbe-b20e3ab92ec8": {
       "attrs": {
        "height": 0.8,
        "width": 0.8,
        "x": 0.1,
        "y": 0.1
       },
       "content": {
        "cell": "6e1a8ddd-9969-4730-85e2-6c0ad1bba821",
        "part": "whole"
       },
       "id": "ff9e6f41-84b7-436a-9cbe-b20e3ab92ec8"
      }
     }
    },
    "b2f6353c-4222-4a7f-b0ac-61394a9847ea": {
     "id": "b2f6353c-4222-4a7f-b0ac-61394a9847ea",
     "prev": "8be949cc-e03b-43d9-a2df-33d943d1b3c2",
     "regions": {
      "3df0133f-b1e7-4def-bfda-e0675213935c": {
       "attrs": {
        "height": 0.8,
        "width": 0.8,
        "x": 0.1,
        "y": 0.1
       },
       "content": {
        "cell": "b187d927-f090-4248-94b9-ce6f998c7892",
        "part": "whole"
       },
       "id": "3df0133f-b1e7-4def-bfda-e0675213935c"
      }
     }
    },
    "ba1db2f8-c97e-405f-a3d7-81004741723c": {
     "id": "ba1db2f8-c97e-405f-a3d7-81004741723c",
     "prev": "0adde777-75bb-49e1-96be-5b5cec79e59e",
     "regions": {
      "425889ad-7deb-47d8-a910-8f3dfc3d0011": {
       "attrs": {
        "height": 0.8,
        "width": 0.8,
        "x": 0.1,
        "y": 0.1
       },
       "content": {
        "cell": "88ba2a30-82f5-40dc-beb9-4f4983504241",
        "part": "whole"
       },
       "id": "425889ad-7deb-47d8-a910-8f3dfc3d0011"
      }
     }
    },
    "bfe10002-b5ec-49ef-afec-c3620f3bfeaf": {
     "id": "bfe10002-b5ec-49ef-afec-c3620f3bfeaf",
     "prev": "ca2026c4-ee4f-4811-badd-41360ab58825",
     "regions": {
      "a7eb3697-0e5c-45a4-be7a-73cc9e1e1afe": {
       "attrs": {
        "height": 0.8,
        "width": 0.8,
        "x": 0.1,
        "y": 0.1
       },
       "content": {
        "cell": "07f19bf1-6605-4052-a303-4dfe82b819a0",
        "part": "whole"
       },
       "id": "a7eb3697-0e5c-45a4-be7a-73cc9e1e1afe"
      }
     }
    },
    "c3d7415c-6cd4-42c3-9042-b2f2111be7b8": {
     "id": "c3d7415c-6cd4-42c3-9042-b2f2111be7b8",
     "prev": "72739fb1-1fbb-47ba-8319-7337cdd0907d",
     "regions": {
      "b340a61f-20d3-43ba-b873-ba19091628f3": {
       "attrs": {
        "height": 0.8,
        "width": 0.8,
        "x": 0.1,
        "y": 0.1
       },
       "content": {
        "cell": "7dab7577-9c69-4614-9ef8-c2294b266e2b",
        "part": "whole"
       },
       "id": "b340a61f-20d3-43ba-b873-ba19091628f3"
      }
     }
    },
    "c596dbae-9fbe-45df-9a0a-a1ed607c6538": {
     "id": "c596dbae-9fbe-45df-9a0a-a1ed607c6538",
     "prev": "4b1702b4-d416-4c0d-a24d-3556e7f69999",
     "regions": {
      "af135e61-ffbf-4065-aad8-4764130cb6b3": {
       "attrs": {
        "height": 0.8,
        "width": 0.8,
        "x": 0.1,
        "y": 0.1
       },
       "content": {
        "cell": "37c1b346-c7bd-49fa-a877-bc50c5bfb232",
        "part": "whole"
       },
       "id": "af135e61-ffbf-4065-aad8-4764130cb6b3"
      }
     }
    },
    "c816deca-fdc7-4f26-916b-1da61b10bc90": {
     "id": "c816deca-fdc7-4f26-916b-1da61b10bc90",
     "prev": "ba1db2f8-c97e-405f-a3d7-81004741723c",
     "regions": {
      "3b0102e0-9108-420d-9594-a163e03c87a4": {
       "attrs": {
        "height": 0.8,
        "width": 0.8,
        "x": 0.1,
        "y": 0.1
       },
       "content": {
        "cell": "6e1a1766-7f4b-4cc7-8d49-08fa7b75abee",
        "part": "whole"
       },
       "id": "3b0102e0-9108-420d-9594-a163e03c87a4"
      }
     }
    },
    "ca2026c4-ee4f-4811-badd-41360ab58825": {
     "id": "ca2026c4-ee4f-4811-badd-41360ab58825",
     "prev": "28a8de00-7ac0-42c9-b326-60d783346de8",
     "regions": {
      "2be2446e-cf28-44a9-b30c-910a96a9c6d2": {
       "attrs": {
        "height": 0.8,
        "width": 0.8,
        "x": 0.1,
        "y": 0.1
       },
       "content": {
        "cell": "86d70378-412d-436e-8144-6dfdf3d2925c",
        "part": "whole"
       },
       "id": "2be2446e-cf28-44a9-b30c-910a96a9c6d2"
      }
     }
    },
    "cf03ec9b-b621-4194-a6ae-d211cc37e3fc": {
     "id": "cf03ec9b-b621-4194-a6ae-d211cc37e3fc",
     "prev": "f09d26f8-0773-4333-bdad-da091c4aab19",
     "regions": {
      "444cc877-17e0-4c4c-b088-6944c418421e": {
       "attrs": {
        "height": 0.8,
        "width": 0.8,
        "x": 0.1,
        "y": 0.1
       },
       "content": {
        "cell": "13d5ab7e-5063-4de2-8481-dd527feff45d",
        "part": "whole"
       },
       "id": "444cc877-17e0-4c4c-b088-6944c418421e"
      }
     }
    },
    "d3ec4f0d-2bf0-459c-8cbc-1e1b2c7e64b2": {
     "id": "d3ec4f0d-2bf0-459c-8cbc-1e1b2c7e64b2",
     "prev": "109da437-1ba7-4f28-a0d5-d2253dec4bac",
     "regions": {
      "a9b7b138-7885-42d9-a6dc-efcdde754336": {
       "attrs": {
        "height": 0.8,
        "width": 0.8,
        "x": 0.1,
        "y": 0.1
       },
       "content": {
        "cell": "7da83cbf-cd3a-4f64-af94-213b624eb9fa",
        "part": "whole"
       },
       "id": "a9b7b138-7885-42d9-a6dc-efcdde754336"
      }
     }
    },
    "d468719a-e7ae-412b-bb7c-2122e985bc64": {
     "id": "d468719a-e7ae-412b-bb7c-2122e985bc64",
     "prev": "30152460-2740-4360-b938-c3f212d29ade",
     "regions": {
      "34c1a99c-f672-4a90-8af8-494ab9657411": {
       "attrs": {
        "height": 0.8,
        "width": 0.8,
        "x": 0.1,
        "y": 0.1
       },
       "content": {
        "cell": "34a413ee-266c-4d6e-bde5-a9d6c6c7a81e",
        "part": "whole"
       },
       "id": "34c1a99c-f672-4a90-8af8-494ab9657411"
      }
     }
    },
    "d7388805-7996-433d-99b1-84d32db0f3f8": {
     "id": "d7388805-7996-433d-99b1-84d32db0f3f8",
     "prev": "c816deca-fdc7-4f26-916b-1da61b10bc90",
     "regions": {
      "3f5328fe-4f28-4d90-b511-d2524de72b11": {
       "attrs": {
        "height": 0.8,
        "width": 0.8,
        "x": 0.1,
        "y": 0.1
       },
       "content": {
        "cell": "043f5320-cfef-42c4-8735-541ac10349a7",
        "part": "whole"
       },
       "id": "3f5328fe-4f28-4d90-b511-d2524de72b11"
      }
     }
    },
    "e07c3b19-033a-48dc-99b9-962810d99bf9": {
     "id": "e07c3b19-033a-48dc-99b9-962810d99bf9",
     "prev": "8a0d7239-3a5b-4554-a4b8-5af55748030b",
     "regions": {
      "4c206bb8-ea95-4270-a003-ed68a1e9bf3b": {
       "attrs": {
        "height": 0.8,
        "width": 0.8,
        "x": 0.1,
        "y": 0.1
       },
       "content": {
        "cell": "fe9b7c7f-6c37-4cf1-a1c2-f4156601f431",
        "part": "whole"
       },
       "id": "4c206bb8-ea95-4270-a003-ed68a1e9bf3b"
      }
     }
    },
    "e2cbbac6-cdc0-40e4-8069-a6ff458ef947": {
     "id": "e2cbbac6-cdc0-40e4-8069-a6ff458ef947",
     "prev": "8f55e089-6b3e-4449-a908-44eb1998e576",
     "regions": {
      "e5cc030c-ca12-4a99-a9a3-e614f22347f9": {
       "attrs": {
        "height": 0.8,
        "width": 0.8,
        "x": 0.1,
        "y": 0.1
       },
       "content": {
        "cell": "9da05044-a9cc-4abe-ad13-ef69a1d6ed9c",
        "part": "whole"
       },
       "id": "e5cc030c-ca12-4a99-a9a3-e614f22347f9"
      }
     }
    },
    "e6b3a0f9-4e6e-4baa-912e-6509b4a23197": {
     "id": "e6b3a0f9-4e6e-4baa-912e-6509b4a23197",
     "prev": "c3d7415c-6cd4-42c3-9042-b2f2111be7b8",
     "regions": {
      "c4e690ca-d761-4f40-a5f3-145469faa2ec": {
       "attrs": {
        "height": 0.8,
        "width": 0.8,
        "x": 0.1,
        "y": 0.1
       },
       "content": {
        "cell": "275c1d5b-c806-4e41-845e-153b1875f147",
        "part": "whole"
       },
       "id": "c4e690ca-d761-4f40-a5f3-145469faa2ec"
      }
     }
    },
    "efbe7c68-9fb7-4af6-a7a6-b6a1e2a2b09c": {
     "id": "efbe7c68-9fb7-4af6-a7a6-b6a1e2a2b09c",
     "prev": "4d101683-8439-43a4-9a6a-a214192c3336",
     "regions": {
      "021e3d1e-c3f9-4b15-8664-1b54a588110d": {
       "attrs": {
        "height": 0.8,
        "width": 0.8,
        "x": 0.1,
        "y": 0.1
       },
       "content": {
        "cell": "8a9a44fa-3284-4bd8-a847-62308de9fbea",
        "part": "whole"
       },
       "id": "021e3d1e-c3f9-4b15-8664-1b54a588110d"
      }
     }
    },
    "f02c4aaf-cfda-4571-9ef5-e9442eb6020b": {
     "id": "f02c4aaf-cfda-4571-9ef5-e9442eb6020b",
     "prev": "d3ec4f0d-2bf0-459c-8cbc-1e1b2c7e64b2",
     "regions": {
      "a4594061-d6ea-4abf-b9aa-f91e2e67e422": {
       "attrs": {
        "height": 0.8,
        "width": 0.8,
        "x": 0.1,
        "y": 0.1
       },
       "content": {
        "cell": "b682cb62-cc66-4429-8247-c6fe8a89c469",
        "part": "whole"
       },
       "id": "a4594061-d6ea-4abf-b9aa-f91e2e67e422"
      }
     }
    },
    "f09d26f8-0773-4333-bdad-da091c4aab19": {
     "id": "f09d26f8-0773-4333-bdad-da091c4aab19",
     "prev": "93d2d28f-a68f-4143-bbf8-49c964bc0872",
     "regions": {
      "6780be43-94bc-4ad7-af24-0ebb596ce98e": {
       "attrs": {
        "height": 0.8,
        "width": 0.8,
        "x": 0.1,
        "y": 0.1
       },
       "content": {
        "cell": "c764b347-fead-4eb9-8a16-d0ff971cba7e",
        "part": "whole"
       },
       "id": "6780be43-94bc-4ad7-af24-0ebb596ce98e"
      }
     }
    },
    "f1dbd946-2867-4d41-8f83-38a213db9ac8": {
     "id": "f1dbd946-2867-4d41-8f83-38a213db9ac8",
     "prev": "406eb33a-0b72-4390-8f3b-81de9f78b8b4",
     "regions": {
      "e1e77d4d-785f-4039-81f2-728981e5e186": {
       "attrs": {
        "height": 0.8,
        "width": 0.8,
        "x": 0.1,
        "y": 0.1
       },
       "content": {
        "cell": "135047dd-e27f-486b-b4c8-84716cc55f40",
        "part": "whole"
       },
       "id": "e1e77d4d-785f-4039-81f2-728981e5e186"
      }
     }
    },
    "f33e3c5b-cb3f-4934-af99-08afbfdb7f94": {
     "id": "f33e3c5b-cb3f-4934-af99-08afbfdb7f94",
     "prev": "b238d2f2-a483-4805-8e55-7513d141cee4",
     "regions": {
      "19915ed8-c9bc-47ce-a321-707adff8398a": {
       "attrs": {
        "height": 0.8,
        "width": 0.8,
        "x": 0.1,
        "y": 0.1
       },
       "content": {
        "cell": "5ef0cf3c-49bc-4465-ad36-6b6affa769a0",
        "part": "whole"
       },
       "id": "19915ed8-c9bc-47ce-a321-707adff8398a"
      }
     }
    },
    "f37098b9-8496-4af8-a291-284f27698a63": {
     "id": "f37098b9-8496-4af8-a291-284f27698a63",
     "prev": "9c36e689-aaa5-4814-9051-80485af76679",
     "regions": {
      "3ff38a4a-6b55-4e8e-8371-b84a0f725891": {
       "attrs": {
        "height": 0.8,
        "width": 0.8,
        "x": 0.1,
        "y": 0.1
       },
       "content": {
        "cell": "6ceb5f71-b055-4357-af3f-deab609a1e04",
        "part": "whole"
       },
       "id": "3ff38a4a-6b55-4e8e-8371-b84a0f725891"
      }
     }
    },
    "f4216a2a-311e-4302-a4af-00bf3bf7fac2": {
     "id": "f4216a2a-311e-4302-a4af-00bf3bf7fac2",
     "prev": "cf03ec9b-b621-4194-a6ae-d211cc37e3fc",
     "regions": {
      "886dfba1-51bb-4e2c-a788-d662fd55a3f5": {
       "attrs": {
        "height": 0.8,
        "width": 0.8,
        "x": 0.1,
        "y": 0.1
       },
       "content": {
        "cell": "07b9470c-183e-48ad-9bdc-4fc87685b11a",
        "part": "whole"
       },
       "id": "886dfba1-51bb-4e2c-a788-d662fd55a3f5"
      }
     }
    },
    "f51dd5de-199e-49e2-a413-bd2ef3e94acc": {
     "id": "f51dd5de-199e-49e2-a413-bd2ef3e94acc",
     "prev": "e6b3a0f9-4e6e-4baa-912e-6509b4a23197",
     "regions": {
      "a776a51d-be11-47c9-ac83-ef45e4c52ec6": {
       "attrs": {
        "height": 0.8,
        "width": 0.8,
        "x": 0.1,
        "y": 0.1
       },
       "content": {
        "cell": "62f7ccf4-f658-4238-ad06-6f4017af6b40",
        "part": "whole"
       },
       "id": "a776a51d-be11-47c9-ac83-ef45e4c52ec6"
      }
     }
    },
    "fa97c5c9-a486-43ca-831a-a3dce4c77e78": {
     "id": "fa97c5c9-a486-43ca-831a-a3dce4c77e78",
     "prev": "52558314-69e8-41e1-920f-0eb211c50ce3",
     "regions": {
      "3b06b859-df79-4aff-a980-a6673285117b": {
       "attrs": {
        "height": 0.8,
        "width": 0.8,
        "x": 0.1,
        "y": 0.1
       },
       "content": {
        "cell": "53447d6d-24da-4561-b6b6-a04d167c6704",
        "part": "whole"
       },
       "id": "3b06b859-df79-4aff-a980-a6673285117b"
      }
     }
    },
    "fc0aa304-9a47-4862-a67c-593f24f6ccb0": {
     "id": "fc0aa304-9a47-4862-a67c-593f24f6ccb0",
     "prev": "b2f6353c-4222-4a7f-b0ac-61394a9847ea",
     "regions": {
      "fcbe09f6-74b9-4394-a308-f08ed0b27e5e": {
       "attrs": {
        "height": 0.8,
        "width": 0.8,
        "x": 0.1,
        "y": 0.1
       },
       "content": {
        "cell": "df14406b-32c8-4e56-93e0-06cdab0e3bb0",
        "part": "whole"
       },
       "id": "fcbe09f6-74b9-4394-a308-f08ed0b27e5e"
      }
     }
    },
    "fe22a047-39b9-4f5d-8f8a-3d7f8f7311b7": {
     "id": "fe22a047-39b9-4f5d-8f8a-3d7f8f7311b7",
     "prev": "9768fff0-9d71-428b-ac79-a788e44476dc",
     "regions": {
      "1e8c29c3-4c41-4739-878a-5e93ae74712f": {
       "attrs": {
        "height": 0.8,
        "width": 0.8,
        "x": 0.1,
        "y": 0.1
       },
       "content": {
        "cell": "a001117a-1ba9-43c9-853b-581a7dcbe7d4",
        "part": "whole"
       },
       "id": "1e8c29c3-4c41-4739-878a-5e93ae74712f"
      }
     }
    },
    "fff49322-8baf-497a-a482-bf4c0dfe0ae1": {
     "id": "fff49322-8baf-497a-a482-bf4c0dfe0ae1",
     "prev": "5b905c42-df46-43ba-861e-197e8716284d",
     "regions": {
      "8587f7e9-3aca-4403-972b-d5cad5061777": {
       "attrs": {
        "height": 0.8,
        "width": 0.8,
        "x": 0.1,
        "y": 0.1
       },
       "content": {
        "cell": "49c15cfb-de7b-4a56-b8bd-74c7cc4ff2dc",
        "part": "whole"
       },
       "id": "8587f7e9-3aca-4403-972b-d5cad5061777"
      }
     }
    }
   },
   "themes": {}
  },
  "toc": {
   "base_numbering": 1,
   "nav_menu": {},
   "number_sections": false,
   "sideBar": true,
   "skip_h1_title": false,
   "title_cell": "Table of Contents",
   "title_sidebar": "Contents",
   "toc_cell": false,
   "toc_position": {
    "height": "calc(100% - 180px)",
    "left": "10px",
    "top": "150px",
    "width": "165px"
   },
   "toc_section_display": true,
   "toc_window_display": true
  },
  "varInspector": {
   "cols": {
    "lenName": 16,
    "lenType": 16,
    "lenVar": 40
   },
   "kernels_config": {
    "python": {
     "delete_cmd_postfix": "",
     "delete_cmd_prefix": "del ",
     "library": "var_list.py",
     "varRefreshCmd": "print(var_dic_list())"
    },
    "r": {
     "delete_cmd_postfix": ") ",
     "delete_cmd_prefix": "rm(",
     "library": "var_list.r",
     "varRefreshCmd": "cat(var_dic_list()) "
    }
   },
   "types_to_exclude": [
    "module",
    "function",
    "builtin_function_or_method",
    "instance",
    "_Feature"
   ],
   "window_display": false
  }
 },
 "nbformat": 4,
 "nbformat_minor": 4
}
