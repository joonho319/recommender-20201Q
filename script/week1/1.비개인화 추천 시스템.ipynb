{
 "cells": [
  {
   "cell_type": "markdown",
   "metadata": {
    "nbpresent": {
     "id": "2cb23c01-53e3-406c-8859-70178b8586a0"
    },
    "slideshow": {
     "slide_type": "slide"
    }
   },
   "source": [
    "╔══<i><b>Public-AI</b></i>═══════════════════════════════════════════════════╗\n",
    "### ✎&nbsp;&nbsp;week 1. 고객 데이터와 개인화 추천시스템\n",
    "\n",
    "# Section 1. 비개인화 추천 시스템\n",
    "\n",
    "개인화 추천 시스템이 부상하기 전에도 추천시스템은 존재했습니다. 그 중 대표적인 방법이 '순위'를 이용한 비개인화 추천입니다. <br>\n",
    "누가 어디서 무엇을 구매했느냐 등의 정보를 복합적으로 고려하는 개인화 추천시스템과 다르게 비개인화 추천은 주어진 데이터 안에서 인기도나 최신성 등의 통계치를 내어 정렬을 하고 상위의 상품을 노출합니다. <br>\n",
    "<br>\n",
    "이번에는 본격적으로 개인화 추천시스템을 배우기에 앞서 비개인화된 방식으로 추천할 아이템을 찾아봅시다. <br>\n",
    "실무 환경에서 추천 시스템을 구성해보아야 하기 때문에 관계형 데이터베이스에 접속하여 데이터에 접근하고 데이터를 가져와보겠습니다.<br>\n",
    "데이터베이스에 직접 쿼리하는 쿼리문을 작성해 기준에 따라 통계치를 계산하여 추천할 아이템을 찾아주는 시스템을 만들어봅시다. <br>\n",
    "\n",
    "\n",
    "### _Objective_ \n",
    "* [데이터베이스의 데이터 확인하기] RDB에 연결하여 데이터를 확인하고, 필요에 따라 SQL 쿼리를 작성하여 데이터베이스로부터 데이터를 가져오는 방법을 배웁니다. \n",
    "* [데이터 탐색하기] Pandas를 이용해 데이터를 탐색하고, 원하는 형태에 따라 데이터를 변형하는 방법을 배웁니다. \n",
    "* [비개인화 추천: 아이템의 순위 매기기] 비개인화 추천시스템 중 대표적인 방법인 순위를 활용한 추천 방식을 배웁니다.\n",
    "\n",
    "╚═══════════════════════════════════════════════════════════╝"
   ]
  },
  {
   "cell_type": "code",
   "execution_count": 4,
   "metadata": {
    "nbpresent": {
     "id": "bfaf6ef2-5261-4bbd-be33-edc09c54244d"
    },
    "slideshow": {
     "slide_type": "slide"
    }
   },
   "outputs": [],
   "source": [
    "# 필요한 라이브러리 가져오기\n",
    "%matplotlib inline\n",
    "import os\n",
    "import numpy as np\n",
    "import pandas as pd\n",
    "import matplotlib.pyplot as plt\n",
    "from datetime import datetime\n",
    "from tensorflow.keras.utils import get_file\n",
    "\n",
    "# 영화 포스터를 가져와 주피터에서 볼 수 있도록 만들어주는 메소드\n",
    "def display_posters(movieId_list):\n",
    "    import requests\n",
    "    from io import BytesIO\n",
    "    from PIL import Image\n",
    "    \n",
    "    def get_poster(movieId):\n",
    "        url = \"https://pai-datasets.s3.ap-northeast-2.amazonaws.com/recommender_systems/movielens/img/POSTER_20M_FULL/{}.jpg\".format(movieId)\n",
    "        try:\n",
    "            response = requests.get(url)\n",
    "            b = BytesIO(response.content)\n",
    "            img = np.asarray(Image.open(b))\n",
    "        except:\n",
    "            img = np.zeros((200,100,3))\n",
    "        return img\n",
    "    \n",
    "    images = []\n",
    "    for i in movieId_list:\n",
    "        img = get_poster(i)\n",
    "        images.append(img)\n",
    "\n",
    "    columns = 5\n",
    "    rows = (len(movieId_list) - 1) // columns + 1\n",
    "    fig, axes = plt.subplots(rows, columns)\n",
    "    axes = axes.flatten()\n",
    "    fig.set_size_inches((20,rows * 5))\n",
    "        \n",
    "    for ind, img in enumerate(images):\n",
    "        c_id = ind % columns\n",
    "        r_id = ind // columns\n",
    "        ax = axes[r_id*columns + c_id]\n",
    "        ax.set_title(movieId_list[ind])\n",
    "        ax.imshow(img)\n",
    "\n",
    "    plt.tight_layout()"
   ]
  },
  {
   "cell_type": "markdown",
   "metadata": {
    "nbpresent": {
     "id": "b2c29424-5e86-4adb-ae24-7b20a73e208b"
    },
    "slideshow": {
     "slide_type": "slide"
    }
   },
   "source": [
    "# \\[데이터베이스의 데이터 확인하기\\]\n",
    "---\n",
    "\n",
    "## 1. 데이터베이스에 접속하기\n",
    "\n",
    "많은 데이터베이스 프로그램은 클라이언트/서버 형태로 가동하고 있습니다. <br>\n",
    "회사 전산망 혹은 클라우드에 데이터를 일괄적으로 저장하는 서버 컴퓨터가 별도로 존재하고, 해당 서버 컴퓨터에 접속 권한을 받아 들어가는 방식으로 동작합니다. <br>\n",
    "보통 데이터베이스 서버를 접속하기 위해서는 아래의 정보들이 필요합니다. <br>\n",
    "\n",
    "| 인자  | 설명 |\n",
    "|------|-----|\n",
    "| host | 데이터베이스 서버의 주소(URL)|\n",
    "| db   | 데이터베이스 이름| \n",
    "| user | 사용자 이름 |\n",
    "| password | 사용자 비밀번호 |\n",
    "\n",
    "`pymysql`은 파이썬이 관계형 데이터베이스인 MariaDB와 연결할 수 있게 도와주는 엔진 패키지입니다.<br>\n",
    "이 패키지를 통해 우리는 파이썬을 이용해 하나인데이터베이스로 데이터를 주고 받을 수 있게 됩니다. <br>\n",
    "\n",
    "````python\n",
    "import pymysql\n",
    "# import MySQLdb # 빠르지만, 세팅하는데에 좀 어려움이 있어요 -> mysql-client\n",
    "````\n",
    "\n",
    "본 수업에서는 개별 컴퓨터에 관계형 데이터베이스를 구축하지 않고, 클라우드 서버를 이용합니다. <br>\n",
    "아마존 클라우드 컴퓨팅 서비스 AWS(Amazon Web Services) 중 하나인 EC2를 이용해 클라우드 서버를 생성하고, MariaDB를 구축해두었습니다.<br>"
   ]
  },
  {
   "cell_type": "code",
   "execution_count": 5,
   "metadata": {
    "nbpresent": {
     "id": "a8ae95ea-93e1-4df6-9356-29d92d369ed9"
    },
    "slideshow": {
     "slide_type": "slide"
    }
   },
   "outputs": [],
   "source": [
    "import pymysql\n",
    "\n",
    "connect = pymysql.connect(\n",
    "    host='ec2-13-209-14-240.ap-northeast-2.compute.amazonaws.com',\n",
    "    user='data-engineer', \n",
    "    password='datadata',\n",
    "    db='movielens')"
   ]
  },
  {
   "cell_type": "markdown",
   "metadata": {
    "nbpresent": {
     "id": "8d78ecde-e0e8-412b-af42-46e393a640ec"
    },
    "slideshow": {
     "slide_type": "slide"
    }
   },
   "source": [
    "## 2. Movie-Lens 데이터베이스의 테이블 확인하기\n",
    "\n",
    "데이터베이스에는 여러 개의 테이블이 존재합니다. `connect`에 연결된 데이터베이스의 이름은 `movielens`입니다. <br>\n",
    "Movie-Lense 데이터는 크게 영화의 장르가 담긴 `genres` 데이터와 영화 정보가 담긴 `movies` 데이터, 영화별 평점이 담긴 `ratings` 데이터로 나뉩니다.<br>\n",
    "세 가지 데이터를 각각의 테이블로 구성하여 `movielens` 데이터베이스에 있습니다. \n",
    "\n",
    "데이터베이스에 어떤 테이블이 있는지를 확인하기 위해서는 아래와 같은 쿼리를 이용합니다.\n",
    "\n",
    "````sql\n",
    "SHOW TABLES -- 데이터베이스 내 테이블 이름 보여주기\n",
    "````"
   ]
  },
  {
   "cell_type": "code",
   "execution_count": 15,
   "metadata": {
    "nbpresent": {
     "id": "9bb14f34-99c2-4020-8b14-4f9e201c928c"
    },
    "slideshow": {
     "slide_type": "subslide"
    }
   },
   "outputs": [],
   "source": [
    "# 데이터 베이스 내 테이블이 무엇인지 찾기\n"
   ]
  },
  {
   "cell_type": "markdown",
   "metadata": {
    "nbpresent": {
     "id": "31edd43e-b9f7-4634-98bf-b4e4f4c3b4dd"
    },
    "slideshow": {
     "slide_type": "slide"
    }
   },
   "source": [
    "구체적으로 테이블 내에 어떠한 필드(열)가 있는지를 확인하기 위해서는 `DESC` 명령어를 이용하면 됩니다.\n",
    "\n",
    "````sql\n",
    "    DESC 테이블 이름 --- 테이블 내 컬럼 정보 가져오기\n",
    "````    "
   ]
  },
  {
   "cell_type": "code",
   "execution_count": 6,
   "metadata": {
    "nbpresent": {
     "id": "08eb27e8-ad0d-4f75-9b36-f5feb6571a03"
    },
    "slideshow": {
     "slide_type": "subslide"
    }
   },
   "outputs": [],
   "source": [
    "# (1) movies 테이블에 대한 컬럼 정보 가져오기\n"
   ]
  },
  {
   "cell_type": "code",
   "execution_count": 7,
   "metadata": {
    "nbpresent": {
     "id": "b4b9159c-0116-449a-badc-35b1fa51eb26"
    },
    "slideshow": {
     "slide_type": "subslide"
    }
   },
   "outputs": [],
   "source": [
    "# (2) ratings 테이블에 대한 컬럼 정보 가져오기\n"
   ]
  },
  {
   "cell_type": "code",
   "execution_count": 8,
   "metadata": {},
   "outputs": [],
   "source": [
    "# (3) genres 테이블에 대한 컬럼 정보 가져오기\n"
   ]
  },
  {
   "cell_type": "markdown",
   "metadata": {
    "nbpresent": {
     "id": "fa434a28-420e-454e-ae8b-83a33d4c23cb"
    },
    "slideshow": {
     "slide_type": "slide"
    }
   },
   "source": [
    "## 3. SQL 구문을 통해 데이터 확인하기\n",
    "\n",
    "데이터베이스에서 데이터를 전부 가져오는 작업은 데이터베이스에 부하를 주고 데이터를 가져와서 띄우는 컴퓨터에도 메모리 부담이 생기기 때문에 지양해야 합니다. <br>\n",
    "필요한 데이터를 가져오기 전에 샘플 데이터를 보고 데이터의 형태를 확인하고, 필요한 데이터에 맞게 쿼리를 작성해야 합니다.<br>\n",
    "<br>\n",
    "테이블에서 원하는 데이터를 지정해서 가져오는 기본 문법은 아래와 같습니다.<br>\n",
    "````sql\n",
    "SELECT 열 이름 FROM 테이블 이름 LIMIT 가져올 데이터 수\n",
    "```` \n"
   ]
  },
  {
   "cell_type": "markdown",
   "metadata": {
    "nbpresent": {
     "id": "8749bcbc-cc64-4102-8fce-1240c87f99ee"
    },
    "slideshow": {
     "slide_type": "subslide"
    }
   },
   "source": [
    "### (1) `movies` 테이블 확인하기\n",
    "\n",
    "위의 코드를 통해 우리는 테이블 내 레코드들을 가져올 수 있습니다."
   ]
  },
  {
   "cell_type": "code",
   "execution_count": 9,
   "metadata": {
    "nbpresent": {
     "id": "8d557475-5e80-4346-b771-2277c3f6270f"
    },
    "slideshow": {
     "slide_type": "subslide"
    }
   },
   "outputs": [],
   "source": [
    "# movies 테이블에서 10개 행만 가져오기\n"
   ]
  },
  {
   "cell_type": "markdown",
   "metadata": {
    "nbpresent": {
     "id": "c24f6a17-b6d5-4954-b381-99fadd50093b"
    },
    "slideshow": {
     "slide_type": "slide"
    }
   },
   "source": [
    "`movies`에는 `id` 칼럼과 제목에 해당하는 `title` 칼럼, 영화가 개봉된 연도인 `release_year`가 있습니다. <br>\n",
    "이 테이블에서 `id`와 `title`만 가져오고 싶다면 아래와 같이 작성하면 됩니다."
   ]
  },
  {
   "cell_type": "code",
   "execution_count": 10,
   "metadata": {
    "nbpresent": {
     "id": "2fa0c0b3-3603-481c-8b98-6287fe9069bf"
    },
    "slideshow": {
     "slide_type": "subslide"
    }
   },
   "outputs": [],
   "source": [
    "# movies 테이블의 id, title 열에 대한 10개 행 가져오기\n",
    "\n"
   ]
  },
  {
   "cell_type": "markdown",
   "metadata": {
    "nbpresent": {
     "id": "d709c678-f640-4b40-814d-19942c5fc30a"
    },
    "slideshow": {
     "slide_type": "slide"
    }
   },
   "source": [
    "### (2) `genres` 테이블 확인하기\n",
    "\n",
    "이번에는 장르 데이터를 살펴봅시다."
   ]
  },
  {
   "cell_type": "code",
   "execution_count": 12,
   "metadata": {
    "nbpresent": {
     "id": "e536adec-2090-4c5e-b3d1-8750078769eb"
    },
    "slideshow": {
     "slide_type": "subslide"
    }
   },
   "outputs": [],
   "source": [
    "# genres 테이블에서 10개 행만 가져오기\n"
   ]
  },
  {
   "cell_type": "markdown",
   "metadata": {
    "nbpresent": {
     "id": "6eeebfb2-ba3f-498e-a469-0e26c0af90b0"
    },
    "slideshow": {
     "slide_type": "subslide"
    }
   },
   "source": [
    "`genres` 테이블은 `movies` 테이블의 `id`에 해당하는 `movie_id` 칼럼이 있고, 해당 영화의 장르를 나타내는 `genres` 칼럼이 있습니다. <br>\n",
    "데이터를 보면, `movie_id` 1번의 장르가 Adventure, Animation, Children 등 다양함을 알 수 있습니다.<br>\n",
    "2번 영화도 세 가지 장르를 가졌습니다. `movie_id`의 값이 고유하지 않다는 점을 알 수 있습니다.<br>"
   ]
  },
  {
   "cell_type": "markdown",
   "metadata": {
    "slideshow": {
     "slide_type": "slide"
    }
   },
   "source": [
    "이번에는 데이터가 얼마나 있는지 확인해보겠습니다. 해당 테이블에 대한 행의 갯수는 아래의 SQL 구문으로 확인할 수 있습니다.\n",
    "````sql\n",
    "SELECT COUNT(*) FROM 테이블 이름\n",
    "````\n"
   ]
  },
  {
   "cell_type": "code",
   "execution_count": 63,
   "metadata": {},
   "outputs": [],
   "source": [
    "# genres의 행 갯수 가져오기\n"
   ]
  },
  {
   "cell_type": "markdown",
   "metadata": {
    "nbpresent": {
     "id": "1cffeba4-8c07-4185-820b-4be618c83126"
    },
    "slideshow": {
     "slide_type": "slide"
    }
   },
   "source": [
    "### (3) `ratings` 테이블 확인하기\n",
    "\n",
    "`ratings` 데이터를 보면, 사용자를 나타내는 `user_id`와 사용자가 평가한 영화를 나타내는 `movie_id`, 해당 영화에 유저가 부여한 평점인 `rating`, 평점을 남긴 날짜인 `rated_at` 칼럼이 있습니다. "
   ]
  },
  {
   "cell_type": "code",
   "execution_count": 64,
   "metadata": {
    "nbpresent": {
     "id": "b28f86b1-92dc-4d4b-9826-8c843db7eb3b"
    },
    "slideshow": {
     "slide_type": "subslide"
    }
   },
   "outputs": [],
   "source": [
    "# ratings 테이블에서 10개 행만 가져오기\n"
   ]
  },
  {
   "cell_type": "markdown",
   "metadata": {
    "nbpresent": {
     "id": "cfb9f1bc-06a5-44cb-a4ef-13665d721f35"
    },
    "slideshow": {
     "slide_type": "slide"
    }
   },
   "source": [
    "이번에는 데이터가 얼마나 있는지 확인해보겠습니다."
   ]
  },
  {
   "cell_type": "code",
   "execution_count": 65,
   "metadata": {},
   "outputs": [],
   "source": [
    "# ratings의 행 갯수 가져오기\n"
   ]
  },
  {
   "cell_type": "markdown",
   "metadata": {
    "nbpresent": {
     "id": "094f05ce-f64f-4bb6-b8c7-19f795d136e5"
    },
    "slideshow": {
     "slide_type": "subslide"
    }
   },
   "source": [
    "\n",
    "`genres`와 `movies` 데이터는 Database에서는 상대적으로 데이터 크기가 작은 편에 속합니다. <br>\n",
    "하지만 `rating` 테이블은 훨씬 더 많은 레코드(2,000만행)가 담겨 있습니다. <br>\n",
    "이러한 데이터를 가져올 때 위와 같이 코드를 작성하게 되면 동시에 수천만개의 데이터를 요청하게 돼, DBMS에 심한 부하를 가져다 줍니다.<br>\n",
    "이를 방지해 주기 위해서는 아래와 같이, Chunk 단위로 조금씩 요청한 후 이를 합쳐주는 방식이 보다 안전하고 효율적입니다.<br>\n",
    "\n",
    "````python\n",
    "# 방법 1. 한 번에 가져오기\n",
    "pd.read_sql('SELECT * from ratings', connect) # 금지, 한번에 2000만줄을 동시에 가져옴\n",
    "\n",
    "\n",
    "# 방법2. chunk 단위로 쪼개서 요청하기. 한번에 10만줄 씩 가져옴\n",
    "chunks = pd.read_sql('SELECT * from ratings', connect, chunksize=100000)\n",
    "rating_df = pd.concat([chunk for chunk in chunks])# Chunk 단위로 날라온 Dataframe을 하나로 합쳐주기\n",
    "````\n",
    "\n",
    "*caution*\n",
    "\n",
    "해당 코드는 네트워크 환경에 따라 최대 10분가량의 시간이 소요됩니다. 전체 데이터를 한 번에 처리할 일이 아니라면, 사용하지 않습니다."
   ]
  },
  {
   "cell_type": "markdown",
   "metadata": {
    "nbpresent": {
     "id": "0607bb86-2370-4acf-8795-32d267266b6a"
    },
    "slideshow": {
     "slide_type": "slide"
    }
   },
   "source": [
    "# \\[ 데이터 탐색하기 \\]\n",
    "---\n",
    "\n",
    "Pandas는 파이썬의 대표적인 데이터 분석 패키지입니다. 위에서 다루었던 `pd.read_sql` 또한 Pandas의 기능 중 하나로서, Database의 레코드들을 데이터프레임으로 변환하여 파이썬에서 다루기 편하게 만들어줍니다. <br>\n",
    "Pandas는 '코드로 치는 엑셀'과 비슷하다고 생각하면 됩니다. 코드로서 테이블에서 필요한 정보들을 탐색하고, 계산하고, 시각화하는 기능을 제공해줍니다.<br>"
   ]
  },
  {
   "cell_type": "markdown",
   "metadata": {
    "nbpresent": {
     "id": "19d659b6-f627-4a50-be2c-320e17bc8993"
    },
    "slideshow": {
     "slide_type": "subslide"
    }
   },
   "source": [
    "## 1. 각 테이블에 대한 주요 통계정보 확인하기"
   ]
  },
  {
   "cell_type": "markdown",
   "metadata": {
    "nbpresent": {
     "id": "e02856a6-1065-404c-a364-5e628d909958"
    },
    "slideshow": {
     "slide_type": "slide"
    }
   },
   "source": [
    "### (1) `movies` 테이블  탐색하기\n",
    "\n",
    "다시 `movies` 데이터를 확인해봅시다."
   ]
  },
  {
   "cell_type": "code",
   "execution_count": 66,
   "metadata": {
    "nbpresent": {
     "id": "64239999-827c-4568-8f5b-1b4d1057fc18"
    },
    "slideshow": {
     "slide_type": "subslide"
    }
   },
   "outputs": [
    {
     "data": {
      "text/html": [
       "<div>\n",
       "<style scoped>\n",
       "    .dataframe tbody tr th:only-of-type {\n",
       "        vertical-align: middle;\n",
       "    }\n",
       "\n",
       "    .dataframe tbody tr th {\n",
       "        vertical-align: top;\n",
       "    }\n",
       "\n",
       "    .dataframe thead th {\n",
       "        text-align: right;\n",
       "    }\n",
       "</style>\n",
       "<table border=\"1\" class=\"dataframe\">\n",
       "  <thead>\n",
       "    <tr style=\"text-align: right;\">\n",
       "      <th></th>\n",
       "      <th>id</th>\n",
       "      <th>title</th>\n",
       "      <th>release_year</th>\n",
       "    </tr>\n",
       "  </thead>\n",
       "  <tbody>\n",
       "    <tr>\n",
       "      <th>0</th>\n",
       "      <td>1</td>\n",
       "      <td>Toy Story</td>\n",
       "      <td>1995</td>\n",
       "    </tr>\n",
       "    <tr>\n",
       "      <th>1</th>\n",
       "      <td>2</td>\n",
       "      <td>Jumanji</td>\n",
       "      <td>1995</td>\n",
       "    </tr>\n",
       "    <tr>\n",
       "      <th>2</th>\n",
       "      <td>3</td>\n",
       "      <td>Grumpier Old Men</td>\n",
       "      <td>1995</td>\n",
       "    </tr>\n",
       "    <tr>\n",
       "      <th>3</th>\n",
       "      <td>4</td>\n",
       "      <td>Waiting to Exhale</td>\n",
       "      <td>1995</td>\n",
       "    </tr>\n",
       "    <tr>\n",
       "      <th>4</th>\n",
       "      <td>5</td>\n",
       "      <td>Father of the Bride Part II</td>\n",
       "      <td>1995</td>\n",
       "    </tr>\n",
       "    <tr>\n",
       "      <th>5</th>\n",
       "      <td>6</td>\n",
       "      <td>Heat</td>\n",
       "      <td>1995</td>\n",
       "    </tr>\n",
       "    <tr>\n",
       "      <th>6</th>\n",
       "      <td>7</td>\n",
       "      <td>Sabrina</td>\n",
       "      <td>1995</td>\n",
       "    </tr>\n",
       "    <tr>\n",
       "      <th>7</th>\n",
       "      <td>8</td>\n",
       "      <td>Tom and Huck</td>\n",
       "      <td>1995</td>\n",
       "    </tr>\n",
       "    <tr>\n",
       "      <th>8</th>\n",
       "      <td>9</td>\n",
       "      <td>Sudden Death</td>\n",
       "      <td>1995</td>\n",
       "    </tr>\n",
       "    <tr>\n",
       "      <th>9</th>\n",
       "      <td>10</td>\n",
       "      <td>GoldenEye</td>\n",
       "      <td>1995</td>\n",
       "    </tr>\n",
       "  </tbody>\n",
       "</table>\n",
       "</div>"
      ],
      "text/plain": [
       "   id                        title  release_year\n",
       "0   1                    Toy Story          1995\n",
       "1   2                      Jumanji          1995\n",
       "2   3             Grumpier Old Men          1995\n",
       "3   4            Waiting to Exhale          1995\n",
       "4   5  Father of the Bride Part II          1995\n",
       "5   6                         Heat          1995\n",
       "6   7                      Sabrina          1995\n",
       "7   8                 Tom and Huck          1995\n",
       "8   9                 Sudden Death          1995\n",
       "9  10                    GoldenEye          1995"
      ]
     },
     "execution_count": 66,
     "metadata": {},
     "output_type": "execute_result"
    }
   ],
   "source": [
    "pd.read_sql('SELECT * FROM movies LIMIT 10', connect)"
   ]
  },
  {
   "cell_type": "markdown",
   "metadata": {
    "nbpresent": {
     "id": "70224212-e675-4809-a69e-514a5410ab21"
    },
    "slideshow": {
     "slide_type": "subslide"
    }
   },
   "source": [
    "일단 몇 년도 영화부터 몇 년도 영화까지 있는지 알아봅시다. 이를 위해서 우선 집계함수를 배워보도록 하겠습니다.<br>\n",
    "집계 함수에는 여러 가지 존재하고, 대표적으로 아래와 같은 함수들이 있습니다.\n",
    "\n",
    "| 집계 함수 | 기능 |\n",
    "| ---- | --- |\n",
    "| `COUNT(열 이름)` | 데이터의 갯수를 세기 |\n",
    "| `SUM(열 이름)` | 데이터의 합계를 구하기 |\n",
    "| `AVG(열 이름)` | 데이터의 평균을 구하기 |\n",
    "| `MAX(열 이름)` | 데이터의 최댓값 구하기 |\n",
    "| `MIN(열 이름)` | 데이터의 최솟값 구하기 |\n",
    "\n",
    "집계함수는 아래와 같은 방식으로 작성하면 됩니다.\n",
    "\n",
    "````sql\n",
    "SELECT COUNT(열 이름) FROM 테이블 명\n",
    "````\n"
   ]
  },
  {
   "cell_type": "code",
   "execution_count": 67,
   "metadata": {
    "nbpresent": {
     "id": "b05cd720-0b75-4548-91bb-2d78e2b9afa9"
    },
    "slideshow": {
     "slide_type": "subslide"
    }
   },
   "outputs": [],
   "source": [
    "# movies 테이블에서 release_year 중 가장 오래된 연도와 가장 최신 연도를 가져오기\n"
   ]
  },
  {
   "cell_type": "markdown",
   "metadata": {
    "nbpresent": {
     "id": "9afd2844-2ddd-48af-b5ba-b88fec7558c4"
    },
    "slideshow": {
     "slide_type": "slide"
    }
   },
   "source": [
    "1891년도 영화부터 2015년도 영화까지 데이터가 있습니다.\n",
    "이번에는 출시 연도별로 얼마나 많은 영화의 데이터가 있는지 살펴봅시다. <br>\n",
    "이를 수행하기 위해서는 Group by 구문을 배워보도록 하겠습니다.<br>\n",
    "group by 는 어떤 기준을 중심으로 데이터를 합쳐 집계 함수를 적용하고자 할 때 사용됩니다.<br>\n",
    "\n",
    "````sql\n",
    "SELECT 집계함수(열 이름) \n",
    "FROM 테이블 이름 \n",
    "GROUP BY 집계 기준 열 이름\n",
    "````\n",
    "\n",
    "연도를 집계 기준 열(그룹)로 두고, `id` 칼럼에 `count`함수를 적용하게 되면 해당 그룹의 `id` 갯수를 카운트해줍니다."
   ]
  },
  {
   "cell_type": "code",
   "execution_count": 68,
   "metadata": {
    "nbpresent": {
     "id": "6ecc2dd5-56b9-4579-a52b-6d57e76224da"
    },
    "slideshow": {
     "slide_type": "subslide"
    }
   },
   "outputs": [],
   "source": [
    "# movies 테이블에서 release_year 별 몇개의 영화가 있는지 가져오기\n"
   ]
  },
  {
   "cell_type": "markdown",
   "metadata": {
    "nbpresent": {
     "id": "94d8eab7-8896-4c56-99cb-bfd1d2f813e2"
    },
    "slideshow": {
     "slide_type": "slide"
    }
   },
   "source": [
    "위의 결과를 시각적으로 표시하려면 아래와 같이 작성하면 됩니다."
   ]
  },
  {
   "cell_type": "code",
   "execution_count": 69,
   "metadata": {
    "nbpresent": {
     "id": "b5931739-0dae-46e3-867d-3da0366a961e"
    },
    "slideshow": {
     "slide_type": "subslide"
    }
   },
   "outputs": [],
   "source": [
    "# Bar 그래프를 이용한 연도 별 영화 갯수 시각화 \n"
   ]
  },
  {
   "cell_type": "markdown",
   "metadata": {
    "nbpresent": {
     "id": "fb0d09b8-b09e-4358-80f4-c146d040d0fc"
    },
    "slideshow": {
     "slide_type": "subslide"
    }
   },
   "source": [
    "그래프를 보면, 1990년대 이후 영화의 평점이 많고, 최근인 2014년도와 2015년도 영화의 평점이 아직 많이 쌓이지 않았음을 알 수 있습니다. "
   ]
  },
  {
   "cell_type": "markdown",
   "metadata": {
    "nbpresent": {
     "id": "ce45d3be-2428-41dd-b05d-a34be30aa3a5"
    },
    "slideshow": {
     "slide_type": "slide"
    }
   },
   "source": [
    "### (2) `genres` 테이블 탐색하기\n",
    "\n",
    "`genres` 테이블을 간단히 탐색해보겠습니다. "
   ]
  },
  {
   "cell_type": "code",
   "execution_count": 70,
   "metadata": {
    "nbpresent": {
     "id": "eec8ce0e-1ba2-4e84-9dfe-b4e2388707f4"
    },
    "slideshow": {
     "slide_type": "subslide"
    }
   },
   "outputs": [
    {
     "data": {
      "text/html": [
       "<div>\n",
       "<style scoped>\n",
       "    .dataframe tbody tr th:only-of-type {\n",
       "        vertical-align: middle;\n",
       "    }\n",
       "\n",
       "    .dataframe tbody tr th {\n",
       "        vertical-align: top;\n",
       "    }\n",
       "\n",
       "    .dataframe thead th {\n",
       "        text-align: right;\n",
       "    }\n",
       "</style>\n",
       "<table border=\"1\" class=\"dataframe\">\n",
       "  <thead>\n",
       "    <tr style=\"text-align: right;\">\n",
       "      <th></th>\n",
       "      <th>movie_id</th>\n",
       "      <th>genre</th>\n",
       "    </tr>\n",
       "  </thead>\n",
       "  <tbody>\n",
       "    <tr>\n",
       "      <th>0</th>\n",
       "      <td>1</td>\n",
       "      <td>Adventure</td>\n",
       "    </tr>\n",
       "    <tr>\n",
       "      <th>1</th>\n",
       "      <td>1</td>\n",
       "      <td>Animation</td>\n",
       "    </tr>\n",
       "    <tr>\n",
       "      <th>2</th>\n",
       "      <td>1</td>\n",
       "      <td>Children</td>\n",
       "    </tr>\n",
       "    <tr>\n",
       "      <th>3</th>\n",
       "      <td>1</td>\n",
       "      <td>Comedy</td>\n",
       "    </tr>\n",
       "    <tr>\n",
       "      <th>4</th>\n",
       "      <td>1</td>\n",
       "      <td>Fantasy</td>\n",
       "    </tr>\n",
       "    <tr>\n",
       "      <th>5</th>\n",
       "      <td>2</td>\n",
       "      <td>Adventure</td>\n",
       "    </tr>\n",
       "    <tr>\n",
       "      <th>6</th>\n",
       "      <td>2</td>\n",
       "      <td>Children</td>\n",
       "    </tr>\n",
       "    <tr>\n",
       "      <th>7</th>\n",
       "      <td>2</td>\n",
       "      <td>Fantasy</td>\n",
       "    </tr>\n",
       "    <tr>\n",
       "      <th>8</th>\n",
       "      <td>3</td>\n",
       "      <td>Comedy</td>\n",
       "    </tr>\n",
       "    <tr>\n",
       "      <th>9</th>\n",
       "      <td>3</td>\n",
       "      <td>Romance</td>\n",
       "    </tr>\n",
       "  </tbody>\n",
       "</table>\n",
       "</div>"
      ],
      "text/plain": [
       "   movie_id      genre\n",
       "0         1  Adventure\n",
       "1         1  Animation\n",
       "2         1   Children\n",
       "3         1     Comedy\n",
       "4         1    Fantasy\n",
       "5         2  Adventure\n",
       "6         2   Children\n",
       "7         2    Fantasy\n",
       "8         3     Comedy\n",
       "9         3    Romance"
      ]
     },
     "execution_count": 70,
     "metadata": {},
     "output_type": "execute_result"
    }
   ],
   "source": [
    "pd.read_sql('SELECT * FROM genres LIMIT 10', connect)"
   ]
  },
  {
   "cell_type": "markdown",
   "metadata": {
    "nbpresent": {
     "id": "5c799790-b8ba-477b-9e7d-cc61c9a8e354"
    },
    "slideshow": {
     "slide_type": "slide"
    }
   },
   "source": [
    "장르별로 얼마나 많은 영화 데이터가 있는지 확인하기 위해서는 아래와 같이 `GROUP BY` 구문을 이용합니다."
   ]
  },
  {
   "cell_type": "code",
   "execution_count": 71,
   "metadata": {
    "nbpresent": {
     "id": "4d94231f-581a-481c-9ca1-3fcd7677319f"
    },
    "slideshow": {
     "slide_type": "subslide"
    }
   },
   "outputs": [],
   "source": [
    "# genres 테이블에서 장르별 영화의 갯수를 가져오기\n"
   ]
  },
  {
   "cell_type": "markdown",
   "metadata": {
    "nbpresent": {
     "id": "7786af5d-a942-4956-a053-1795c9ebe949"
    },
    "slideshow": {
     "slide_type": "slide"
    }
   },
   "source": [
    "이를 내림차순으로 정렬하고자 한다면, `ORDER BY 정렬 기준 열 이름 DESC`를 이용하면 됩니다.\n",
    "\n",
    "```` sql\n",
    "SELECT 열 이름 \n",
    "FROM 테이블 이름 \n",
    "ORDER BY 정렬기준 열 이름 [DESC|ASC]\n",
    "````"
   ]
  },
  {
   "cell_type": "code",
   "execution_count": 72,
   "metadata": {
    "nbpresent": {
     "id": "4d612ae4-b2fe-497e-ac5f-367bcb27e7b3"
    },
    "slideshow": {
     "slide_type": "subslide"
    }
   },
   "outputs": [],
   "source": [
    "# genres 테이블에서 장르별 영화의 갯수를 내림차순으로 가져오기\n"
   ]
  },
  {
   "cell_type": "markdown",
   "metadata": {
    "nbpresent": {
     "id": "036cfffc-c795-440d-91e2-c18db581fa71"
    },
    "slideshow": {
     "slide_type": "slide"
    }
   },
   "source": [
    "장르는 총 19가지이고, 장르가 없는 영화는 246개입니다. 드라마 장르의 영화가 가장 많고, IMAX 장르의 영화가 가장 적습니다. 아마도 IMAX가 등장한지 얼마 되지 않았기 때문인 것으로 짐작할 수 있습니다."
   ]
  },
  {
   "cell_type": "code",
   "execution_count": 73,
   "metadata": {
    "nbpresent": {
     "id": "0d7e7152-3df9-410c-b5bd-3984a5513121"
    },
    "slideshow": {
     "slide_type": "subslide"
    }
   },
   "outputs": [],
   "source": [
    "# PIE 그래프를 통한 시각화\n"
   ]
  },
  {
   "cell_type": "markdown",
   "metadata": {
    "nbpresent": {
     "id": "46ac0e68-8831-40ec-a93b-2538fa0076ca"
    },
    "slideshow": {
     "slide_type": "slide"
    }
   },
   "source": [
    "이번에는 영화별로 몇 개의 장르 정보를 가지고 있는지 살펴봅시다. "
   ]
  },
  {
   "cell_type": "code",
   "execution_count": 74,
   "metadata": {
    "nbpresent": {
     "id": "6843b53d-840e-4f05-91a2-17003cf92580"
    },
    "slideshow": {
     "slide_type": "subslide"
    }
   },
   "outputs": [],
   "source": [
    "# 영화 별로 몇 개의 장르가 있는지를 세어보기\n"
   ]
  },
  {
   "cell_type": "markdown",
   "metadata": {
    "nbpresent": {
     "id": "86bac1cf-db37-439a-96f1-344e1c38f63f"
    },
    "slideshow": {
     "slide_type": "slide"
    }
   },
   "source": [
    "영화 별 장르의 수를 히스토그램으로 나타내면 아래와 같습니다. 대부분 하나 혹은 두 개의 장르 정보를 가지는 것을 알 수 있습니다. "
   ]
  },
  {
   "cell_type": "code",
   "execution_count": 75,
   "metadata": {
    "nbpresent": {
     "id": "1f619261-c227-447c-ba0f-378030a248ba"
    },
    "slideshow": {
     "slide_type": "subslide"
    }
   },
   "outputs": [],
   "source": [
    "# 영화 별 장르 갯수를 histogram으로 세기\n"
   ]
  },
  {
   "cell_type": "markdown",
   "metadata": {
    "nbpresent": {
     "id": "972d6ddb-635c-4195-b8e1-7af57621227e"
    },
    "slideshow": {
     "slide_type": "slide"
    }
   },
   "source": [
    "### (3) `ratings` 테이블 탐색하기\n",
    "\n",
    "이번에는 `ratings` 데이터를 확인해봅시다."
   ]
  },
  {
   "cell_type": "code",
   "execution_count": 76,
   "metadata": {
    "nbpresent": {
     "id": "71d3a95a-5650-4328-8b64-1794a4f4c4c4"
    },
    "slideshow": {
     "slide_type": "subslide"
    }
   },
   "outputs": [
    {
     "data": {
      "text/html": [
       "<div>\n",
       "<style scoped>\n",
       "    .dataframe tbody tr th:only-of-type {\n",
       "        vertical-align: middle;\n",
       "    }\n",
       "\n",
       "    .dataframe tbody tr th {\n",
       "        vertical-align: top;\n",
       "    }\n",
       "\n",
       "    .dataframe thead th {\n",
       "        text-align: right;\n",
       "    }\n",
       "</style>\n",
       "<table border=\"1\" class=\"dataframe\">\n",
       "  <thead>\n",
       "    <tr style=\"text-align: right;\">\n",
       "      <th></th>\n",
       "      <th>user_id</th>\n",
       "      <th>movie_id</th>\n",
       "      <th>rating</th>\n",
       "      <th>rated_at</th>\n",
       "    </tr>\n",
       "  </thead>\n",
       "  <tbody>\n",
       "    <tr>\n",
       "      <th>0</th>\n",
       "      <td>1</td>\n",
       "      <td>2</td>\n",
       "      <td>3.5</td>\n",
       "      <td>1112486027</td>\n",
       "    </tr>\n",
       "    <tr>\n",
       "      <th>1</th>\n",
       "      <td>1</td>\n",
       "      <td>29</td>\n",
       "      <td>3.5</td>\n",
       "      <td>1112484676</td>\n",
       "    </tr>\n",
       "    <tr>\n",
       "      <th>2</th>\n",
       "      <td>1</td>\n",
       "      <td>32</td>\n",
       "      <td>3.5</td>\n",
       "      <td>1112484819</td>\n",
       "    </tr>\n",
       "    <tr>\n",
       "      <th>3</th>\n",
       "      <td>1</td>\n",
       "      <td>47</td>\n",
       "      <td>3.5</td>\n",
       "      <td>1112484727</td>\n",
       "    </tr>\n",
       "    <tr>\n",
       "      <th>4</th>\n",
       "      <td>1</td>\n",
       "      <td>50</td>\n",
       "      <td>3.5</td>\n",
       "      <td>1112484580</td>\n",
       "    </tr>\n",
       "    <tr>\n",
       "      <th>5</th>\n",
       "      <td>1</td>\n",
       "      <td>112</td>\n",
       "      <td>3.5</td>\n",
       "      <td>1094785740</td>\n",
       "    </tr>\n",
       "    <tr>\n",
       "      <th>6</th>\n",
       "      <td>1</td>\n",
       "      <td>151</td>\n",
       "      <td>4.0</td>\n",
       "      <td>1094785734</td>\n",
       "    </tr>\n",
       "    <tr>\n",
       "      <th>7</th>\n",
       "      <td>1</td>\n",
       "      <td>223</td>\n",
       "      <td>4.0</td>\n",
       "      <td>1112485573</td>\n",
       "    </tr>\n",
       "    <tr>\n",
       "      <th>8</th>\n",
       "      <td>1</td>\n",
       "      <td>253</td>\n",
       "      <td>4.0</td>\n",
       "      <td>1112484940</td>\n",
       "    </tr>\n",
       "    <tr>\n",
       "      <th>9</th>\n",
       "      <td>1</td>\n",
       "      <td>260</td>\n",
       "      <td>4.0</td>\n",
       "      <td>1112484826</td>\n",
       "    </tr>\n",
       "  </tbody>\n",
       "</table>\n",
       "</div>"
      ],
      "text/plain": [
       "   user_id  movie_id  rating    rated_at\n",
       "0        1         2     3.5  1112486027\n",
       "1        1        29     3.5  1112484676\n",
       "2        1        32     3.5  1112484819\n",
       "3        1        47     3.5  1112484727\n",
       "4        1        50     3.5  1112484580\n",
       "5        1       112     3.5  1094785740\n",
       "6        1       151     4.0  1094785734\n",
       "7        1       223     4.0  1112485573\n",
       "8        1       253     4.0  1112484940\n",
       "9        1       260     4.0  1112484826"
      ]
     },
     "execution_count": 76,
     "metadata": {},
     "output_type": "execute_result"
    }
   ],
   "source": [
    "pd.read_sql('SELECT * FROM ratings limit 10', connect)"
   ]
  },
  {
   "cell_type": "markdown",
   "metadata": {
    "nbpresent": {
     "id": "988a6999-135d-4001-85b1-75cf73a622ae"
    },
    "slideshow": {
     "slide_type": "slide"
    }
   },
   "source": [
    "여기에서 `rate_at`은 시간을 나타내는 방법 중 하나로, 1970년 1월 1일부터 몇 초가 지났는지를 계산한 결과입니다.\n",
    "\n",
    "`pd.DataFrame()`으로 데이터를 받아온 후 `rated_at`를 시간값으로 변환하기 위해서는`pd.to_datetime()`을 이용하면 됩니다."
   ]
  },
  {
   "cell_type": "code",
   "execution_count": 77,
   "metadata": {
    "nbpresent": {
     "id": "2b8de903-e6f7-44b0-8345-bb0b39b3ef91"
    },
    "slideshow": {
     "slide_type": "subslide"
    }
   },
   "outputs": [
    {
     "data": {
      "text/html": [
       "<div>\n",
       "<style scoped>\n",
       "    .dataframe tbody tr th:only-of-type {\n",
       "        vertical-align: middle;\n",
       "    }\n",
       "\n",
       "    .dataframe tbody tr th {\n",
       "        vertical-align: top;\n",
       "    }\n",
       "\n",
       "    .dataframe thead th {\n",
       "        text-align: right;\n",
       "    }\n",
       "</style>\n",
       "<table border=\"1\" class=\"dataframe\">\n",
       "  <thead>\n",
       "    <tr style=\"text-align: right;\">\n",
       "      <th></th>\n",
       "      <th>user_id</th>\n",
       "      <th>movie_id</th>\n",
       "      <th>rating</th>\n",
       "      <th>rated_at</th>\n",
       "    </tr>\n",
       "  </thead>\n",
       "  <tbody>\n",
       "    <tr>\n",
       "      <th>0</th>\n",
       "      <td>1</td>\n",
       "      <td>2</td>\n",
       "      <td>3.5</td>\n",
       "      <td>2005-04-02 23:53:47</td>\n",
       "    </tr>\n",
       "    <tr>\n",
       "      <th>1</th>\n",
       "      <td>1</td>\n",
       "      <td>29</td>\n",
       "      <td>3.5</td>\n",
       "      <td>2005-04-02 23:31:16</td>\n",
       "    </tr>\n",
       "    <tr>\n",
       "      <th>2</th>\n",
       "      <td>1</td>\n",
       "      <td>32</td>\n",
       "      <td>3.5</td>\n",
       "      <td>2005-04-02 23:33:39</td>\n",
       "    </tr>\n",
       "    <tr>\n",
       "      <th>3</th>\n",
       "      <td>1</td>\n",
       "      <td>47</td>\n",
       "      <td>3.5</td>\n",
       "      <td>2005-04-02 23:32:07</td>\n",
       "    </tr>\n",
       "    <tr>\n",
       "      <th>4</th>\n",
       "      <td>1</td>\n",
       "      <td>50</td>\n",
       "      <td>3.5</td>\n",
       "      <td>2005-04-02 23:29:40</td>\n",
       "    </tr>\n",
       "  </tbody>\n",
       "</table>\n",
       "</div>"
      ],
      "text/plain": [
       "   user_id  movie_id  rating            rated_at\n",
       "0        1         2     3.5 2005-04-02 23:53:47\n",
       "1        1        29     3.5 2005-04-02 23:31:16\n",
       "2        1        32     3.5 2005-04-02 23:33:39\n",
       "3        1        47     3.5 2005-04-02 23:32:07\n",
       "4        1        50     3.5 2005-04-02 23:29:40"
      ]
     },
     "execution_count": 77,
     "metadata": {},
     "output_type": "execute_result"
    }
   ],
   "source": [
    "rating_df = pd.read_sql(f'SELECT * FROM ratings LIMIT 10', connect)\n",
    "\n",
    "rating_df.rated_at = pd.to_datetime(rating_df.rated_at, unit='s')\n",
    "rating_df.head()"
   ]
  },
  {
   "cell_type": "markdown",
   "metadata": {
    "nbpresent": {
     "id": "addb2cce-5211-4480-b668-9cc14818afae"
    },
    "slideshow": {
     "slide_type": "slide"
    }
   },
   "source": [
    "타임스탬프 값을 datetime으로 변경해주면 아래와 같이 시간 계산을 매우 편리하게 수행할 수 있습니다.<br>\n",
    "혹은 sql 쿼리의 `FROM_UNIXTIME`을 이용하여 바로 변환하여 볼 수도 있습니다."
   ]
  },
  {
   "cell_type": "code",
   "execution_count": 48,
   "metadata": {
    "nbpresent": {
     "id": "4f567ded-6b0c-4600-90e0-3908cfa1f334"
    },
    "slideshow": {
     "slide_type": "subslide"
    }
   },
   "outputs": [
    {
     "data": {
      "text/html": [
       "<div>\n",
       "<style scoped>\n",
       "    .dataframe tbody tr th:only-of-type {\n",
       "        vertical-align: middle;\n",
       "    }\n",
       "\n",
       "    .dataframe tbody tr th {\n",
       "        vertical-align: top;\n",
       "    }\n",
       "\n",
       "    .dataframe thead th {\n",
       "        text-align: right;\n",
       "    }\n",
       "</style>\n",
       "<table border=\"1\" class=\"dataframe\">\n",
       "  <thead>\n",
       "    <tr style=\"text-align: right;\">\n",
       "      <th></th>\n",
       "      <th>user_id</th>\n",
       "      <th>movie_id</th>\n",
       "      <th>rating</th>\n",
       "      <th>rated_at</th>\n",
       "      <th>FROM_UNIXTIME(rated_at)</th>\n",
       "    </tr>\n",
       "  </thead>\n",
       "  <tbody>\n",
       "    <tr>\n",
       "      <th>0</th>\n",
       "      <td>1</td>\n",
       "      <td>2</td>\n",
       "      <td>3.5</td>\n",
       "      <td>1112486027</td>\n",
       "      <td>2005-04-02 23:53:47</td>\n",
       "    </tr>\n",
       "    <tr>\n",
       "      <th>1</th>\n",
       "      <td>1</td>\n",
       "      <td>29</td>\n",
       "      <td>3.5</td>\n",
       "      <td>1112484676</td>\n",
       "      <td>2005-04-02 23:31:16</td>\n",
       "    </tr>\n",
       "    <tr>\n",
       "      <th>2</th>\n",
       "      <td>1</td>\n",
       "      <td>32</td>\n",
       "      <td>3.5</td>\n",
       "      <td>1112484819</td>\n",
       "      <td>2005-04-02 23:33:39</td>\n",
       "    </tr>\n",
       "    <tr>\n",
       "      <th>3</th>\n",
       "      <td>1</td>\n",
       "      <td>47</td>\n",
       "      <td>3.5</td>\n",
       "      <td>1112484727</td>\n",
       "      <td>2005-04-02 23:32:07</td>\n",
       "    </tr>\n",
       "    <tr>\n",
       "      <th>4</th>\n",
       "      <td>1</td>\n",
       "      <td>50</td>\n",
       "      <td>3.5</td>\n",
       "      <td>1112484580</td>\n",
       "      <td>2005-04-02 23:29:40</td>\n",
       "    </tr>\n",
       "    <tr>\n",
       "      <th>5</th>\n",
       "      <td>1</td>\n",
       "      <td>112</td>\n",
       "      <td>3.5</td>\n",
       "      <td>1094785740</td>\n",
       "      <td>2004-09-10 03:09:00</td>\n",
       "    </tr>\n",
       "    <tr>\n",
       "      <th>6</th>\n",
       "      <td>1</td>\n",
       "      <td>151</td>\n",
       "      <td>4.0</td>\n",
       "      <td>1094785734</td>\n",
       "      <td>2004-09-10 03:08:54</td>\n",
       "    </tr>\n",
       "    <tr>\n",
       "      <th>7</th>\n",
       "      <td>1</td>\n",
       "      <td>223</td>\n",
       "      <td>4.0</td>\n",
       "      <td>1112485573</td>\n",
       "      <td>2005-04-02 23:46:13</td>\n",
       "    </tr>\n",
       "    <tr>\n",
       "      <th>8</th>\n",
       "      <td>1</td>\n",
       "      <td>253</td>\n",
       "      <td>4.0</td>\n",
       "      <td>1112484940</td>\n",
       "      <td>2005-04-02 23:35:40</td>\n",
       "    </tr>\n",
       "    <tr>\n",
       "      <th>9</th>\n",
       "      <td>1</td>\n",
       "      <td>260</td>\n",
       "      <td>4.0</td>\n",
       "      <td>1112484826</td>\n",
       "      <td>2005-04-02 23:33:46</td>\n",
       "    </tr>\n",
       "  </tbody>\n",
       "</table>\n",
       "</div>"
      ],
      "text/plain": [
       "   user_id  movie_id  rating    rated_at FROM_UNIXTIME(rated_at)\n",
       "0        1         2     3.5  1112486027     2005-04-02 23:53:47\n",
       "1        1        29     3.5  1112484676     2005-04-02 23:31:16\n",
       "2        1        32     3.5  1112484819     2005-04-02 23:33:39\n",
       "3        1        47     3.5  1112484727     2005-04-02 23:32:07\n",
       "4        1        50     3.5  1112484580     2005-04-02 23:29:40\n",
       "5        1       112     3.5  1094785740     2004-09-10 03:09:00\n",
       "6        1       151     4.0  1094785734     2004-09-10 03:08:54\n",
       "7        1       223     4.0  1112485573     2005-04-02 23:46:13\n",
       "8        1       253     4.0  1112484940     2005-04-02 23:35:40\n",
       "9        1       260     4.0  1112484826     2005-04-02 23:33:46"
      ]
     },
     "execution_count": 48,
     "metadata": {},
     "output_type": "execute_result"
    }
   ],
   "source": [
    "# ratings 테이블로부터 10개의 행 가져오기\n",
    "# (FROM_UNIXTIME을 활용하여 rate_at를 바꾸어서)\n"
   ]
  },
  {
   "cell_type": "markdown",
   "metadata": {
    "nbpresent": {
     "id": "7d84b86c-07be-45cd-b093-9aab9d7672cd"
    },
    "slideshow": {
     "slide_type": "slide"
    }
   },
   "source": [
    "이번에는 연도별로 리뷰 수가 얼마나 되는지 알아봅시다."
   ]
  },
  {
   "cell_type": "code",
   "execution_count": 43,
   "metadata": {
    "nbpresent": {
     "id": "49c0c85d-2c93-4353-adcf-e1bbe9b340ce"
    },
    "slideshow": {
     "slide_type": "subslide"
    }
   },
   "outputs": [
    {
     "data": {
      "text/html": [
       "<div>\n",
       "<style scoped>\n",
       "    .dataframe tbody tr th:only-of-type {\n",
       "        vertical-align: middle;\n",
       "    }\n",
       "\n",
       "    .dataframe tbody tr th {\n",
       "        vertical-align: top;\n",
       "    }\n",
       "\n",
       "    .dataframe thead th {\n",
       "        text-align: right;\n",
       "    }\n",
       "</style>\n",
       "<table border=\"1\" class=\"dataframe\">\n",
       "  <thead>\n",
       "    <tr style=\"text-align: right;\">\n",
       "      <th></th>\n",
       "      <th>rated_year</th>\n",
       "      <th>count_ratings</th>\n",
       "    </tr>\n",
       "  </thead>\n",
       "  <tbody>\n",
       "    <tr>\n",
       "      <th>0</th>\n",
       "      <td>1995</td>\n",
       "      <td>4</td>\n",
       "    </tr>\n",
       "    <tr>\n",
       "      <th>1</th>\n",
       "      <td>1996</td>\n",
       "      <td>1612609</td>\n",
       "    </tr>\n",
       "    <tr>\n",
       "      <th>2</th>\n",
       "      <td>1997</td>\n",
       "      <td>700982</td>\n",
       "    </tr>\n",
       "    <tr>\n",
       "      <th>3</th>\n",
       "      <td>1998</td>\n",
       "      <td>308070</td>\n",
       "    </tr>\n",
       "    <tr>\n",
       "      <th>4</th>\n",
       "      <td>1999</td>\n",
       "      <td>1198384</td>\n",
       "    </tr>\n",
       "  </tbody>\n",
       "</table>\n",
       "</div>"
      ],
      "text/plain": [
       "   rated_year  count_ratings\n",
       "0        1995              4\n",
       "1        1996        1612609\n",
       "2        1997         700982\n",
       "3        1998         308070\n",
       "4        1999        1198384"
      ]
     },
     "execution_count": 43,
     "metadata": {},
     "output_type": "execute_result"
    }
   ],
   "source": [
    "# 연도 별 리뷰수를 세기\n"
   ]
  },
  {
   "cell_type": "markdown",
   "metadata": {
    "nbpresent": {
     "id": "c04ff608-c03b-49de-a298-e25b1701dcc7"
    },
    "slideshow": {
     "slide_type": "slide"
    }
   },
   "source": [
    "유저 별로 평균 선호도가 어떻게 되는지를 계산해 볼 수 있습니다."
   ]
  },
  {
   "cell_type": "code",
   "execution_count": 44,
   "metadata": {
    "nbpresent": {
     "id": "c12c2c9d-4cb8-4553-9c97-146034184150"
    },
    "slideshow": {
     "slide_type": "subslide"
    }
   },
   "outputs": [],
   "source": [
    "# 유저 별 평균 선호도 계산하기\n"
   ]
  },
  {
   "cell_type": "code",
   "execution_count": null,
   "metadata": {
    "nbpresent": {
     "id": "caf0411e-2266-459a-be71-ca2edcf701fc"
    },
    "slideshow": {
     "slide_type": "subslide"
    }
   },
   "outputs": [],
   "source": [
    "# 유저 별 평균 선호도를 histogram으로 시각화하기\n"
   ]
  },
  {
   "cell_type": "markdown",
   "metadata": {
    "nbpresent": {
     "id": "48bb7946-eb8b-485b-9c17-c19374c0d011"
    },
    "slideshow": {
     "slide_type": "subslide"
    }
   },
   "source": [
    "유저들은 평균적으로 3~4점대의 평점을 많이 남기는 것을 알 수 있습니다. "
   ]
  },
  {
   "cell_type": "markdown",
   "metadata": {
    "nbpresent": {
     "id": "5e1fb1e2-db3d-459b-a3ba-8d10027cfc85"
    },
    "slideshow": {
     "slide_type": "slide"
    }
   },
   "source": [
    "# \\[ 비개인화 추천 : 아이템의 순위 매기기 \\]\n",
    "---\n",
    "\n",
    "가장 간단한 형태의 추천은 **잘 나가는 제품 혹은 서비스**을 제시하는 것입니다. <br>\n",
    "가장 평이 좋은 제품 혹은 가장 구매가 빈번한 제품, 최근에 나온 제품 등을 추천하는 것은 고객에 대한 정보가 전혀 없을 때 매우 유용합니다.<br>\n",
    "그렇기 때문에 대부분의 커머스 사이트에서 랜딩 페이지에 인기 순위 혹은 신상을 소개하는 경우가 많습니다. <br>\n",
    "이번에는 `sql`의 정렬 기능`order by`와 `group by` 기능을 이용해 (1) 최신 아이템, (2) 최고 평점 아이템, (3) 최근 인기 아이템 리스트를 만들어보겠습니다.<br>"
   ]
  },
  {
   "cell_type": "markdown",
   "metadata": {
    "nbpresent": {
     "id": "308d0bee-cc52-4c11-a737-ae5178b56cd1"
    },
    "slideshow": {
     "slide_type": "slide"
    }
   },
   "source": [
    "## 1. 최신(신규) 아이템 추천하기\n",
    "\n",
    "> 최근에 나온 제품 있나요?\n",
    "\n",
    "아이템의 출시일(발매일)을 기준으로 정렬을 하여, 가장 최근에 등장한 것들 위주로 가져올 수 있습니다. <br>\n",
    "영화의 경우 출시시점에 따라 최신 순으로 나열할 수 있을 것입니다. `movies`데이터의 `release_year` 칼럼이 있으므로, 이를 기준으로 상위 10개 아이템을 뽑아보겠습니다. "
   ]
  },
  {
   "cell_type": "code",
   "execution_count": 49,
   "metadata": {
    "nbpresent": {
     "id": "d837058e-3c16-41fe-a49e-ddf20073ac1c"
    },
    "slideshow": {
     "slide_type": "subslide"
    }
   },
   "outputs": [
    {
     "data": {
      "text/html": [
       "<div>\n",
       "<style scoped>\n",
       "    .dataframe tbody tr th:only-of-type {\n",
       "        vertical-align: middle;\n",
       "    }\n",
       "\n",
       "    .dataframe tbody tr th {\n",
       "        vertical-align: top;\n",
       "    }\n",
       "\n",
       "    .dataframe thead th {\n",
       "        text-align: right;\n",
       "    }\n",
       "</style>\n",
       "<table border=\"1\" class=\"dataframe\">\n",
       "  <thead>\n",
       "    <tr style=\"text-align: right;\">\n",
       "      <th></th>\n",
       "      <th>id</th>\n",
       "      <th>title</th>\n",
       "      <th>release_year</th>\n",
       "    </tr>\n",
       "  </thead>\n",
       "  <tbody>\n",
       "    <tr>\n",
       "      <th>0</th>\n",
       "      <td>129030</td>\n",
       "      <td>The Coven</td>\n",
       "      <td>2015</td>\n",
       "    </tr>\n",
       "    <tr>\n",
       "      <th>1</th>\n",
       "      <td>128520</td>\n",
       "      <td>The Wedding Ringer</td>\n",
       "      <td>2015</td>\n",
       "    </tr>\n",
       "    <tr>\n",
       "      <th>2</th>\n",
       "      <td>130056</td>\n",
       "      <td>Kingdom of Shadows</td>\n",
       "      <td>2015</td>\n",
       "    </tr>\n",
       "    <tr>\n",
       "      <th>3</th>\n",
       "      <td>126482</td>\n",
       "      <td>Strange Magic</td>\n",
       "      <td>2015</td>\n",
       "    </tr>\n",
       "    <tr>\n",
       "      <th>4</th>\n",
       "      <td>130578</td>\n",
       "      <td>The Gunman</td>\n",
       "      <td>2015</td>\n",
       "    </tr>\n",
       "    <tr>\n",
       "      <th>5</th>\n",
       "      <td>130069</td>\n",
       "      <td>Road Hard</td>\n",
       "      <td>2015</td>\n",
       "    </tr>\n",
       "    <tr>\n",
       "      <th>6</th>\n",
       "      <td>130326</td>\n",
       "      <td>Other Girls</td>\n",
       "      <td>2015</td>\n",
       "    </tr>\n",
       "    <tr>\n",
       "      <th>7</th>\n",
       "      <td>130840</td>\n",
       "      <td>Spring</td>\n",
       "      <td>2015</td>\n",
       "    </tr>\n",
       "    <tr>\n",
       "      <th>8</th>\n",
       "      <td>130073</td>\n",
       "      <td>Cinderella</td>\n",
       "      <td>2015</td>\n",
       "    </tr>\n",
       "    <tr>\n",
       "      <th>9</th>\n",
       "      <td>130842</td>\n",
       "      <td>Power/Rangers</td>\n",
       "      <td>2015</td>\n",
       "    </tr>\n",
       "  </tbody>\n",
       "</table>\n",
       "</div>"
      ],
      "text/plain": [
       "       id               title  release_year\n",
       "0  129030           The Coven          2015\n",
       "1  128520  The Wedding Ringer          2015\n",
       "2  130056  Kingdom of Shadows          2015\n",
       "3  126482       Strange Magic          2015\n",
       "4  130578          The Gunman          2015\n",
       "5  130069           Road Hard          2015\n",
       "6  130326         Other Girls          2015\n",
       "7  130840              Spring          2015\n",
       "8  130073          Cinderella          2015\n",
       "9  130842       Power/Rangers          2015"
      ]
     },
     "execution_count": 49,
     "metadata": {},
     "output_type": "execute_result"
    }
   ],
   "source": [
    "# 발매일 기준 최근 10개 가져오기\n",
    "\n"
   ]
  },
  {
   "cell_type": "markdown",
   "metadata": {
    "nbpresent": {
     "id": "83b8618d-20a9-4bbe-8b1a-cd204d43e49e"
    },
    "slideshow": {
     "slide_type": "slide"
    }
   },
   "source": [
    "위와 같이 10개의 영화가 뽑혔습니다. 하지만 2015년에 출시된 영화는 이 외에도 많이 있죠. <br>\n",
    "또한 연도만 있지 출시 월일이 없으므로 위의 아이템이 가장 최근에 출시된 영화라고 보기도 어렵습니다.<br>\n",
    "<br>\n",
    "이렇게 되면 최신 아이템 중에서 어떤 것은 노출되고 어떤 것은 노출되지 않는다는 단점이 있습니다. <br>\n",
    "이런 경우, 간단히 아래와 같이 무작위로 최근에 등장한 아이템중에서 무작위로 선정하여 노출되는 아이템을 다양하게 해줍니다.<br>"
   ]
  },
  {
   "cell_type": "code",
   "execution_count": 78,
   "metadata": {
    "nbpresent": {
     "id": "6de7e90d-6d05-4c84-8d65-91c212bd1106"
    },
    "slideshow": {
     "slide_type": "subslide"
    }
   },
   "outputs": [],
   "source": [
    "# 발매일 기준 최근 10개 무작위로 가져오기\n",
    "\n"
   ]
  },
  {
   "cell_type": "markdown",
   "metadata": {},
   "source": [
    "앞서 사용한 쿼리에서 `WHERE`절을 추가하여 최근 출시 연도를 `release_year`의 조건으로 걸어줘야 합니다. \n",
    "```sql\n",
    "SELECT * \n",
    "FROM movies \n",
    "WHERE release_year = (최근 출시 연도)\n",
    "ORDER BY RAND()\n",
    "LIMIT 10\n",
    "```\n",
    "\n",
    "최근 출시 연도는 어떻게 알 수 있을까요? 아래의 쿼리로 알 수 있습니다. \n",
    "```sql\n",
    "SELECT MAX(release_year) \n",
    "FROM movies\n",
    "```\n",
    "\n",
    "위의 쿼리를 앞서 만든 쿼리의 `최근 출시 연도`부분에 넣어주면 됩니다. 이렇게 쿼리 안에 쿼리를 넣어 만드는 쿼리문을 \"서브 쿼리\"라고 합니다."
   ]
  },
  {
   "cell_type": "markdown",
   "metadata": {
    "nbpresent": {
     "id": "90d5f668-5d33-4ad3-bf3c-b2af31dc9258"
    },
    "slideshow": {
     "slide_type": "slide"
    }
   },
   "source": [
    "## 2. 최고 평점 아이템 추천하기\n",
    "> 평이 제일 좋은 물건은 무엇인가요?\n",
    "\n",
    "평균 평점을 이용해 평이 제일 좋은 물건을 뽑아서 보여줄 수도 있을 것입니다.<br> \n",
    "다만, 평점이 높은 아이템을 뽑을 때는 한개, 두개의 평만 있는 것들은 제외시킬 필요가 있습니다.<br> \n",
    "충분히 많은 사람들로부터 검증받지 못한 것들은 그 평을 신뢰할 수 없기 때문입니다. <br>\n",
    "보통 응답조사를 할 때 300명 이상을 유의미하다고 판단하기 때문에, 300명 이상 평가를 받은 영화들만 추려내도록 하겠습니다. <br>\n",
    "\n",
    "먼저, 영화별 평균 평점과 리뷰의 수를 구해야 할 것입니다. 이를 구하는 쿼리문은 아래와 같습니다.<br>\n",
    "\n",
    "````sql \n",
    "SELECT movie_id, \n",
    "AVG(rating) as mean_rating, \n",
    "COUNT(user_id) as count_rating\n",
    "FROM ratings\n",
    "GROUP BY movie_id;\n",
    "\n",
    "````\n",
    "위의 코드로도 값을 구할 수 있지만 위와 같이 전체 데이터셋을 기준으로 한 번에 통계치를 집계하는 경우에는 대개 많은 시간을 소요합니다. <br>\n",
    "그렇기 때문에 주로 실무에서는 이런 작업은 미리 통계 테이블을 구성한 후, 통계 테이블에서 정보를 가져오는 식으로 시스템을 구축합니다. <br>\n",
    "통계 테이블은 서비스의 형태에 따라 짧게는 분단위, 길게는 일 단위로 정보를 갱신합니다.<br>\n",
    "<br>\n",
    "`movielens` 데이터베이스에 `rating_stats`테이블을 구성해두었습니다."
   ]
  },
  {
   "cell_type": "code",
   "execution_count": 57,
   "metadata": {
    "nbpresent": {
     "id": "8ecfaa08-e021-47ed-a9d7-251afc273ea2"
    },
    "slideshow": {
     "slide_type": "subslide"
    }
   },
   "outputs": [
    {
     "data": {
      "text/html": [
       "<div>\n",
       "<style scoped>\n",
       "    .dataframe tbody tr th:only-of-type {\n",
       "        vertical-align: middle;\n",
       "    }\n",
       "\n",
       "    .dataframe tbody tr th {\n",
       "        vertical-align: top;\n",
       "    }\n",
       "\n",
       "    .dataframe thead th {\n",
       "        text-align: right;\n",
       "    }\n",
       "</style>\n",
       "<table border=\"1\" class=\"dataframe\">\n",
       "  <thead>\n",
       "    <tr style=\"text-align: right;\">\n",
       "      <th></th>\n",
       "      <th>movie_id</th>\n",
       "      <th>rating_mean</th>\n",
       "      <th>rating_count</th>\n",
       "    </tr>\n",
       "  </thead>\n",
       "  <tbody>\n",
       "    <tr>\n",
       "      <th>0</th>\n",
       "      <td>1</td>\n",
       "      <td>3.92124</td>\n",
       "      <td>49695</td>\n",
       "    </tr>\n",
       "    <tr>\n",
       "      <th>1</th>\n",
       "      <td>2</td>\n",
       "      <td>3.21198</td>\n",
       "      <td>22243</td>\n",
       "    </tr>\n",
       "    <tr>\n",
       "      <th>2</th>\n",
       "      <td>3</td>\n",
       "      <td>3.15104</td>\n",
       "      <td>12735</td>\n",
       "    </tr>\n",
       "    <tr>\n",
       "      <th>3</th>\n",
       "      <td>4</td>\n",
       "      <td>2.86139</td>\n",
       "      <td>2756</td>\n",
       "    </tr>\n",
       "    <tr>\n",
       "      <th>4</th>\n",
       "      <td>5</td>\n",
       "      <td>3.06459</td>\n",
       "      <td>12161</td>\n",
       "    </tr>\n",
       "    <tr>\n",
       "      <th>...</th>\n",
       "      <td>...</td>\n",
       "      <td>...</td>\n",
       "      <td>...</td>\n",
       "    </tr>\n",
       "    <tr>\n",
       "      <th>26739</th>\n",
       "      <td>131254</td>\n",
       "      <td>4.00000</td>\n",
       "      <td>1</td>\n",
       "    </tr>\n",
       "    <tr>\n",
       "      <th>26740</th>\n",
       "      <td>131256</td>\n",
       "      <td>4.00000</td>\n",
       "      <td>1</td>\n",
       "    </tr>\n",
       "    <tr>\n",
       "      <th>26741</th>\n",
       "      <td>131258</td>\n",
       "      <td>2.50000</td>\n",
       "      <td>1</td>\n",
       "    </tr>\n",
       "    <tr>\n",
       "      <th>26742</th>\n",
       "      <td>131260</td>\n",
       "      <td>3.00000</td>\n",
       "      <td>1</td>\n",
       "    </tr>\n",
       "    <tr>\n",
       "      <th>26743</th>\n",
       "      <td>131262</td>\n",
       "      <td>4.00000</td>\n",
       "      <td>1</td>\n",
       "    </tr>\n",
       "  </tbody>\n",
       "</table>\n",
       "<p>26744 rows × 3 columns</p>\n",
       "</div>"
      ],
      "text/plain": [
       "       movie_id  rating_mean  rating_count\n",
       "0             1      3.92124         49695\n",
       "1             2      3.21198         22243\n",
       "2             3      3.15104         12735\n",
       "3             4      2.86139          2756\n",
       "4             5      3.06459         12161\n",
       "...         ...          ...           ...\n",
       "26739    131254      4.00000             1\n",
       "26740    131256      4.00000             1\n",
       "26741    131258      2.50000             1\n",
       "26742    131260      3.00000             1\n",
       "26743    131262      4.00000             1\n",
       "\n",
       "[26744 rows x 3 columns]"
      ]
     },
     "execution_count": 57,
     "metadata": {},
     "output_type": "execute_result"
    }
   ],
   "source": [
    "# ratings_stats 가져오기\n",
    "pd.read_sql('''\n",
    "SELECT *\n",
    "FROM rating_stats\n",
    "''', connect)"
   ]
  },
  {
   "cell_type": "markdown",
   "metadata": {
    "nbpresent": {
     "id": "bc182e5f-bb6a-4eaf-bd8d-cfe977d0edbb"
    },
    "slideshow": {
     "slide_type": "slide"
    }
   },
   "source": [
    "300개 이상 평점을 받은 영화 중 Top 10을 선정하도록 하겠습니다."
   ]
  },
  {
   "cell_type": "code",
   "execution_count": 79,
   "metadata": {
    "nbpresent": {
     "id": "254f8177-3819-4f54-b7d0-b005571f8cde"
    },
    "slideshow": {
     "slide_type": "subslide"
    }
   },
   "outputs": [],
   "source": [
    "# 300개 이상의 평점 정보가 존재하는 영화 중 rating_mean 기준 Top 10을 선정\n",
    "\n"
   ]
  },
  {
   "cell_type": "markdown",
   "metadata": {
    "nbpresent": {
     "id": "454ca303-2ae7-4553-abdc-5afbb6f5967a"
    },
    "slideshow": {
     "slide_type": "slide"
    }
   },
   "source": [
    "결과를 보면, 다양한 분야의 영화가 인기 영화로 리스트업 된 것 같습니다. 다만 전체에서 평점이 높은 영화를 뽑다보니 다소 무거운 내용의 영화가 많이 뽑힌듯 합니다. <br>\n",
    "장르 별로 최고 평점 영화들을 뽑아서 보여준다면, 특정 장르에 관심이 많은 유저에게 유용한 정보를 제공할 수 있을 것입니다. 이번에는 코미디 영화만 추려서 동일한 방법으로 최고 평점 영화를 뽑아봅시다. "
   ]
  },
  {
   "cell_type": "code",
   "execution_count": 81,
   "metadata": {
    "nbpresent": {
     "id": "468fe855-020b-4acb-9567-98efd0fe6f84"
    },
    "slideshow": {
     "slide_type": "subslide"
    }
   },
   "outputs": [],
   "source": [
    "# 300개 이상의 평점 정보가 존재하는 'Comedy' 영화 중 rating_mean 기준 Top 10을 선정\n",
    "\n"
   ]
  },
  {
   "cell_type": "markdown",
   "metadata": {},
   "source": [
    "앞서 사용한 쿼리에서 `WHERE`절에 `AND` 이하에 `movie_id IN (코미디 영화의 movie_id)`라는 조건을 추가해야 합니다. \n",
    "```sql\n",
    "SELECT *\n",
    "FROM rating_stats\n",
    "WHERE rating_count >= 300 AND\n",
    "movie_id IN (코미디 영화의 movie_id)\n",
    "ORDER BY rating_mean DESC\n",
    "LIMIT 10\n",
    "```\n",
    "\n",
    "코미디 영화의 `movie_id`는 어떻게 알 수 있을까요? 코메디 영화의 `movie_id`는 아래의 쿼리로 알 수 있습니다. \n",
    "```sql\n",
    "SELECT movie_id\n",
    "FROM genres\n",
    "WHERE genre = 'Comedy'\n",
    "```\n",
    "\n",
    "위의 쿼리를 앞서 만든 쿼리의 `코미디 영화의 movie_id`부분에 넣어주면 됩니다. "
   ]
  },
  {
   "cell_type": "markdown",
   "metadata": {
    "nbpresent": {
     "id": "64520e9e-cf52-4410-a4f9-22bddd964e57"
    },
    "slideshow": {
     "slide_type": "slide"
    }
   },
   "source": [
    "## 3. 최근 인기 아이템(HOT) 추천하기\n",
    "\n",
    "> 요즘 사람들이 제일 많이 찾는 것이 무엇인가요?\n",
    "\n",
    "영화의 평점이 높은 순으로 영화를 추천하게 되면 어떤 약점이 있을까요? 오래된 영화일수록 평가가 많이 쌓이게 되기 때문에, 과거 평가 기준으로 영화를 추천하게 됩니다. <br> \n",
    "최근에 개봉한 영화는 아직 평점이 많지 않아 추천되지 않을 수 있습니다. 최신 영화를 위주로 추천하고 싶다면, 아래와 같은 방식으로 최근 개봉영화만을 추려내어 \n",
    "추천을 해야 합니다. <br>\n",
    "\n",
    "가장 마지막 출시연도로부터 4년 이내의 영화를 뽑아봅시다."
   ]
  },
  {
   "cell_type": "code",
   "execution_count": 82,
   "metadata": {
    "nbpresent": {
     "id": "9013f78e-fa4a-4fc2-a73a-ac0af44cef30"
    },
    "slideshow": {
     "slide_type": "subslide"
    }
   },
   "outputs": [],
   "source": [
    "# movies로부터 최근 4년 간 출시되었던 영화 정보 가져오기\n"
   ]
  },
  {
   "cell_type": "markdown",
   "metadata": {
    "nbpresent": {
     "id": "a8544e59-ea28-4771-b757-18062aded711"
    },
    "slideshow": {
     "slide_type": "slide"
    }
   },
   "source": [
    "위 조건에 해당하는 영화 중에서 가장 높은 평점을 가진 영화를 추천하기 위해서는 어떻게 코드를 작성해야 할까요? \n",
    "\n",
    "```sql\n",
    "SELECT *\n",
    "FROM rating_stats\n",
    "WHERE rating_count >= 300 AND\n",
    "movie_id IN (최근 4년간 출시된 영화의 movie_id)\n",
    "ORDER BY rating_mean DESC\n",
    "LIMIT 10\n",
    "```\n",
    "\n",
    "최근 4년간 출시된 영화의 `movie_id`는 어떻게 알 수 있을까요? 앞서 쿼리한 대로 아래와 같이 코드를 작성할 수 있습니다.\n",
    "```sql\n",
    "SELECT *\n",
    "FROM movies\n",
    "WHERE release_year >= (\n",
    "    SELECT max(release_year)-3 \n",
    "    FROM movies) \n",
    "```\n",
    "\n",
    "위의 쿼리를 앞서 만든 쿼리의 `최근 4년간 출시된 영화의 movie_id`부분에 넣어주면 됩니다. "
   ]
  },
  {
   "cell_type": "code",
   "execution_count": 83,
   "metadata": {
    "nbpresent": {
     "id": "20d61152-7586-4cf9-9aff-548d97f7ea97"
    },
    "slideshow": {
     "slide_type": "subslide"
    }
   },
   "outputs": [],
   "source": [
    "# 최근 4년간 영화 중에서 rating_stats에서 가장 평점이 좋은 영화 가져오기\n"
   ]
  },
  {
   "cell_type": "markdown",
   "metadata": {
    "nbpresent": {
     "id": "1764779e-811a-41b0-9776-73e5c4902b0a"
    },
    "slideshow": {
     "slide_type": "slide"
    }
   },
   "source": [
    "`top10_recent_movies`영화를 기준으로 앞서 인기 영화를 뽑은 기준을 그대로 적용하여 최근 인기 아이템을 뽑아보겠습니다. <br>\n",
    "결과를 확인해보면, 앞서 전체 데이터에서 인기 영화를 뽑았을 때에는 보이지 않았던 최신 영화가 리스트됨을 알 수 있습니다. "
   ]
  },
  {
   "cell_type": "markdown",
   "metadata": {
    "deletable": false,
    "nbpresent": {
     "id": "5a91d893-5d6e-41af-9eef-d22a769d0947"
    },
    "slideshow": {
     "slide_type": "slide"
    }
   },
   "source": [
    "#  \n",
    "\n",
    "---\n",
    "\n",
    "    Copyright(c) 2019 by Public AI. All rights reserved.\n",
    "    Writen by PAI, SangJae Kang ( rocketgrowthsj@publicai.co.kr )  last updated on 2020/01/13\n",
    "\n",
    "\n",
    "---"
   ]
  }
 ],
 "metadata": {
  "kernelspec": {
   "display_name": "Python 3",
   "language": "python",
   "name": "python3"
  },
  "language_info": {
   "codemirror_mode": {
    "name": "ipython",
    "version": 3
   },
   "file_extension": ".py",
   "mimetype": "text/x-python",
   "name": "python",
   "nbconvert_exporter": "python",
   "pygments_lexer": "ipython3",
   "version": "3.6.6"
  },
  "nbpresent": {
   "slides": {
    "0247b33c-c127-4d1f-ab38-793f616b44f2": {
     "id": "0247b33c-c127-4d1f-ab38-793f616b44f2",
     "prev": "0f42db91-5447-4dc5-92cb-9dc935c4a8e9",
     "regions": {
      "649a8ee5-8085-44f9-917f-a49fad3df8fb": {
       "attrs": {
        "height": 0.8,
        "width": 0.8,
        "x": 0.1,
        "y": 0.1
       },
       "content": {
        "cell": "bc182e5f-bb6a-4eaf-bd8d-cfe977d0edbb",
        "part": "whole"
       },
       "id": "649a8ee5-8085-44f9-917f-a49fad3df8fb"
      }
     }
    },
    "05f01b90-8f58-4a91-9e29-bb5c88811d0a": {
     "id": "05f01b90-8f58-4a91-9e29-bb5c88811d0a",
     "prev": "3f096370-3eef-403c-86e9-c95cd747dc5a",
     "regions": {
      "52e8ca07-454e-4eb1-87d1-98877f0c5bda": {
       "attrs": {
        "height": 0.8,
        "width": 0.8,
        "x": 0.1,
        "y": 0.1
       },
       "content": {
        "cell": "1f619261-c227-447c-ba0f-378030a248ba",
        "part": "whole"
       },
       "id": "52e8ca07-454e-4eb1-87d1-98877f0c5bda"
      }
     }
    },
    "06e79b68-e801-4041-bbb6-343e328161b1": {
     "id": "06e79b68-e801-4041-bbb6-343e328161b1",
     "prev": "706fcdd7-cc44-4fae-997d-563f03ddc5a6",
     "regions": {
      "4fa04108-9857-4853-8a85-1be72765a3ca": {
       "attrs": {
        "height": 0.8,
        "width": 0.8,
        "x": 0.1,
        "y": 0.1
       },
       "content": {
        "cell": "ce45d3be-2428-41dd-b05d-a34be30aa3a5",
        "part": "whole"
       },
       "id": "4fa04108-9857-4853-8a85-1be72765a3ca"
      }
     }
    },
    "0baabd5d-2876-40cb-93fe-a4ad1c7b87cd": {
     "id": "0baabd5d-2876-40cb-93fe-a4ad1c7b87cd",
     "prev": "d8515396-81d5-4c7a-8342-d80c4db0de53",
     "regions": {
      "f6aae491-5983-4179-beeb-0d88c85f9113": {
       "attrs": {
        "height": 0.8,
        "width": 0.8,
        "x": 0.1,
        "y": 0.1
       },
       "content": {
        "cell": "49c0c85d-2c93-4353-adcf-e1bbe9b340ce",
        "part": "whole"
       },
       "id": "f6aae491-5983-4179-beeb-0d88c85f9113"
      }
     }
    },
    "0d11592c-4481-4b18-957e-157190f935b7": {
     "id": "0d11592c-4481-4b18-957e-157190f935b7",
     "prev": "1ea3645b-ff94-4bcb-b09c-674680372cf6",
     "regions": {
      "658eb97e-e211-462d-b9a8-916b1bf60e18": {
       "attrs": {
        "height": 0.8,
        "width": 0.8,
        "x": 0.1,
        "y": 0.1
       },
       "content": {
        "cell": "20d61152-7586-4cf9-9aff-548d97f7ea97",
        "part": "whole"
       },
       "id": "658eb97e-e211-462d-b9a8-916b1bf60e18"
      }
     }
    },
    "0d2f2f81-2865-4086-9c6e-3c661da8a591": {
     "id": "0d2f2f81-2865-4086-9c6e-3c661da8a591",
     "prev": "419f1121-3fcd-433d-a4d9-6255f211d246",
     "regions": {
      "86d286dc-c510-4bf9-afde-d6edfe4de64d": {
       "attrs": {
        "height": 0.8,
        "width": 0.8,
        "x": 0.1,
        "y": 0.1
       },
       "content": {
        "cell": "036cfffc-c795-440d-91e2-c18db581fa71",
        "part": "whole"
       },
       "id": "86d286dc-c510-4bf9-afde-d6edfe4de64d"
      }
     }
    },
    "0f42db91-5447-4dc5-92cb-9dc935c4a8e9": {
     "id": "0f42db91-5447-4dc5-92cb-9dc935c4a8e9",
     "prev": "23f1bf08-f1db-46a1-9ed2-a634f42b8873",
     "regions": {
      "78bc10c9-33e9-4bf3-9ce7-f717fd07d961": {
       "attrs": {
        "height": 0.8,
        "width": 0.8,
        "x": 0.1,
        "y": 0.1
       },
       "content": {
        "cell": "8ecfaa08-e021-47ed-a9d7-251afc273ea2",
        "part": "whole"
       },
       "id": "78bc10c9-33e9-4bf3-9ce7-f717fd07d961"
      }
     }
    },
    "148f4a59-bb55-460d-aa9d-11e3a39ba84a": {
     "id": "148f4a59-bb55-460d-aa9d-11e3a39ba84a",
     "prev": "835dec9e-5fe6-492c-ac14-4a2e70de90dd",
     "regions": {
      "a41010c4-a70f-41fe-8518-d8327ee8d6c2": {
       "attrs": {
        "height": 0.8,
        "width": 0.8,
        "x": 0.1,
        "y": 0.1
       },
       "content": {
        "cell": "d709c678-f640-4b40-814d-19942c5fc30a",
        "part": "whole"
       },
       "id": "a41010c4-a70f-41fe-8518-d8327ee8d6c2"
      }
     }
    },
    "1828dd5c-ded0-4574-bb2e-e2d3be7da3f6": {
     "id": "1828dd5c-ded0-4574-bb2e-e2d3be7da3f6",
     "prev": "ee762550-c19d-4cd7-b06b-bbd48a77116f",
     "regions": {
      "4c9ed8ef-6ad0-496e-936a-60d2ae466d9f": {
       "attrs": {
        "height": 0.8,
        "width": 0.8,
        "x": 0.1,
        "y": 0.1
       },
       "content": {
        "cell": "92544547-5d64-4e77-9934-faa005f9c715",
        "part": "whole"
       },
       "id": "4c9ed8ef-6ad0-496e-936a-60d2ae466d9f"
      }
     }
    },
    "18330ec2-fe62-4ce4-a9d4-ef0fae4a4703": {
     "id": "18330ec2-fe62-4ce4-a9d4-ef0fae4a4703",
     "prev": "2f87602e-506c-40bc-9918-30848e999472",
     "regions": {
      "a113d509-3874-4944-ba30-7af3e9862f0f": {
       "attrs": {
        "height": 0.8,
        "width": 0.8,
        "x": 0.1,
        "y": 0.1
       },
       "content": {
        "cell": "7786af5d-a942-4956-a053-1795c9ebe949",
        "part": "whole"
       },
       "id": "a113d509-3874-4944-ba30-7af3e9862f0f"
      }
     }
    },
    "1ea3645b-ff94-4bcb-b09c-674680372cf6": {
     "id": "1ea3645b-ff94-4bcb-b09c-674680372cf6",
     "prev": "969d229f-0a72-425d-8b70-a4a354fca888",
     "regions": {
      "92b53733-338c-4211-b055-413792c57df2": {
       "attrs": {
        "height": 0.8,
        "width": 0.8,
        "x": 0.1,
        "y": 0.1
       },
       "content": {
        "cell": "a8544e59-ea28-4771-b757-18062aded711",
        "part": "whole"
       },
       "id": "92b53733-338c-4211-b055-413792c57df2"
      }
     }
    },
    "23f1bf08-f1db-46a1-9ed2-a634f42b8873": {
     "id": "23f1bf08-f1db-46a1-9ed2-a634f42b8873",
     "prev": "1828dd5c-ded0-4574-bb2e-e2d3be7da3f6",
     "regions": {
      "eeaa413a-47e2-4f74-87cc-4cc1ffcfb587": {
       "attrs": {
        "height": 0.8,
        "width": 0.8,
        "x": 0.1,
        "y": 0.1
       },
       "content": {
        "cell": "120acdbd-9b20-463e-ab49-d101b9ca7c98",
        "part": "whole"
       },
       "id": "eeaa413a-47e2-4f74-87cc-4cc1ffcfb587"
      }
     }
    },
    "27a09ded-6db8-4625-a42f-9a681883a8cc": {
     "id": "27a09ded-6db8-4625-a42f-9a681883a8cc",
     "prev": "b0e461c6-1274-4780-bbd5-10d77a90fe3b",
     "regions": {
      "682c5e75-6cf9-4a8a-99cd-cb35228247bc": {
       "attrs": {
        "height": 0.8,
        "width": 0.8,
        "x": 0.1,
        "y": 0.1
       },
       "content": {
        "cell": "2616cb0a-55dc-4532-97d9-c910a480a303",
        "part": "whole"
       },
       "id": "682c5e75-6cf9-4a8a-99cd-cb35228247bc"
      }
     }
    },
    "27fb52a0-dd09-45a1-aa21-d919d9dc5101": {
     "id": "27fb52a0-dd09-45a1-aa21-d919d9dc5101",
     "prev": "7bb2bf70-15f7-4288-9878-10d461a1623b",
     "regions": {
      "83a69c5e-11c1-4751-9e32-2d0a571d00a4": {
       "attrs": {
        "height": 0.8,
        "width": 0.8,
        "x": 0.1,
        "y": 0.1
       },
       "content": {
        "cell": "6de7e90d-6d05-4c84-8d65-91c212bd1106",
        "part": "whole"
       },
       "id": "83a69c5e-11c1-4751-9e32-2d0a571d00a4"
      }
     }
    },
    "2c3b9984-ce5e-403b-b2a1-67ce4caa90a7": {
     "id": "2c3b9984-ce5e-403b-b2a1-67ce4caa90a7",
     "prev": "5b0f044f-5809-4672-ba52-4adccd719729",
     "regions": {
      "2da2f7ac-5134-4fd8-be67-9fd8274c88b8": {
       "attrs": {
        "height": 0.8,
        "width": 0.8,
        "x": 0.1,
        "y": 0.1
       },
       "content": {
        "cell": "64239999-827c-4568-8f5b-1b4d1057fc18",
        "part": "whole"
       },
       "id": "2da2f7ac-5134-4fd8-be67-9fd8274c88b8"
      }
     }
    },
    "2ddcec9c-2840-4ff0-83c7-019f76067c78": {
     "id": "2ddcec9c-2840-4ff0-83c7-019f76067c78",
     "prev": "4c354f0f-3090-4675-91b8-8ef0a4c0873b",
     "regions": {
      "d077a800-9769-413f-85ac-3e8cf06959f5": {
       "attrs": {
        "height": 0.8,
        "width": 0.8,
        "x": 0.1,
        "y": 0.1
       },
       "content": {
        "cell": "2b8de903-e6f7-44b0-8345-bb0b39b3ef91",
        "part": "whole"
       },
       "id": "d077a800-9769-413f-85ac-3e8cf06959f5"
      }
     }
    },
    "2e73ddc9-d500-41f1-83b1-a6efd7c95057": {
     "id": "2e73ddc9-d500-41f1-83b1-a6efd7c95057",
     "prev": "7c58da26-ca31-4944-ab29-4b82f7118d2e",
     "regions": {
      "a576b850-76c6-4561-a8b0-e73d75afc66d": {
       "attrs": {
        "height": 0.8,
        "width": 0.8,
        "x": 0.1,
        "y": 0.1
       },
       "content": {
        "cell": "8d557475-5e80-4346-b771-2277c3f6270f",
        "part": "whole"
       },
       "id": "a576b850-76c6-4561-a8b0-e73d75afc66d"
      }
     }
    },
    "2f0333f0-6d7f-49ff-9c72-1851c7a45651": {
     "id": "2f0333f0-6d7f-49ff-9c72-1851c7a45651",
     "prev": "655ea88e-be2e-438e-9504-d0284eb0454f",
     "regions": {
      "ea68817a-1fbc-4328-ad0b-c976f1d68694": {
       "attrs": {
        "height": 0.8,
        "width": 0.8,
        "x": 0.1,
        "y": 0.1
       },
       "content": {
        "cell": "48bb7946-eb8b-485b-9c17-c19374c0d011",
        "part": "whole"
       },
       "id": "ea68817a-1fbc-4328-ad0b-c976f1d68694"
      }
     }
    },
    "2f87602e-506c-40bc-9918-30848e999472": {
     "id": "2f87602e-506c-40bc-9918-30848e999472",
     "prev": "fe1b3a98-ddcf-4366-8300-1d69fa242111",
     "regions": {
      "c081e63a-1c55-4c28-a49e-d1784a31eddb": {
       "attrs": {
        "height": 0.8,
        "width": 0.8,
        "x": 0.1,
        "y": 0.1
       },
       "content": {
        "cell": "4d94231f-581a-481c-9ca1-3fcd7677319f",
        "part": "whole"
       },
       "id": "c081e63a-1c55-4c28-a49e-d1784a31eddb"
      }
     }
    },
    "30714d55-969b-4416-a3d8-811921f6ffe0": {
     "id": "30714d55-969b-4416-a3d8-811921f6ffe0",
     "prev": "77ec3749-8bdf-4a3f-bb77-90e2b271e719",
     "regions": {
      "ac09a85f-705f-49dd-a563-73f9f3812344": {
       "attrs": {
        "height": 0.8,
        "width": 0.8,
        "x": 0.1,
        "y": 0.1
       },
       "content": {
        "cell": "d837058e-3c16-41fe-a49e-ddf20073ac1c",
        "part": "whole"
       },
       "id": "ac09a85f-705f-49dd-a563-73f9f3812344"
      }
     }
    },
    "3918ee03-7827-486f-850b-92d0b1520570": {
     "id": "3918ee03-7827-486f-850b-92d0b1520570",
     "prev": "2e73ddc9-d500-41f1-83b1-a6efd7c95057",
     "regions": {
      "0f3fd133-d836-4fb3-8fbf-a7e5aac6280b": {
       "attrs": {
        "height": 0.8,
        "width": 0.8,
        "x": 0.1,
        "y": 0.1
       },
       "content": {
        "cell": "c24f6a17-b6d5-4954-b381-99fadd50093b",
        "part": "whole"
       },
       "id": "0f3fd133-d836-4fb3-8fbf-a7e5aac6280b"
      }
     }
    },
    "3aeb1aec-53c4-44be-8030-eadab2894958": {
     "id": "3aeb1aec-53c4-44be-8030-eadab2894958",
     "prev": "cb803890-402f-4337-a243-6b2208e1bb75",
     "regions": {
      "dd1de871-ebcf-47b3-8661-4869d2467d11": {
       "attrs": {
        "height": 0.8,
        "width": 0.8,
        "x": 0.1,
        "y": 0.1
       },
       "content": {
        "cell": "fa434a28-420e-454e-ae8b-83a33d4c23cb",
        "part": "whole"
       },
       "id": "dd1de871-ebcf-47b3-8661-4869d2467d11"
      }
     }
    },
    "3f096370-3eef-403c-86e9-c95cd747dc5a": {
     "id": "3f096370-3eef-403c-86e9-c95cd747dc5a",
     "prev": "c4cc70b6-e089-43eb-9134-262a04d368d1",
     "regions": {
      "7dcbc739-4483-4028-9eb8-392aedf79368": {
       "attrs": {
        "height": 0.8,
        "width": 0.8,
        "x": 0.1,
        "y": 0.1
       },
       "content": {
        "cell": "86bac1cf-db37-439a-96f1-344e1c38f63f",
        "part": "whole"
       },
       "id": "7dcbc739-4483-4028-9eb8-392aedf79368"
      }
     }
    },
    "419f1121-3fcd-433d-a4d9-6255f211d246": {
     "id": "419f1121-3fcd-433d-a4d9-6255f211d246",
     "prev": "18330ec2-fe62-4ce4-a9d4-ef0fae4a4703",
     "regions": {
      "e47be213-e44a-4348-b7f9-73917fdff0ad": {
       "attrs": {
        "height": 0.8,
        "width": 0.8,
        "x": 0.1,
        "y": 0.1
       },
       "content": {
        "cell": "4d612ae4-b2fe-497e-ac5f-367bcb27e7b3",
        "part": "whole"
       },
       "id": "e47be213-e44a-4348-b7f9-73917fdff0ad"
      }
     }
    },
    "485cba9a-9cb4-4d87-a042-49562f190db6": {
     "id": "485cba9a-9cb4-4d87-a042-49562f190db6",
     "prev": "fe1c894a-9469-4537-bf31-774a1a783654",
     "regions": {
      "33b4ae1b-e93f-4d30-99fc-68932258b5bd": {
       "attrs": {
        "height": 0.8,
        "width": 0.8,
        "x": 0.1,
        "y": 0.1
       },
       "content": {
        "cell": "64520e9e-cf52-4410-a4f9-22bddd964e57",
        "part": "whole"
       },
       "id": "33b4ae1b-e93f-4d30-99fc-68932258b5bd"
      }
     }
    },
    "4a1f73df-4af1-43a3-ac04-3c2460f3284d": {
     "id": "4a1f73df-4af1-43a3-ac04-3c2460f3284d",
     "prev": "148f4a59-bb55-460d-aa9d-11e3a39ba84a",
     "regions": {
      "c0600d36-f3e9-4ce2-b0f6-8443fadbeb09": {
       "attrs": {
        "height": 0.8,
        "width": 0.8,
        "x": 0.1,
        "y": 0.1
       },
       "content": {
        "cell": "e536adec-2090-4c5e-b3d1-8750078769eb",
        "part": "whole"
       },
       "id": "c0600d36-f3e9-4ce2-b0f6-8443fadbeb09"
      }
     }
    },
    "4c354f0f-3090-4675-91b8-8ef0a4c0873b": {
     "id": "4c354f0f-3090-4675-91b8-8ef0a4c0873b",
     "prev": "d1554a34-bc37-4297-867d-4661a340ed43",
     "regions": {
      "09b46cfc-4038-4507-891c-8ffe3a33df1d": {
       "attrs": {
        "height": 0.8,
        "width": 0.8,
        "x": 0.1,
        "y": 0.1
       },
       "content": {
        "cell": "988a6999-135d-4001-85b1-75cf73a622ae",
        "part": "whole"
       },
       "id": "09b46cfc-4038-4507-891c-8ffe3a33df1d"
      }
     }
    },
    "50242147-2265-4430-9772-c7b13d9e8b70": {
     "id": "50242147-2265-4430-9772-c7b13d9e8b70",
     "prev": "0d2f2f81-2865-4086-9c6e-3c661da8a591",
     "regions": {
      "ebae7676-7b47-47d2-b320-7b2ffc6b8d42": {
       "attrs": {
        "height": 0.8,
        "width": 0.8,
        "x": 0.1,
        "y": 0.1
       },
       "content": {
        "cell": "0d7e7152-3df9-410c-b5bd-3984a5513121",
        "part": "whole"
       },
       "id": "ebae7676-7b47-47d2-b320-7b2ffc6b8d42"
      }
     }
    },
    "5656ebab-0711-4034-8e8f-bd7b69dd5e3b": {
     "id": "5656ebab-0711-4034-8e8f-bd7b69dd5e3b",
     "prev": "c88ab4f3-a6c4-4246-a0fb-e17762f8949d",
     "regions": {
      "4143345f-e10c-4001-a478-13e0521a6afd": {
       "attrs": {
        "height": 0.8,
        "width": 0.8,
        "x": 0.1,
        "y": 0.1
       },
       "content": {
        "cell": "3ec97886-cdcb-4018-98dc-a4db6889b984",
        "part": "whole"
       },
       "id": "4143345f-e10c-4001-a478-13e0521a6afd"
      }
     }
    },
    "5b0f044f-5809-4672-ba52-4adccd719729": {
     "id": "5b0f044f-5809-4672-ba52-4adccd719729",
     "prev": "9166287e-09ed-4684-b419-a627cd181b98",
     "regions": {
      "7f0b3a7b-ace1-4ea2-87f0-dd672a26a155": {
       "attrs": {
        "height": 0.8,
        "width": 0.8,
        "x": 0.1,
        "y": 0.1
       },
       "content": {
        "cell": "e02856a6-1065-404c-a364-5e628d909958",
        "part": "whole"
       },
       "id": "7f0b3a7b-ace1-4ea2-87f0-dd672a26a155"
      }
     }
    },
    "5c43cc32-9965-4832-b3c6-cc4ede882ef1": {
     "id": "5c43cc32-9965-4832-b3c6-cc4ede882ef1",
     "prev": "649e5a8c-0da6-4cef-9bd8-ee41eaec635d",
     "regions": {
      "5fcaae74-6564-47b0-9fd0-7512eeb3f753": {
       "attrs": {
        "height": 0.8,
        "width": 0.8,
        "x": 0.1,
        "y": 0.1
       },
       "content": {
        "cell": "4f567ded-6b0c-4600-90e0-3908cfa1f334",
        "part": "whole"
       },
       "id": "5fcaae74-6564-47b0-9fd0-7512eeb3f753"
      }
     }
    },
    "60fff072-3e89-45f3-87fe-e32a2471736f": {
     "id": "60fff072-3e89-45f3-87fe-e32a2471736f",
     "prev": "b7dd2145-6c79-495a-8519-14906c375d5a",
     "regions": {
      "c03fcc0c-78be-4a97-bfac-dfc4bebddd68": {
       "attrs": {
        "height": 0.8,
        "width": 0.8,
        "x": 0.1,
        "y": 0.1
       },
       "content": {
        "cell": "9b117321-e8d4-436d-9add-1d9d15765cda",
        "part": "whole"
       },
       "id": "c03fcc0c-78be-4a97-bfac-dfc4bebddd68"
      }
     }
    },
    "649e5a8c-0da6-4cef-9bd8-ee41eaec635d": {
     "id": "649e5a8c-0da6-4cef-9bd8-ee41eaec635d",
     "prev": "2ddcec9c-2840-4ff0-83c7-019f76067c78",
     "regions": {
      "a41c10fa-82cb-4a01-bc05-d22ed4d970ff": {
       "attrs": {
        "height": 0.8,
        "width": 0.8,
        "x": 0.1,
        "y": 0.1
       },
       "content": {
        "cell": "addb2cce-5211-4480-b668-9cc14818afae",
        "part": "whole"
       },
       "id": "a41c10fa-82cb-4a01-bc05-d22ed4d970ff"
      }
     }
    },
    "655ea88e-be2e-438e-9504-d0284eb0454f": {
     "id": "655ea88e-be2e-438e-9504-d0284eb0454f",
     "prev": "f5804278-9a91-415d-bb2e-dd724fa2b634",
     "regions": {
      "b8c1a93a-a3e7-40c4-8f2e-7a72d85c445b": {
       "attrs": {
        "height": 0.8,
        "width": 0.8,
        "x": 0.1,
        "y": 0.1
       },
       "content": {
        "cell": "caf0411e-2266-459a-be71-ca2edcf701fc",
        "part": "whole"
       },
       "id": "b8c1a93a-a3e7-40c4-8f2e-7a72d85c445b"
      }
     }
    },
    "69f73246-dce0-42f5-a305-3368a13fe2cb": {
     "id": "69f73246-dce0-42f5-a305-3368a13fe2cb",
     "prev": "f2e4e249-2375-456c-9a32-22d1c9d5263b",
     "regions": {
      "778000e3-0859-45e5-ae50-bd22ea8c48d7": {
       "attrs": {
        "height": 0.8,
        "width": 0.8,
        "x": 0.1,
        "y": 0.1
       },
       "content": {
        "cell": "64698a6a-fe48-4f71-9fc3-9ed1b6081e71",
        "part": "whole"
       },
       "id": "778000e3-0859-45e5-ae50-bd22ea8c48d7"
      }
     }
    },
    "6f8fcd45-82c7-44b0-9143-d8b4dabbdf45": {
     "id": "6f8fcd45-82c7-44b0-9143-d8b4dabbdf45",
     "prev": "50242147-2265-4430-9772-c7b13d9e8b70",
     "regions": {
      "ca0f0229-d549-468c-b116-8749c4660201": {
       "attrs": {
        "height": 0.8,
        "width": 0.8,
        "x": 0.1,
        "y": 0.1
       },
       "content": {
        "cell": "46ac0e68-8831-40ec-a93b-2538fa0076ca",
        "part": "whole"
       },
       "id": "ca0f0229-d549-468c-b116-8749c4660201"
      }
     }
    },
    "6fc24b7b-6ae8-4a31-9ad3-7eaf69016b2c": {
     "id": "6fc24b7b-6ae8-4a31-9ad3-7eaf69016b2c",
     "prev": "f2f546ef-7145-48d7-8cc3-e1d76e4a8e84",
     "regions": {
      "d7d35dcf-e3f7-4e41-bd29-eaf40de6e103": {
       "attrs": {
        "height": 0.8,
        "width": 0.8,
        "x": 0.1,
        "y": 0.1
       },
       "content": {
        "cell": "b05cd720-0b75-4548-91bb-2d78e2b9afa9",
        "part": "whole"
       },
       "id": "d7d35dcf-e3f7-4e41-bd29-eaf40de6e103"
      }
     }
    },
    "706fcdd7-cc44-4fae-997d-563f03ddc5a6": {
     "id": "706fcdd7-cc44-4fae-997d-563f03ddc5a6",
     "prev": "76c8ad51-f35d-49ad-888c-cb08ce50d983",
     "regions": {
      "f22cf827-aca3-451a-b970-2d9b65e4126d": {
       "attrs": {
        "height": 0.8,
        "width": 0.8,
        "x": 0.1,
        "y": 0.1
       },
       "content": {
        "cell": "fb0d09b8-b09e-4358-80f4-c146d040d0fc",
        "part": "whole"
       },
       "id": "f22cf827-aca3-451a-b970-2d9b65e4126d"
      }
     }
    },
    "730480ff-c0a5-4f66-b001-dcda1f54a147": {
     "id": "730480ff-c0a5-4f66-b001-dcda1f54a147",
     "prev": "b166d75d-a66c-4dc3-95f2-54410db80012",
     "regions": {
      "4275987a-0e3c-4e19-a834-2ef8f86a3526": {
       "attrs": {
        "height": 0.8,
        "width": 0.8,
        "x": 0.1,
        "y": 0.1
       },
       "content": {
        "cell": "8d78ecde-e0e8-412b-af42-46e393a640ec",
        "part": "whole"
       },
       "id": "4275987a-0e3c-4e19-a834-2ef8f86a3526"
      }
     }
    },
    "736edf1c-74b9-4176-91ff-edfa38daf812": {
     "id": "736edf1c-74b9-4176-91ff-edfa38daf812",
     "prev": "4a1f73df-4af1-43a3-ac04-3c2460f3284d",
     "regions": {
      "2004fd62-6526-45ad-a71c-6abfec94f3fe": {
       "attrs": {
        "height": 0.8,
        "width": 0.8,
        "x": 0.1,
        "y": 0.1
       },
       "content": {
        "cell": "6eeebfb2-ba3f-498e-a469-0e26c0af90b0",
        "part": "whole"
       },
       "id": "2004fd62-6526-45ad-a71c-6abfec94f3fe"
      }
     }
    },
    "76c8ad51-f35d-49ad-888c-cb08ce50d983": {
     "id": "76c8ad51-f35d-49ad-888c-cb08ce50d983",
     "prev": "7a632bc5-92ca-497c-8244-551a8bd430ed",
     "regions": {
      "2655a84f-494e-48eb-abb4-fb13ed557114": {
       "attrs": {
        "height": 0.8,
        "width": 0.8,
        "x": 0.1,
        "y": 0.1
       },
       "content": {
        "cell": "b5931739-0dae-46e3-867d-3da0366a961e",
        "part": "whole"
       },
       "id": "2655a84f-494e-48eb-abb4-fb13ed557114"
      }
     }
    },
    "77e6c501-3d92-4db3-8241-d9ac04c180eb": {
     "id": "77e6c501-3d92-4db3-8241-d9ac04c180eb",
     "prev": "0baabd5d-2876-40cb-93fe-a4ad1c7b87cd",
     "regions": {
      "61a47bd2-4fb8-4825-9c80-883060dd5c81": {
       "attrs": {
        "height": 0.8,
        "width": 0.8,
        "x": 0.1,
        "y": 0.1
       },
       "content": {
        "cell": "c04ff608-c03b-49de-a298-e25b1701dcc7",
        "part": "whole"
       },
       "id": "61a47bd2-4fb8-4825-9c80-883060dd5c81"
      }
     }
    },
    "77ec3749-8bdf-4a3f-bb77-90e2b271e719": {
     "id": "77ec3749-8bdf-4a3f-bb77-90e2b271e719",
     "prev": "f016132b-0e5f-4c8c-8334-5625ee209e56",
     "regions": {
      "da052656-070b-4a31-9550-fbd881a49478": {
       "attrs": {
        "height": 0.8,
        "width": 0.8,
        "x": 0.1,
        "y": 0.1
       },
       "content": {
        "cell": "308d0bee-cc52-4c11-a737-ae5178b56cd1",
        "part": "whole"
       },
       "id": "da052656-070b-4a31-9550-fbd881a49478"
      }
     }
    },
    "7a632bc5-92ca-497c-8244-551a8bd430ed": {
     "id": "7a632bc5-92ca-497c-8244-551a8bd430ed",
     "prev": "86d88f80-5241-4de6-a7d6-318c4ed6e580",
     "regions": {
      "b598653f-7009-4a36-8b64-38f6a1833a51": {
       "attrs": {
        "height": 0.8,
        "width": 0.8,
        "x": 0.1,
        "y": 0.1
       },
       "content": {
        "cell": "94d8eab7-8896-4c56-99cb-bfd1d2f813e2",
        "part": "whole"
       },
       "id": "b598653f-7009-4a36-8b64-38f6a1833a51"
      }
     }
    },
    "7ab6364f-2e2f-450f-a437-7fd50b2442b2": {
     "id": "7ab6364f-2e2f-450f-a437-7fd50b2442b2",
     "prev": "05f01b90-8f58-4a91-9e29-bb5c88811d0a",
     "regions": {
      "9e978660-4f6e-4369-b6dd-f909335a7664": {
       "attrs": {
        "height": 0.8,
        "width": 0.8,
        "x": 0.1,
        "y": 0.1
       },
       "content": {
        "cell": "2c9f036e-e609-4252-b727-205acc0d310e",
        "part": "whole"
       },
       "id": "9e978660-4f6e-4369-b6dd-f909335a7664"
      }
     }
    },
    "7bb2bf70-15f7-4288-9878-10d461a1623b": {
     "id": "7bb2bf70-15f7-4288-9878-10d461a1623b",
     "prev": "30714d55-969b-4416-a3d8-811921f6ffe0",
     "regions": {
      "12cdbbab-88c2-40eb-b88d-36162ae7bbb5": {
       "attrs": {
        "height": 0.8,
        "width": 0.8,
        "x": 0.1,
        "y": 0.1
       },
       "content": {
        "cell": "83b8618d-20a9-4bbe-8b1a-cd204d43e49e",
        "part": "whole"
       },
       "id": "12cdbbab-88c2-40eb-b88d-36162ae7bbb5"
      }
     }
    },
    "7c58da26-ca31-4944-ab29-4b82f7118d2e": {
     "id": "7c58da26-ca31-4944-ab29-4b82f7118d2e",
     "prev": "3aeb1aec-53c4-44be-8030-eadab2894958",
     "regions": {
      "ac1665b8-598c-4f38-9252-7fd57816af0b": {
       "attrs": {
        "height": 0.8,
        "width": 0.8,
        "x": 0.1,
        "y": 0.1
       },
       "content": {
        "cell": "8749bcbc-cc64-4102-8fce-1240c87f99ee",
        "part": "whole"
       },
       "id": "ac1665b8-598c-4f38-9252-7fd57816af0b"
      }
     }
    },
    "82762e73-db58-40d8-b269-48417d3f9c3a": {
     "id": "82762e73-db58-40d8-b269-48417d3f9c3a",
     "prev": "c5b71c7d-afbd-44c6-8b07-11c6a1473612",
     "regions": {
      "92a42505-f92b-4de5-b1d5-cad652d9c8e4": {
       "attrs": {
        "height": 0.8,
        "width": 0.8,
        "x": 0.1,
        "y": 0.1
       },
       "content": {
        "cell": "19d659b6-f627-4a50-be2c-320e17bc8993",
        "part": "whole"
       },
       "id": "92a42505-f92b-4de5-b1d5-cad652d9c8e4"
      }
     }
    },
    "835dec9e-5fe6-492c-ac14-4a2e70de90dd": {
     "id": "835dec9e-5fe6-492c-ac14-4a2e70de90dd",
     "prev": "3918ee03-7827-486f-850b-92d0b1520570",
     "regions": {
      "f4d776e9-b557-4fbe-b283-3d6ad75edb3a": {
       "attrs": {
        "height": 0.8,
        "width": 0.8,
        "x": 0.1,
        "y": 0.1
       },
       "content": {
        "cell": "2fa0c0b3-3603-481c-8b98-6287fe9069bf",
        "part": "whole"
       },
       "id": "f4d776e9-b557-4fbe-b283-3d6ad75edb3a"
      }
     }
    },
    "86d88f80-5241-4de6-a7d6-318c4ed6e580": {
     "id": "86d88f80-5241-4de6-a7d6-318c4ed6e580",
     "prev": "60fff072-3e89-45f3-87fe-e32a2471736f",
     "regions": {
      "57c3e9d4-e47b-4718-9d82-b84250c43fd7": {
       "attrs": {
        "height": 0.8,
        "width": 0.8,
        "x": 0.1,
        "y": 0.1
       },
       "content": {
        "cell": "6ecc2dd5-56b9-4579-a52b-6d57e76224da",
        "part": "whole"
       },
       "id": "57c3e9d4-e47b-4718-9d82-b84250c43fd7"
      }
     }
    },
    "8d4dafa2-5959-417f-9979-80540d5f43e4": {
     "id": "8d4dafa2-5959-417f-9979-80540d5f43e4",
     "prev": "69f73246-dce0-42f5-a305-3368a13fe2cb",
     "regions": {
      "b23efd75-b311-4161-b211-0ada51444952": {
       "attrs": {
        "height": 0.8,
        "width": 0.8,
        "x": 0.1,
        "y": 0.1
       },
       "content": {
        "cell": "454ca303-2ae7-4553-abdc-5afbb6f5967a",
        "part": "whole"
       },
       "id": "b23efd75-b311-4161-b211-0ada51444952"
      }
     }
    },
    "9134e6d6-12d7-4749-a142-a286c1818c3e": {
     "id": "9134e6d6-12d7-4749-a142-a286c1818c3e",
     "prev": "27a09ded-6db8-4625-a42f-9a681883a8cc",
     "regions": {
      "a8da985a-11ff-4e98-9fd4-dc89ddc02f53": {
       "attrs": {
        "height": 0.8,
        "width": 0.8,
        "x": 0.1,
        "y": 0.1
       },
       "content": {
        "cell": "5a91d893-5d6e-41af-9eef-d22a769d0947",
        "part": "whole"
       },
       "id": "a8da985a-11ff-4e98-9fd4-dc89ddc02f53"
      }
     }
    },
    "9166287e-09ed-4684-b419-a627cd181b98": {
     "id": "9166287e-09ed-4684-b419-a627cd181b98",
     "prev": "82762e73-db58-40d8-b269-48417d3f9c3a",
     "regions": {
      "34a86059-a4cd-4115-8a2e-d019f4419939": {
       "attrs": {
        "height": 0.8,
        "width": 0.8,
        "x": 0.1,
        "y": 0.1
       },
       "content": {
        "cell": "13d12250-5ab9-457f-a246-377045bb5da9",
        "part": "whole"
       },
       "id": "34a86059-a4cd-4115-8a2e-d019f4419939"
      }
     }
    },
    "93e886e4-3cdb-4b61-9845-f6e177ad5663": {
     "id": "93e886e4-3cdb-4b61-9845-f6e177ad5663",
     "prev": "d12f0492-7df4-43ec-b3ce-05a69ad59a90",
     "regions": {
      "79824604-95b7-443c-99e3-b58fec33092f": {
       "attrs": {
        "height": 0.8,
        "width": 0.8,
        "x": 0.1,
        "y": 0.1
       },
       "content": {
        "cell": "1eca68f9-a442-4875-9849-443e5bcfd8c8",
        "part": "whole"
       },
       "id": "79824604-95b7-443c-99e3-b58fec33092f"
      }
     }
    },
    "969d229f-0a72-425d-8b70-a4a354fca888": {
     "id": "969d229f-0a72-425d-8b70-a4a354fca888",
     "prev": "485cba9a-9cb4-4d87-a042-49562f190db6",
     "regions": {
      "2fc9218b-83a1-4fd1-a8ba-fd83cd06e88b": {
       "attrs": {
        "height": 0.8,
        "width": 0.8,
        "x": 0.1,
        "y": 0.1
       },
       "content": {
        "cell": "9013f78e-fa4a-4fc2-a73a-ac0af44cef30",
        "part": "whole"
       },
       "id": "2fc9218b-83a1-4fd1-a8ba-fd83cd06e88b"
      }
     }
    },
    "97318ba8-a9b0-448e-9227-f9182839393e": {
     "id": "97318ba8-a9b0-448e-9227-f9182839393e",
     "prev": "730480ff-c0a5-4f66-b001-dcda1f54a147",
     "regions": {
      "6c5ae5ec-5bed-4809-a120-da844f4bfa36": {
       "attrs": {
        "height": 0.8,
        "width": 0.8,
        "x": 0.1,
        "y": 0.1
       },
       "content": {
        "cell": "9bb14f34-99c2-4020-8b14-4f9e201c928c",
        "part": "whole"
       },
       "id": "6c5ae5ec-5bed-4809-a120-da844f4bfa36"
      }
     }
    },
    "9ca97464-4823-42b5-8530-9e45d50e4852": {
     "id": "9ca97464-4823-42b5-8530-9e45d50e4852",
     "prev": "8d4dafa2-5959-417f-9979-80540d5f43e4",
     "regions": {
      "f8d9d612-141e-4ab1-862e-d305659c5640": {
       "attrs": {
        "height": 0.8,
        "width": 0.8,
        "x": 0.1,
        "y": 0.1
       },
       "content": {
        "cell": "468fe855-020b-4acb-9567-98efd0fe6f84",
        "part": "whole"
       },
       "id": "f8d9d612-141e-4ab1-862e-d305659c5640"
      }
     }
    },
    "a35416e8-01f9-4a87-97e8-80b6832ff539": {
     "id": "a35416e8-01f9-4a87-97e8-80b6832ff539",
     "prev": "cefd665c-33fb-44b8-aad6-69a06dd5c6b7",
     "regions": {
      "5ccdc405-585d-4ba8-9fe8-09a128d93e39": {
       "attrs": {
        "height": 0.8,
        "width": 0.8,
        "x": 0.1,
        "y": 0.1
       },
       "content": {
        "cell": "bfaf6ef2-5261-4bbd-be33-edc09c54244d",
        "part": "whole"
       },
       "id": "5ccdc405-585d-4ba8-9fe8-09a128d93e39"
      }
     }
    },
    "ae727967-80c4-43cf-a5c7-9123318e7f84": {
     "id": "ae727967-80c4-43cf-a5c7-9123318e7f84",
     "prev": "c1e3a512-01a1-4bf9-b7ca-594b2444ba98",
     "regions": {
      "af0b72bd-4de3-45b3-86ff-e091a3599e60": {
       "attrs": {
        "height": 0.8,
        "width": 0.8,
        "x": 0.1,
        "y": 0.1
       },
       "content": {
        "cell": "af4e23f7-3ebe-4860-82e3-cddd1104f655",
        "part": "whole"
       },
       "id": "af0b72bd-4de3-45b3-86ff-e091a3599e60"
      }
     }
    },
    "b0e461c6-1274-4780-bbd5-10d77a90fe3b": {
     "id": "b0e461c6-1274-4780-bbd5-10d77a90fe3b",
     "prev": "0d11592c-4481-4b18-957e-157190f935b7",
     "regions": {
      "d13f2b2b-445f-4ade-80af-fc1a30976f6b": {
       "attrs": {
        "height": 0.8,
        "width": 0.8,
        "x": 0.1,
        "y": 0.1
       },
       "content": {
        "cell": "1764779e-811a-41b0-9776-73e5c4902b0a",
        "part": "whole"
       },
       "id": "d13f2b2b-445f-4ade-80af-fc1a30976f6b"
      }
     }
    },
    "b166d75d-a66c-4dc3-95f2-54410db80012": {
     "id": "b166d75d-a66c-4dc3-95f2-54410db80012",
     "prev": "cd904cba-3046-4b26-a965-5375d4fbcdd0",
     "regions": {
      "1d99731d-ae45-4ca0-9b50-201648988dda": {
       "attrs": {
        "height": 0.8,
        "width": 0.8,
        "x": 0.1,
        "y": 0.1
       },
       "content": {
        "cell": "a8ae95ea-93e1-4df6-9356-29d92d369ed9",
        "part": "whole"
       },
       "id": "1d99731d-ae45-4ca0-9b50-201648988dda"
      }
     }
    },
    "b244ec54-984e-47c8-9bda-4f21896f593c": {
     "id": "b244ec54-984e-47c8-9bda-4f21896f593c",
     "prev": "06e79b68-e801-4041-bbb6-343e328161b1",
     "regions": {
      "dbcf9705-ba73-4154-8385-f2eae510fb2a": {
       "attrs": {
        "height": 0.8,
        "width": 0.8,
        "x": 0.1,
        "y": 0.1
       },
       "content": {
        "cell": "eec8ce0e-1ba2-4e84-9dfe-b4e2388707f4",
        "part": "whole"
       },
       "id": "dbcf9705-ba73-4154-8385-f2eae510fb2a"
      }
     }
    },
    "b6488bd2-ace4-4a37-9fc7-7b2fc4a2d6ef": {
     "id": "b6488bd2-ace4-4a37-9fc7-7b2fc4a2d6ef",
     "prev": null,
     "regions": {}
    },
    "b7dd2145-6c79-495a-8519-14906c375d5a": {
     "id": "b7dd2145-6c79-495a-8519-14906c375d5a",
     "prev": "6fc24b7b-6ae8-4a31-9ad3-7eaf69016b2c",
     "regions": {
      "c52d3f3d-d01e-43ec-9de9-27dc443a61d1": {
       "attrs": {
        "height": 0.8,
        "width": 0.8,
        "x": 0.1,
        "y": 0.1
       },
       "content": {
        "cell": "9afd2844-2ddd-48af-b5ba-b88fec7558c4",
        "part": "whole"
       },
       "id": "c52d3f3d-d01e-43ec-9de9-27dc443a61d1"
      }
     }
    },
    "b868b4a7-42dd-4acd-9566-d2fcab659664": {
     "id": "b868b4a7-42dd-4acd-9566-d2fcab659664",
     "prev": "77e6c501-3d92-4db3-8241-d9ac04c180eb",
     "regions": {
      "68d94483-74d0-4754-847e-9d290714ef77": {
       "attrs": {
        "height": 0.8,
        "width": 0.8,
        "x": 0.1,
        "y": 0.1
       },
       "content": {
        "cell": "c12c2c9d-4cb8-4553-9c97-146034184150",
        "part": "whole"
       },
       "id": "68d94483-74d0-4754-847e-9d290714ef77"
      }
     }
    },
    "c1e3a512-01a1-4bf9-b7ca-594b2444ba98": {
     "id": "c1e3a512-01a1-4bf9-b7ca-594b2444ba98",
     "prev": "cc39cc6d-f0fd-4094-895a-08c06775b661",
     "regions": {
      "95db9519-ca89-41e3-95db-d6615b0f7518": {
       "attrs": {
        "height": 0.8,
        "width": 0.8,
        "x": 0.1,
        "y": 0.1
       },
       "content": {
        "cell": "972d6ddb-635c-4195-b8e1-7af57621227e",
        "part": "whole"
       },
       "id": "95db9519-ca89-41e3-95db-d6615b0f7518"
      }
     }
    },
    "c363b895-7ae0-4fe1-9fa4-68f091a87e3e": {
     "id": "c363b895-7ae0-4fe1-9fa4-68f091a87e3e",
     "prev": "c3880b61-d570-4b55-9caa-e9f5ee451482",
     "regions": {
      "448a8bbd-da76-4f0c-8444-3804f67ca1f8": {
       "attrs": {
        "height": 0.8,
        "width": 0.8,
        "x": 0.1,
        "y": 0.1
       },
       "content": {
        "cell": "08eb27e8-ad0d-4f75-9b36-f5feb6571a03",
        "part": "whole"
       },
       "id": "448a8bbd-da76-4f0c-8444-3804f67ca1f8"
      }
     }
    },
    "c3880b61-d570-4b55-9caa-e9f5ee451482": {
     "id": "c3880b61-d570-4b55-9caa-e9f5ee451482",
     "prev": "97318ba8-a9b0-448e-9227-f9182839393e",
     "regions": {
      "66a525d0-e98b-4899-ac74-ffaa6a0f280d": {
       "attrs": {
        "height": 0.8,
        "width": 0.8,
        "x": 0.1,
        "y": 0.1
       },
       "content": {
        "cell": "31edd43e-b9f7-4634-98bf-b4e4f4c3b4dd",
        "part": "whole"
       },
       "id": "66a525d0-e98b-4899-ac74-ffaa6a0f280d"
      }
     }
    },
    "c4cc70b6-e089-43eb-9134-262a04d368d1": {
     "id": "c4cc70b6-e089-43eb-9134-262a04d368d1",
     "prev": "6f8fcd45-82c7-44b0-9143-d8b4dabbdf45",
     "regions": {
      "493e99df-78af-45a4-a0ce-1572ad132eb1": {
       "attrs": {
        "height": 0.8,
        "width": 0.8,
        "x": 0.1,
        "y": 0.1
       },
       "content": {
        "cell": "6843b53d-840e-4f05-91a2-17003cf92580",
        "part": "whole"
       },
       "id": "493e99df-78af-45a4-a0ce-1572ad132eb1"
      }
     }
    },
    "c5b71c7d-afbd-44c6-8b07-11c6a1473612": {
     "id": "c5b71c7d-afbd-44c6-8b07-11c6a1473612",
     "prev": "fa9b87f5-68cc-4a61-b8a8-0f3e16309668",
     "regions": {
      "d9c400d9-0ab4-4719-ab27-8f847cbae149": {
       "attrs": {
        "height": 0.8,
        "width": 0.8,
        "x": 0.1,
        "y": 0.1
       },
       "content": {
        "cell": "0607bb86-2370-4acf-8795-32d267266b6a",
        "part": "whole"
       },
       "id": "d9c400d9-0ab4-4719-ab27-8f847cbae149"
      }
     }
    },
    "c88ab4f3-a6c4-4246-a0fb-e17762f8949d": {
     "id": "c88ab4f3-a6c4-4246-a0fb-e17762f8949d",
     "prev": "f1f8be23-3c2d-4048-812d-da820bb40ca9",
     "regions": {
      "d7af9bbf-e419-4c11-8c81-3729657437dc": {
       "attrs": {
        "height": 0.8,
        "width": 0.8,
        "x": 0.1,
        "y": 0.1
       },
       "content": {
        "cell": "b28f86b1-92dc-4d4b-9826-8c843db7eb3b",
        "part": "whole"
       },
       "id": "d7af9bbf-e419-4c11-8c81-3729657437dc"
      }
     }
    },
    "cb803890-402f-4337-a243-6b2208e1bb75": {
     "id": "cb803890-402f-4337-a243-6b2208e1bb75",
     "prev": "c363b895-7ae0-4fe1-9fa4-68f091a87e3e",
     "regions": {
      "dd98083d-af07-45d3-8db8-0fcd919c121d": {
       "attrs": {
        "height": 0.8,
        "width": 0.8,
        "x": 0.1,
        "y": 0.1
       },
       "content": {
        "cell": "b4b9159c-0116-449a-badc-35b1fa51eb26",
        "part": "whole"
       },
       "id": "dd98083d-af07-45d3-8db8-0fcd919c121d"
      }
     }
    },
    "cc39cc6d-f0fd-4094-895a-08c06775b661": {
     "id": "cc39cc6d-f0fd-4094-895a-08c06775b661",
     "prev": "7ab6364f-2e2f-450f-a437-7fd50b2442b2",
     "regions": {
      "5917ddd6-191a-4a99-b086-acfd931e9217": {
       "attrs": {
        "height": 0.8,
        "width": 0.8,
        "x": 0.1,
        "y": 0.1
       },
       "content": {
        "cell": "4bd13ad9-1ccf-4094-b42b-ff509355312b",
        "part": "whole"
       },
       "id": "5917ddd6-191a-4a99-b086-acfd931e9217"
      }
     }
    },
    "cd904cba-3046-4b26-a965-5375d4fbcdd0": {
     "id": "cd904cba-3046-4b26-a965-5375d4fbcdd0",
     "prev": "db51f13c-61c5-480f-8033-585701ab8eb2",
     "regions": {
      "49004092-da3f-4ef7-9101-4482ba2380d9": {
       "attrs": {
        "height": 0.8,
        "width": 0.8,
        "x": 0.1,
        "y": 0.1
       },
       "content": {
        "cell": "8804c138-8c21-48e3-b09e-9d3b544b3087",
        "part": "whole"
       },
       "id": "49004092-da3f-4ef7-9101-4482ba2380d9"
      }
     }
    },
    "cefd665c-33fb-44b8-aad6-69a06dd5c6b7": {
     "id": "cefd665c-33fb-44b8-aad6-69a06dd5c6b7",
     "prev": "b6488bd2-ace4-4a37-9fc7-7b2fc4a2d6ef",
     "regions": {
      "1fc8482b-eb5a-48bb-8eb7-22ce152e5fd0": {
       "attrs": {
        "height": 0.8,
        "width": 0.8,
        "x": 0.1,
        "y": 0.1
       },
       "content": {
        "cell": "2cb23c01-53e3-406c-8859-70178b8586a0",
        "part": "whole"
       },
       "id": "1fc8482b-eb5a-48bb-8eb7-22ce152e5fd0"
      }
     }
    },
    "d12f0492-7df4-43ec-b3ce-05a69ad59a90": {
     "id": "d12f0492-7df4-43ec-b3ce-05a69ad59a90",
     "prev": "fa620cbc-2d49-4be2-9dcc-005caf578cce",
     "regions": {
      "3022f1df-77d9-45a2-a58e-3987b5c70899": {
       "attrs": {
        "height": 0.8,
        "width": 0.8,
        "x": 0.1,
        "y": 0.1
       },
       "content": {
        "cell": "cfb9f1bc-06a5-44cb-a4ef-13665d721f35",
        "part": "whole"
       },
       "id": "3022f1df-77d9-45a2-a58e-3987b5c70899"
      }
     }
    },
    "d1554a34-bc37-4297-867d-4661a340ed43": {
     "id": "d1554a34-bc37-4297-867d-4661a340ed43",
     "prev": "ae727967-80c4-43cf-a5c7-9123318e7f84",
     "regions": {
      "5fd2edc5-b178-4d41-ba66-b674ad94c130": {
       "attrs": {
        "height": 0.8,
        "width": 0.8,
        "x": 0.1,
        "y": 0.1
       },
       "content": {
        "cell": "71d3a95a-5650-4328-8b64-1794a4f4c4c4",
        "part": "whole"
       },
       "id": "5fd2edc5-b178-4d41-ba66-b674ad94c130"
      }
     }
    },
    "d8515396-81d5-4c7a-8342-d80c4db0de53": {
     "id": "d8515396-81d5-4c7a-8342-d80c4db0de53",
     "prev": "5c43cc32-9965-4832-b3c6-cc4ede882ef1",
     "regions": {
      "1af802da-11fb-4828-9a79-018d26a36e70": {
       "attrs": {
        "height": 0.8,
        "width": 0.8,
        "x": 0.1,
        "y": 0.1
       },
       "content": {
        "cell": "7d84b86c-07be-45cd-b093-9aab9d7672cd",
        "part": "whole"
       },
       "id": "1af802da-11fb-4828-9a79-018d26a36e70"
      }
     }
    },
    "db51f13c-61c5-480f-8033-585701ab8eb2": {
     "id": "db51f13c-61c5-480f-8033-585701ab8eb2",
     "prev": "a35416e8-01f9-4a87-97e8-80b6832ff539",
     "regions": {
      "8c3ef5d8-119c-4ed2-a343-2fe13b414fc4": {
       "attrs": {
        "height": 0.8,
        "width": 0.8,
        "x": 0.1,
        "y": 0.1
       },
       "content": {
        "cell": "b2c29424-5e86-4adb-ae24-7b20a73e208b",
        "part": "whole"
       },
       "id": "8c3ef5d8-119c-4ed2-a343-2fe13b414fc4"
      }
     }
    },
    "ee762550-c19d-4cd7-b06b-bbd48a77116f": {
     "id": "ee762550-c19d-4cd7-b06b-bbd48a77116f",
     "prev": "27fb52a0-dd09-45a1-aa21-d919d9dc5101",
     "regions": {
      "9257ca20-4959-484b-8292-9c198885f700": {
       "attrs": {
        "height": 0.8,
        "width": 0.8,
        "x": 0.1,
        "y": 0.1
       },
       "content": {
        "cell": "90d5f668-5d33-4ad3-bf3c-b2af31dc9258",
        "part": "whole"
       },
       "id": "9257ca20-4959-484b-8292-9c198885f700"
      }
     }
    },
    "f016132b-0e5f-4c8c-8334-5625ee209e56": {
     "id": "f016132b-0e5f-4c8c-8334-5625ee209e56",
     "prev": "2f0333f0-6d7f-49ff-9c72-1851c7a45651",
     "regions": {
      "03cc7d19-74e6-49c8-8cd4-91515b89fd49": {
       "attrs": {
        "height": 0.8,
        "width": 0.8,
        "x": 0.1,
        "y": 0.1
       },
       "content": {
        "cell": "5e1fb1e2-db3d-459b-a3ba-8d10027cfc85",
        "part": "whole"
       },
       "id": "03cc7d19-74e6-49c8-8cd4-91515b89fd49"
      }
     }
    },
    "f1f8be23-3c2d-4048-812d-da820bb40ca9": {
     "id": "f1f8be23-3c2d-4048-812d-da820bb40ca9",
     "prev": "736edf1c-74b9-4176-91ff-edfa38daf812",
     "regions": {
      "b5d882ea-2e74-41ce-b061-03224bd6ba03": {
       "attrs": {
        "height": 0.8,
        "width": 0.8,
        "x": 0.1,
        "y": 0.1
       },
       "content": {
        "cell": "1cffeba4-8c07-4185-820b-4be618c83126",
        "part": "whole"
       },
       "id": "b5d882ea-2e74-41ce-b061-03224bd6ba03"
      }
     }
    },
    "f2e4e249-2375-456c-9a32-22d1c9d5263b": {
     "id": "f2e4e249-2375-456c-9a32-22d1c9d5263b",
     "prev": "0247b33c-c127-4d1f-ab38-793f616b44f2",
     "regions": {
      "5b2f1fec-54d7-43b7-9bfc-d33c7eeb85cb": {
       "attrs": {
        "height": 0.8,
        "width": 0.8,
        "x": 0.1,
        "y": 0.1
       },
       "content": {
        "cell": "254f8177-3819-4f54-b7d0-b005571f8cde",
        "part": "whole"
       },
       "id": "5b2f1fec-54d7-43b7-9bfc-d33c7eeb85cb"
      }
     }
    },
    "f2f546ef-7145-48d7-8cc3-e1d76e4a8e84": {
     "id": "f2f546ef-7145-48d7-8cc3-e1d76e4a8e84",
     "prev": "2c3b9984-ce5e-403b-b2a1-67ce4caa90a7",
     "regions": {
      "14c97dbb-ec63-4c71-8307-e2ce83bd3a17": {
       "attrs": {
        "height": 0.8,
        "width": 0.8,
        "x": 0.1,
        "y": 0.1
       },
       "content": {
        "cell": "70224212-e675-4809-a69e-514a5410ab21",
        "part": "whole"
       },
       "id": "14c97dbb-ec63-4c71-8307-e2ce83bd3a17"
      }
     }
    },
    "f5804278-9a91-415d-bb2e-dd724fa2b634": {
     "id": "f5804278-9a91-415d-bb2e-dd724fa2b634",
     "prev": "b868b4a7-42dd-4acd-9566-d2fcab659664",
     "regions": {
      "933ad6cc-9c8e-442f-b256-af329e46ed72": {
       "attrs": {
        "height": 0.8,
        "width": 0.8,
        "x": 0.1,
        "y": 0.1
       },
       "content": {
        "cell": "16b42f49-7717-43d3-9c69-5b1c9f09a257",
        "part": "whole"
       },
       "id": "933ad6cc-9c8e-442f-b256-af329e46ed72"
      }
     }
    },
    "fa620cbc-2d49-4be2-9dcc-005caf578cce": {
     "id": "fa620cbc-2d49-4be2-9dcc-005caf578cce",
     "prev": "5656ebab-0711-4034-8e8f-bd7b69dd5e3b",
     "regions": {
      "6a9c1e69-650c-44e3-94ba-02b6efee9f88": {
       "attrs": {
        "height": 0.8,
        "width": 0.8,
        "x": 0.1,
        "y": 0.1
       },
       "content": {
        "cell": "f742a620-2542-4bbb-a803-aa9b4ea77796",
        "part": "whole"
       },
       "id": "6a9c1e69-650c-44e3-94ba-02b6efee9f88"
      }
     }
    },
    "fa9b87f5-68cc-4a61-b8a8-0f3e16309668": {
     "id": "fa9b87f5-68cc-4a61-b8a8-0f3e16309668",
     "prev": "93e886e4-3cdb-4b61-9845-f6e177ad5663",
     "regions": {
      "1be9980c-943a-4a31-a85e-cee12068b844": {
       "attrs": {
        "height": 0.8,
        "width": 0.8,
        "x": 0.1,
        "y": 0.1
       },
       "content": {
        "cell": "094f05ce-f64f-4bb6-b8c7-19f795d136e5",
        "part": "whole"
       },
       "id": "1be9980c-943a-4a31-a85e-cee12068b844"
      }
     }
    },
    "fe1b3a98-ddcf-4366-8300-1d69fa242111": {
     "id": "fe1b3a98-ddcf-4366-8300-1d69fa242111",
     "prev": "b244ec54-984e-47c8-9bda-4f21896f593c",
     "regions": {
      "160c8982-01bc-468b-a412-7401a28f51a5": {
       "attrs": {
        "height": 0.8,
        "width": 0.8,
        "x": 0.1,
        "y": 0.1
       },
       "content": {
        "cell": "5c799790-b8ba-477b-9e7d-cc61c9a8e354",
        "part": "whole"
       },
       "id": "160c8982-01bc-468b-a412-7401a28f51a5"
      }
     }
    },
    "fe1c894a-9469-4537-bf31-774a1a783654": {
     "id": "fe1c894a-9469-4537-bf31-774a1a783654",
     "prev": "9ca97464-4823-42b5-8530-9e45d50e4852",
     "regions": {
      "b1f3f10c-892e-44a2-8877-366d31259a58": {
       "attrs": {
        "height": 0.8,
        "width": 0.8,
        "x": 0.1,
        "y": 0.1
       },
       "content": {
        "cell": "bdbde683-3673-4431-95d6-ae2ca5f9ac1f",
        "part": "whole"
       },
       "id": "b1f3f10c-892e-44a2-8877-366d31259a58"
      }
     }
    }
   },
   "themes": {
    "default": "0299538f-13c9-4cac-9b7b-e339eeb04375",
    "theme": {}
   }
  },
  "toc": {
   "base_numbering": 1,
   "nav_menu": {},
   "number_sections": false,
   "sideBar": true,
   "skip_h1_title": false,
   "title_cell": "Table of Contents",
   "title_sidebar": "Contents",
   "toc_cell": false,
   "toc_position": {
    "height": "calc(100% - 180px)",
    "left": "10px",
    "top": "150px",
    "width": "165px"
   },
   "toc_section_display": true,
   "toc_window_display": false
  },
  "varInspector": {
   "cols": {
    "lenName": 16,
    "lenType": 16,
    "lenVar": 40
   },
   "kernels_config": {
    "python": {
     "delete_cmd_postfix": "",
     "delete_cmd_prefix": "del ",
     "library": "var_list.py",
     "varRefreshCmd": "print(var_dic_list())"
    },
    "r": {
     "delete_cmd_postfix": ") ",
     "delete_cmd_prefix": "rm(",
     "library": "var_list.r",
     "varRefreshCmd": "cat(var_dic_list()) "
    }
   },
   "types_to_exclude": [
    "module",
    "function",
    "builtin_function_or_method",
    "instance",
    "_Feature"
   ],
   "window_display": false
  }
 },
 "nbformat": 4,
 "nbformat_minor": 4
}
